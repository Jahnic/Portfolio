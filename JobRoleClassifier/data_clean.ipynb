{
 "metadata": {
  "language_info": {
   "codemirror_mode": {
    "name": "ipython",
    "version": 3
   },
   "file_extension": ".py",
   "mimetype": "text/x-python",
   "name": "python",
   "nbconvert_exporter": "python",
   "pygments_lexer": "ipython3",
   "version": "3.6.9-final"
  },
  "orig_nbformat": 2,
  "kernelspec": {
   "name": "python36964bit16c7df5d1eb74842826b38abd9b84d10",
   "display_name": "Python 3.6.9 64-bit"
  }
 },
 "nbformat": 4,
 "nbformat_minor": 2,
 "cells": [
  {
   "cell_type": "code",
   "execution_count": 2,
   "metadata": {},
   "outputs": [],
   "source": [
    "import pandas as pd\n",
    "import numpy as np\n",
    "import random\n",
    "import matplotlib.pyplot as plt"
   ]
  },
  {
   "source": [
    "## Wrangling \n",
    "\n",
    "### Duplicate Data"
   ],
   "cell_type": "markdown",
   "metadata": {}
  },
  {
   "cell_type": "code",
   "execution_count": 3,
   "metadata": {
    "tags": []
   },
   "outputs": [
    {
     "output_type": "stream",
     "name": "stdout",
     "text": "Number of duplicates: 539\n"
    },
    {
     "output_type": "execute_result",
     "data": {
      "text/plain": "                                             Job Title  \\\n22                                    Data Scientist -   \n68   Software Engineer (Data Scientist, C,C++,Linux...   \n91                                    Data Scientist 1   \n92                                      Data Scientist   \n93                                    Data Scientist 1   \n94                                      Data Scientist   \n118         Data Scientist - Analytics, Trust & Safety   \n122                                     Data Scientist   \n124                                     Data Scientist   \n171                                     Data Scientist   \n\n                   Salary Estimate  \\\n22                              -1   \n68    $72k-$142k\\n(Glassdoor Est.)   \n91    $94k-$152k\\n(Glassdoor Est.)   \n92                              -1   \n93    $94k-$152k\\n(Glassdoor Est.)   \n94                              -1   \n118                             -1   \n122  $100k-$136k\\n(Glassdoor Est.)   \n124  $100k-$136k\\n(Glassdoor Est.)   \n171  $120k-$191k\\n(Glassdoor Est.)   \n\n                                       Job Description  Rating  \\\n22   Our Mission\\nWe’re here to create a safer, hap...     4.5   \n68   During the current global health crisis, the p...     4.1   \n91   Who we are\\n\\n\\nFueled by a fundamental belief...     3.9   \n92   The Chan Zuckerberg Biohub (\"CZ Biohub”) is an...     3.8   \n93   Who we are\\n\\n\\nFueled by a fundamental belief...     3.9   \n94   The Chan Zuckerberg Biohub (\"CZ Biohub”) is an...     3.8   \n118  Data Scientist - Analytics, Trust & Safety\\nMo...     4.0   \n122  Job TITLE: Data Scientist\\n\\nLocation: Santa C...     4.1   \n124  Job TITLE: Data Scientist\\n\\nLocation: Santa C...     4.1   \n171  Bioinformatics Programmer II\\n\\n17-Aug-2020\\n\\...     4.1   \n\n                    Company Name           Location  Headquarters  \\\n22                 Blue Owl\\n4.5  San Francisco, CA            -1   \n68          Mentor Graphics\\n4.1        Fremont, CA            -1   \n91                   PayPal\\n3.9       San Jose, CA            -1   \n92   Chan Zuckerberg Biohub\\n3.8  San Francisco, CA            -1   \n93                   PayPal\\n3.9       San Jose, CA            -1   \n94   Chan Zuckerberg Biohub\\n3.8  San Francisco, CA            -1   \n118                  TikTok\\n4.0  Mountain View, CA            -1   \n122                 Flexton\\n4.1    Santa Clara, CA            -1   \n124                 Flexton\\n4.1    Santa Clara, CA            -1   \n171     UCSF Medical Center\\n4.1  San Francisco, CA            -1   \n\n                        Size  Founded       Type of ownership  \\\n22       51 to 200 Employees     2016       Company - Private   \n68   5001 to 10000 Employees     1981        Company - Public   \n91          10000+ Employees     1998        Company - Public   \n92         1 to 50 Employees       -1  Nonprofit Organization   \n93          10000+ Employees     1998        Company - Public   \n94         1 to 50 Employees       -1  Nonprofit Organization   \n118   1001 to 5000 Employees     2016       Company - Private   \n122      51 to 200 Employees     2007       Company - Private   \n124      51 to 200 Employees     2007       Company - Private   \n171         10000+ Employees     1907                Hospital   \n\n                             Industry                  Sector  \\\n22                           Internet  Information Technology   \n68       Computer Hardware & Software  Information Technology   \n91                           Internet  Information Technology   \n92   Health Fundraising Organizations              Non-Profit   \n93                           Internet  Information Technology   \n94   Health Fundraising Organizations              Non-Profit   \n118                          Internet  Information Technology   \n122                       IT Services  Information Technology   \n124                       IT Services  Information Technology   \n171  Health Care Services & Hospitals             Health Care   \n\n                        Revenue  Competitors  \n22     Unknown / Non-Applicable           -1  \n68       $1 to $2 billion (USD)           -1  \n91           $10+ billion (USD)           -1  \n92   Less than $1 million (USD)           -1  \n93           $10+ billion (USD)           -1  \n94   Less than $1 million (USD)           -1  \n118    Unknown / Non-Applicable           -1  \n122    $10 to $25 million (USD)           -1  \n124    $10 to $25 million (USD)           -1  \n171   $50 to $100 million (USD)           -1  ",
      "text/html": "<div>\n<style scoped>\n    .dataframe tbody tr th:only-of-type {\n        vertical-align: middle;\n    }\n\n    .dataframe tbody tr th {\n        vertical-align: top;\n    }\n\n    .dataframe thead th {\n        text-align: right;\n    }\n</style>\n<table border=\"1\" class=\"dataframe\">\n  <thead>\n    <tr style=\"text-align: right;\">\n      <th></th>\n      <th>Job Title</th>\n      <th>Salary Estimate</th>\n      <th>Job Description</th>\n      <th>Rating</th>\n      <th>Company Name</th>\n      <th>Location</th>\n      <th>Headquarters</th>\n      <th>Size</th>\n      <th>Founded</th>\n      <th>Type of ownership</th>\n      <th>Industry</th>\n      <th>Sector</th>\n      <th>Revenue</th>\n      <th>Competitors</th>\n    </tr>\n  </thead>\n  <tbody>\n    <tr>\n      <th>22</th>\n      <td>Data Scientist -</td>\n      <td>-1</td>\n      <td>Our Mission\\nWe’re here to create a safer, hap...</td>\n      <td>4.5</td>\n      <td>Blue Owl\\n4.5</td>\n      <td>San Francisco, CA</td>\n      <td>-1</td>\n      <td>51 to 200 Employees</td>\n      <td>2016</td>\n      <td>Company - Private</td>\n      <td>Internet</td>\n      <td>Information Technology</td>\n      <td>Unknown / Non-Applicable</td>\n      <td>-1</td>\n    </tr>\n    <tr>\n      <th>68</th>\n      <td>Software Engineer (Data Scientist, C,C++,Linux...</td>\n      <td>$72k-$142k\\n(Glassdoor Est.)</td>\n      <td>During the current global health crisis, the p...</td>\n      <td>4.1</td>\n      <td>Mentor Graphics\\n4.1</td>\n      <td>Fremont, CA</td>\n      <td>-1</td>\n      <td>5001 to 10000 Employees</td>\n      <td>1981</td>\n      <td>Company - Public</td>\n      <td>Computer Hardware &amp; Software</td>\n      <td>Information Technology</td>\n      <td>$1 to $2 billion (USD)</td>\n      <td>-1</td>\n    </tr>\n    <tr>\n      <th>91</th>\n      <td>Data Scientist 1</td>\n      <td>$94k-$152k\\n(Glassdoor Est.)</td>\n      <td>Who we are\\n\\n\\nFueled by a fundamental belief...</td>\n      <td>3.9</td>\n      <td>PayPal\\n3.9</td>\n      <td>San Jose, CA</td>\n      <td>-1</td>\n      <td>10000+ Employees</td>\n      <td>1998</td>\n      <td>Company - Public</td>\n      <td>Internet</td>\n      <td>Information Technology</td>\n      <td>$10+ billion (USD)</td>\n      <td>-1</td>\n    </tr>\n    <tr>\n      <th>92</th>\n      <td>Data Scientist</td>\n      <td>-1</td>\n      <td>The Chan Zuckerberg Biohub (\"CZ Biohub”) is an...</td>\n      <td>3.8</td>\n      <td>Chan Zuckerberg Biohub\\n3.8</td>\n      <td>San Francisco, CA</td>\n      <td>-1</td>\n      <td>1 to 50 Employees</td>\n      <td>-1</td>\n      <td>Nonprofit Organization</td>\n      <td>Health Fundraising Organizations</td>\n      <td>Non-Profit</td>\n      <td>Less than $1 million (USD)</td>\n      <td>-1</td>\n    </tr>\n    <tr>\n      <th>93</th>\n      <td>Data Scientist 1</td>\n      <td>$94k-$152k\\n(Glassdoor Est.)</td>\n      <td>Who we are\\n\\n\\nFueled by a fundamental belief...</td>\n      <td>3.9</td>\n      <td>PayPal\\n3.9</td>\n      <td>San Jose, CA</td>\n      <td>-1</td>\n      <td>10000+ Employees</td>\n      <td>1998</td>\n      <td>Company - Public</td>\n      <td>Internet</td>\n      <td>Information Technology</td>\n      <td>$10+ billion (USD)</td>\n      <td>-1</td>\n    </tr>\n    <tr>\n      <th>94</th>\n      <td>Data Scientist</td>\n      <td>-1</td>\n      <td>The Chan Zuckerberg Biohub (\"CZ Biohub”) is an...</td>\n      <td>3.8</td>\n      <td>Chan Zuckerberg Biohub\\n3.8</td>\n      <td>San Francisco, CA</td>\n      <td>-1</td>\n      <td>1 to 50 Employees</td>\n      <td>-1</td>\n      <td>Nonprofit Organization</td>\n      <td>Health Fundraising Organizations</td>\n      <td>Non-Profit</td>\n      <td>Less than $1 million (USD)</td>\n      <td>-1</td>\n    </tr>\n    <tr>\n      <th>118</th>\n      <td>Data Scientist - Analytics, Trust &amp; Safety</td>\n      <td>-1</td>\n      <td>Data Scientist - Analytics, Trust &amp; Safety\\nMo...</td>\n      <td>4.0</td>\n      <td>TikTok\\n4.0</td>\n      <td>Mountain View, CA</td>\n      <td>-1</td>\n      <td>1001 to 5000 Employees</td>\n      <td>2016</td>\n      <td>Company - Private</td>\n      <td>Internet</td>\n      <td>Information Technology</td>\n      <td>Unknown / Non-Applicable</td>\n      <td>-1</td>\n    </tr>\n    <tr>\n      <th>122</th>\n      <td>Data Scientist</td>\n      <td>$100k-$136k\\n(Glassdoor Est.)</td>\n      <td>Job TITLE: Data Scientist\\n\\nLocation: Santa C...</td>\n      <td>4.1</td>\n      <td>Flexton\\n4.1</td>\n      <td>Santa Clara, CA</td>\n      <td>-1</td>\n      <td>51 to 200 Employees</td>\n      <td>2007</td>\n      <td>Company - Private</td>\n      <td>IT Services</td>\n      <td>Information Technology</td>\n      <td>$10 to $25 million (USD)</td>\n      <td>-1</td>\n    </tr>\n    <tr>\n      <th>124</th>\n      <td>Data Scientist</td>\n      <td>$100k-$136k\\n(Glassdoor Est.)</td>\n      <td>Job TITLE: Data Scientist\\n\\nLocation: Santa C...</td>\n      <td>4.1</td>\n      <td>Flexton\\n4.1</td>\n      <td>Santa Clara, CA</td>\n      <td>-1</td>\n      <td>51 to 200 Employees</td>\n      <td>2007</td>\n      <td>Company - Private</td>\n      <td>IT Services</td>\n      <td>Information Technology</td>\n      <td>$10 to $25 million (USD)</td>\n      <td>-1</td>\n    </tr>\n    <tr>\n      <th>171</th>\n      <td>Data Scientist</td>\n      <td>$120k-$191k\\n(Glassdoor Est.)</td>\n      <td>Bioinformatics Programmer II\\n\\n17-Aug-2020\\n\\...</td>\n      <td>4.1</td>\n      <td>UCSF Medical Center\\n4.1</td>\n      <td>San Francisco, CA</td>\n      <td>-1</td>\n      <td>10000+ Employees</td>\n      <td>1907</td>\n      <td>Hospital</td>\n      <td>Health Care Services &amp; Hospitals</td>\n      <td>Health Care</td>\n      <td>$50 to $100 million (USD)</td>\n      <td>-1</td>\n    </tr>\n  </tbody>\n</table>\n</div>"
     },
     "metadata": {},
     "execution_count": 3
    }
   ],
   "source": [
    "# Data Science\n",
    "df_ds = pd.read_csv(\"data/data_scientist.csv\").iloc[:, 1 :] # remove index column\n",
    "# Data Engineering \n",
    "df_de = pd.read_csv(\"data/data_engineer.csv\").iloc[:, 1 :]\n",
    "# Data Analysis\n",
    "df_da = pd.read_csv(\"data/data_analyst.csv\").iloc[:, 1 :]\n",
    "# ML engineering\n",
    "df_ml = pd.read_csv(\"data/ml_engineer.csv\").iloc[:, 1 :]\n",
    "\n",
    "# Duplicated Job Descriptions\n",
    "duplicates_mask = df_ds[\"Job Description\"].duplicated(keep=False) == True\n",
    "print(\"Number of duplicates:\", duplicates_mask.sum())\n",
    "df_ds[duplicates_mask].head(10)"
   ]
  },
  {
   "cell_type": "code",
   "execution_count": 4,
   "metadata": {},
   "outputs": [
    {
     "output_type": "execute_result",
     "data": {
      "text/plain": "                                             Job Title  \\\n68   Software Engineer (Data Scientist, C,C++,Linux...   \n748  Software Engineer (Data Scientist, C,C++,Linux...   \n\n                  Salary Estimate  \\\n68   $72k-$142k\\n(Glassdoor Est.)   \n748  $57k-$119k\\n(Glassdoor Est.)   \n\n                                       Job Description  Rating  \\\n68   During the current global health crisis, the p...     4.1   \n748  During the current global health crisis, the p...     4.0   \n\n                  Company Name     Location  Headquarters  \\\n68        Mentor Graphics\\n4.1  Fremont, CA            -1   \n748  Siemens Healthineers\\n4.0  Fremont, CA            -1   \n\n                        Size  Founded Type of ownership  \\\n68   5001 to 10000 Employees     1981  Company - Public   \n748         10000+ Employees     1847  Company - Public   \n\n                             Industry                  Sector  \\\n68       Computer Hardware & Software  Information Technology   \n748  Health Care Services & Hospitals             Health Care   \n\n                    Revenue  Competitors  \n68   $1 to $2 billion (USD)           -1  \n748      $10+ billion (USD)           -1  ",
      "text/html": "<div>\n<style scoped>\n    .dataframe tbody tr th:only-of-type {\n        vertical-align: middle;\n    }\n\n    .dataframe tbody tr th {\n        vertical-align: top;\n    }\n\n    .dataframe thead th {\n        text-align: right;\n    }\n</style>\n<table border=\"1\" class=\"dataframe\">\n  <thead>\n    <tr style=\"text-align: right;\">\n      <th></th>\n      <th>Job Title</th>\n      <th>Salary Estimate</th>\n      <th>Job Description</th>\n      <th>Rating</th>\n      <th>Company Name</th>\n      <th>Location</th>\n      <th>Headquarters</th>\n      <th>Size</th>\n      <th>Founded</th>\n      <th>Type of ownership</th>\n      <th>Industry</th>\n      <th>Sector</th>\n      <th>Revenue</th>\n      <th>Competitors</th>\n    </tr>\n  </thead>\n  <tbody>\n    <tr>\n      <th>68</th>\n      <td>Software Engineer (Data Scientist, C,C++,Linux...</td>\n      <td>$72k-$142k\\n(Glassdoor Est.)</td>\n      <td>During the current global health crisis, the p...</td>\n      <td>4.1</td>\n      <td>Mentor Graphics\\n4.1</td>\n      <td>Fremont, CA</td>\n      <td>-1</td>\n      <td>5001 to 10000 Employees</td>\n      <td>1981</td>\n      <td>Company - Public</td>\n      <td>Computer Hardware &amp; Software</td>\n      <td>Information Technology</td>\n      <td>$1 to $2 billion (USD)</td>\n      <td>-1</td>\n    </tr>\n    <tr>\n      <th>748</th>\n      <td>Software Engineer (Data Scientist, C,C++,Linux...</td>\n      <td>$57k-$119k\\n(Glassdoor Est.)</td>\n      <td>During the current global health crisis, the p...</td>\n      <td>4.0</td>\n      <td>Siemens Healthineers\\n4.0</td>\n      <td>Fremont, CA</td>\n      <td>-1</td>\n      <td>10000+ Employees</td>\n      <td>1847</td>\n      <td>Company - Public</td>\n      <td>Health Care Services &amp; Hospitals</td>\n      <td>Health Care</td>\n      <td>$10+ billion (USD)</td>\n      <td>-1</td>\n    </tr>\n  </tbody>\n</table>\n</div>"
     },
     "metadata": {},
     "execution_count": 4
    }
   ],
   "source": [
    "# Duplicates associated of record at index \"i\"\n",
    "i = 68\n",
    "job_description = df_ds.loc[i, \"Job Description\"]\n",
    "df_ds[df_ds[\"Job Description\"] == job_description]"
   ]
  },
  {
   "cell_type": "code",
   "execution_count": 5,
   "metadata": {},
   "outputs": [
    {
     "output_type": "execute_result",
     "data": {
      "text/plain": "                                             Job Title  \\\n745     Machine Learning Engineer, 2+ Years Experience   \n746                  Data Engineer - Product Analytics   \n747  Looking for Data Scientist - Machine Learning ...   \n748  Software Engineer (Data Scientist, C,C++,Linux...   \n749                  Principal Data Scientist 200000CC   \n750                          Machine Learning Engineer   \n\n                   Salary Estimate  \\\n745  $113k-$196k\\n(Glassdoor Est.)   \n746  $100k-$179k\\n(Glassdoor Est.)   \n747                             -1   \n748   $57k-$119k\\n(Glassdoor Est.)   \n749                             -1   \n750                             -1   \n\n                                       Job Description  Rating  \\\n745  Snap Inc. is a camera company. We believe that...     3.9   \n746  ABOUT THE TEAM\\n\\n\\nThe data engineering team ...     3.4   \n747  Looking for Data Scientist - Machine Learning ...     4.9   \n748  During the current global health crisis, the p...     4.0   \n749  Principal Data Scientist 200000CC\\nWork Locati...     2.0   \n750  Lead AI development in delivering value to our...     2.8   \n\n                          Company Name           Location  Headquarters  \\\n745                          Snap\\n3.9    Los Angeles, CA            -1   \n746                    Stitch Fix\\n3.4  San Francisco, CA            -1   \n747  Tekishub Consulting Services\\n4.9      Sunnyvale, CA            -1   \n748          Siemens Healthineers\\n4.0        Fremont, CA            -1   \n749                  Tech-Connect\\n2.0    Los Angeles, CA            -1   \n750                 Digital Dhara\\n2.8       San Jose, CA            -1   \n\n                        Size  Founded  Type of ownership  \\\n745   1001 to 5000 Employees     2011   Company - Public   \n746  5001 to 10000 Employees     2011   Company - Public   \n747     201 to 500 Employees     2008  Company - Private   \n748         10000+ Employees     1847   Company - Public   \n749        1 to 50 Employees       -1  Company - Private   \n750        1 to 50 Employees       -1  Company - Private   \n\n                                    Industry                  Sector  \\\n745             Computer Hardware & Software  Information Technology   \n746                      Other Retail Stores                  Retail   \n747                              IT Services  Information Technology   \n748         Health Care Services & Hospitals             Health Care   \n749  Enterprise Software & Network Solutions  Information Technology   \n750                                       -1                      -1   \n\n                              Revenue  Competitors  \n745          Unknown / Non-Applicable           -1  \n746  $500 million to $1 billion (USD)           -1  \n747         $50 to $100 million (USD)           -1  \n748                $10+ billion (USD)           -1  \n749            $1 to $5 million (USD)           -1  \n750        Less than $1 million (USD)           -1  ",
      "text/html": "<div>\n<style scoped>\n    .dataframe tbody tr th:only-of-type {\n        vertical-align: middle;\n    }\n\n    .dataframe tbody tr th {\n        vertical-align: top;\n    }\n\n    .dataframe thead th {\n        text-align: right;\n    }\n</style>\n<table border=\"1\" class=\"dataframe\">\n  <thead>\n    <tr style=\"text-align: right;\">\n      <th></th>\n      <th>Job Title</th>\n      <th>Salary Estimate</th>\n      <th>Job Description</th>\n      <th>Rating</th>\n      <th>Company Name</th>\n      <th>Location</th>\n      <th>Headquarters</th>\n      <th>Size</th>\n      <th>Founded</th>\n      <th>Type of ownership</th>\n      <th>Industry</th>\n      <th>Sector</th>\n      <th>Revenue</th>\n      <th>Competitors</th>\n    </tr>\n  </thead>\n  <tbody>\n    <tr>\n      <th>745</th>\n      <td>Machine Learning Engineer, 2+ Years Experience</td>\n      <td>$113k-$196k\\n(Glassdoor Est.)</td>\n      <td>Snap Inc. is a camera company. We believe that...</td>\n      <td>3.9</td>\n      <td>Snap\\n3.9</td>\n      <td>Los Angeles, CA</td>\n      <td>-1</td>\n      <td>1001 to 5000 Employees</td>\n      <td>2011</td>\n      <td>Company - Public</td>\n      <td>Computer Hardware &amp; Software</td>\n      <td>Information Technology</td>\n      <td>Unknown / Non-Applicable</td>\n      <td>-1</td>\n    </tr>\n    <tr>\n      <th>746</th>\n      <td>Data Engineer - Product Analytics</td>\n      <td>$100k-$179k\\n(Glassdoor Est.)</td>\n      <td>ABOUT THE TEAM\\n\\n\\nThe data engineering team ...</td>\n      <td>3.4</td>\n      <td>Stitch Fix\\n3.4</td>\n      <td>San Francisco, CA</td>\n      <td>-1</td>\n      <td>5001 to 10000 Employees</td>\n      <td>2011</td>\n      <td>Company - Public</td>\n      <td>Other Retail Stores</td>\n      <td>Retail</td>\n      <td>$500 million to $1 billion (USD)</td>\n      <td>-1</td>\n    </tr>\n    <tr>\n      <th>747</th>\n      <td>Looking for Data Scientist - Machine Learning ...</td>\n      <td>-1</td>\n      <td>Looking for Data Scientist - Machine Learning ...</td>\n      <td>4.9</td>\n      <td>Tekishub Consulting Services\\n4.9</td>\n      <td>Sunnyvale, CA</td>\n      <td>-1</td>\n      <td>201 to 500 Employees</td>\n      <td>2008</td>\n      <td>Company - Private</td>\n      <td>IT Services</td>\n      <td>Information Technology</td>\n      <td>$50 to $100 million (USD)</td>\n      <td>-1</td>\n    </tr>\n    <tr>\n      <th>748</th>\n      <td>Software Engineer (Data Scientist, C,C++,Linux...</td>\n      <td>$57k-$119k\\n(Glassdoor Est.)</td>\n      <td>During the current global health crisis, the p...</td>\n      <td>4.0</td>\n      <td>Siemens Healthineers\\n4.0</td>\n      <td>Fremont, CA</td>\n      <td>-1</td>\n      <td>10000+ Employees</td>\n      <td>1847</td>\n      <td>Company - Public</td>\n      <td>Health Care Services &amp; Hospitals</td>\n      <td>Health Care</td>\n      <td>$10+ billion (USD)</td>\n      <td>-1</td>\n    </tr>\n    <tr>\n      <th>749</th>\n      <td>Principal Data Scientist 200000CC</td>\n      <td>-1</td>\n      <td>Principal Data Scientist 200000CC\\nWork Locati...</td>\n      <td>2.0</td>\n      <td>Tech-Connect\\n2.0</td>\n      <td>Los Angeles, CA</td>\n      <td>-1</td>\n      <td>1 to 50 Employees</td>\n      <td>-1</td>\n      <td>Company - Private</td>\n      <td>Enterprise Software &amp; Network Solutions</td>\n      <td>Information Technology</td>\n      <td>$1 to $5 million (USD)</td>\n      <td>-1</td>\n    </tr>\n    <tr>\n      <th>750</th>\n      <td>Machine Learning Engineer</td>\n      <td>-1</td>\n      <td>Lead AI development in delivering value to our...</td>\n      <td>2.8</td>\n      <td>Digital Dhara\\n2.8</td>\n      <td>San Jose, CA</td>\n      <td>-1</td>\n      <td>1 to 50 Employees</td>\n      <td>-1</td>\n      <td>Company - Private</td>\n      <td>-1</td>\n      <td>-1</td>\n      <td>Less than $1 million (USD)</td>\n      <td>-1</td>\n    </tr>\n  </tbody>\n</table>\n</div>"
     },
     "metadata": {},
     "execution_count": 5
    }
   ],
   "source": [
    "# Inspect records close to the duplicate found at index 748\n",
    "df_ds.iloc[745:751]"
   ]
  },
  {
   "cell_type": "code",
   "execution_count": 6,
   "metadata": {},
   "outputs": [
    {
     "output_type": "execute_result",
     "data": {
      "text/plain": "527"
     },
     "metadata": {},
     "execution_count": 6
    }
   ],
   "source": [
    "# Duplicate records\n",
    "df_ds.duplicated(keep=False).sum()"
   ]
  },
  {
   "cell_type": "code",
   "execution_count": 7,
   "metadata": {},
   "outputs": [],
   "source": [
    "# Remove duplicates\n",
    "df_1 = df_ds[df_ds.duplicated() == False]\n",
    "df_2 = df_de[df_de.duplicated() == False]\n",
    "df_3 = df_da[df_da.duplicated() == False]\n",
    "df_4 = df_ml[df_ml.duplicated() == False]"
   ]
  },
  {
   "cell_type": "code",
   "execution_count": 8,
   "metadata": {},
   "outputs": [
    {
     "output_type": "execute_result",
     "data": {
      "text/plain": "                                              Job Title  \\\n0                                    Sr. DATA SCIENTIST   \n1                          Data Scientist - Telecommute   \n2                Clinical Laboratory Scientist PM Shift   \n3                               Manufacturing Scientist   \n4                   Data Scientist, Medical Diagnostics   \n...                                                 ...   \n2416  Modem Systems Engineer (5G/LTE Advanced Algori...   \n2417                              Senior Data Scientist   \n2418                 Data Scientist, Life Sciences (US)   \n2419  Senior Data Scientist, (Genomics, Presicion Me...   \n2420  Principal Data Scientist - Health Economics & ...   \n\n                    Salary Estimate  \\\n0     $155k-$247k\\n(Glassdoor Est.)   \n1      $67k-$117k\\n(Glassdoor Est.)   \n2                                -1   \n3       $41k-$91k\\n(Glassdoor Est.)   \n4                                -1   \n...                             ...   \n2416   $97k-$123k\\n(Glassdoor Est.)   \n2417                             -1   \n2418   $97k-$156k\\n(Glassdoor Est.)   \n2419   $97k-$158k\\n(Glassdoor Est.)   \n2420  $134k-$218k\\n(Glassdoor Est.)   \n\n                                        Job Description  Rating  \\\n0     Title: Sr. Data Scientist\\n\\nCompany: Samsung ...     3.7   \n1     Optum Payment Integrity Analytics is looking t...     3.4   \n2     Testing is the most significant bottleneck in ...    -1.0   \n3     Biomerica Corporation focusing on the research...     2.5   \n4     _*The Company*_\\nThe world is facing a medical...     1.0   \n...                                                 ...     ...   \n2416  Modem Systems Engineer (5G/LTE – Advanced Algo...     3.5   \n2417  WHO WE ARE\\n\\nKinship, Mars Petcare's newest d...    -1.0   \n2418  CitiusTech is a leader in HealthCare innovatio...     3.7   \n2419  About City of Hope\\nCity of Hope, an innovativ...     3.4   \n2420  The Position\\n\\n\\nPosition is based in South S...     4.1   \n\n                          Company Name           Location  Headquarters  \\\n0        Samsung Research America\\n3.7  Mountain View, CA            -1   \n1              Unitedhealth Group\\n3.4      San Diego, CA            -1   \n2                            SummerBio     Menlo Park, CA            -1   \n3                       Biomerica\\n2.5         Irvine, CA            -1   \n4            Specific Diagnostics\\n1.0  Mountain View, CA            -1   \n...                                ...                ...           ...   \n2416  Samsung Semiconductor, Inc.\\n3.5      San Diego, CA            -1   \n2417                           Kinship  San Francisco, CA            -1   \n2418                   CitiusTech\\n3.7  San Francisco, CA            -1   \n2419                 City of Hope\\n3.4      Irwindale, CA            -1   \n2420                    Genentech\\n4.1    Los Angeles, CA            -1   \n\n                         Size  Founded               Type of ownership  \\\n0      1001 to 5000 Employees     1988  Subsidiary or Business Segment   \n1            10000+ Employees     1977                Company - Public   \n2                          -1       -1                              -1   \n3           1 to 50 Employees       -1                Company - Public   \n4           1 to 50 Employees       -1               Company - Private   \n...                       ...      ...                             ...   \n2416   1001 to 5000 Employees     1983  Subsidiary or Business Segment   \n2417        1 to 50 Employees       -1               Company - Private   \n2418   1001 to 5000 Employees     2005               Company - Private   \n2419  5001 to 10000 Employees     1913          Nonprofit Organization   \n2420         10000+ Employees     1976  Subsidiary or Business Segment   \n\n                              Industry                     Sector  \\\n0         Computer Hardware & Software     Information Technology   \n1     Health Care Services & Hospitals                Health Care   \n2                                   -1                         -1   \n3            Biotech & Pharmaceuticals  Biotech & Pharmaceuticals   \n4                                   -1                         -1   \n...                                ...                        ...   \n2416      Computer Hardware & Software     Information Technology   \n2417           Advertising & Marketing          Business Services   \n2418                       IT Services     Information Technology   \n2419  Health Care Services & Hospitals                Health Care   \n2420         Biotech & Pharmaceuticals  Biotech & Pharmaceuticals   \n\n                         Revenue  Competitors  \n0      $50 to $100 million (USD)           -1  \n1             $10+ billion (USD)           -1  \n2                             -1           -1  \n3        $5 to $10 million (USD)           -1  \n4     Less than $1 million (USD)           -1  \n...                          ...          ...  \n2416    Unknown / Non-Applicable           -1  \n2417  Less than $1 million (USD)           -1  \n2418  $100 to $500 million (USD)           -1  \n2419  $100 to $500 million (USD)           -1  \n2420          $10+ billion (USD)           -1  \n\n[2421 rows x 14 columns]",
      "text/html": "<div>\n<style scoped>\n    .dataframe tbody tr th:only-of-type {\n        vertical-align: middle;\n    }\n\n    .dataframe tbody tr th {\n        vertical-align: top;\n    }\n\n    .dataframe thead th {\n        text-align: right;\n    }\n</style>\n<table border=\"1\" class=\"dataframe\">\n  <thead>\n    <tr style=\"text-align: right;\">\n      <th></th>\n      <th>Job Title</th>\n      <th>Salary Estimate</th>\n      <th>Job Description</th>\n      <th>Rating</th>\n      <th>Company Name</th>\n      <th>Location</th>\n      <th>Headquarters</th>\n      <th>Size</th>\n      <th>Founded</th>\n      <th>Type of ownership</th>\n      <th>Industry</th>\n      <th>Sector</th>\n      <th>Revenue</th>\n      <th>Competitors</th>\n    </tr>\n  </thead>\n  <tbody>\n    <tr>\n      <th>0</th>\n      <td>Sr. DATA SCIENTIST</td>\n      <td>$155k-$247k\\n(Glassdoor Est.)</td>\n      <td>Title: Sr. Data Scientist\\n\\nCompany: Samsung ...</td>\n      <td>3.7</td>\n      <td>Samsung Research America\\n3.7</td>\n      <td>Mountain View, CA</td>\n      <td>-1</td>\n      <td>1001 to 5000 Employees</td>\n      <td>1988</td>\n      <td>Subsidiary or Business Segment</td>\n      <td>Computer Hardware &amp; Software</td>\n      <td>Information Technology</td>\n      <td>$50 to $100 million (USD)</td>\n      <td>-1</td>\n    </tr>\n    <tr>\n      <th>1</th>\n      <td>Data Scientist - Telecommute</td>\n      <td>$67k-$117k\\n(Glassdoor Est.)</td>\n      <td>Optum Payment Integrity Analytics is looking t...</td>\n      <td>3.4</td>\n      <td>Unitedhealth Group\\n3.4</td>\n      <td>San Diego, CA</td>\n      <td>-1</td>\n      <td>10000+ Employees</td>\n      <td>1977</td>\n      <td>Company - Public</td>\n      <td>Health Care Services &amp; Hospitals</td>\n      <td>Health Care</td>\n      <td>$10+ billion (USD)</td>\n      <td>-1</td>\n    </tr>\n    <tr>\n      <th>2</th>\n      <td>Clinical Laboratory Scientist PM Shift</td>\n      <td>-1</td>\n      <td>Testing is the most significant bottleneck in ...</td>\n      <td>-1.0</td>\n      <td>SummerBio</td>\n      <td>Menlo Park, CA</td>\n      <td>-1</td>\n      <td>-1</td>\n      <td>-1</td>\n      <td>-1</td>\n      <td>-1</td>\n      <td>-1</td>\n      <td>-1</td>\n      <td>-1</td>\n    </tr>\n    <tr>\n      <th>3</th>\n      <td>Manufacturing Scientist</td>\n      <td>$41k-$91k\\n(Glassdoor Est.)</td>\n      <td>Biomerica Corporation focusing on the research...</td>\n      <td>2.5</td>\n      <td>Biomerica\\n2.5</td>\n      <td>Irvine, CA</td>\n      <td>-1</td>\n      <td>1 to 50 Employees</td>\n      <td>-1</td>\n      <td>Company - Public</td>\n      <td>Biotech &amp; Pharmaceuticals</td>\n      <td>Biotech &amp; Pharmaceuticals</td>\n      <td>$5 to $10 million (USD)</td>\n      <td>-1</td>\n    </tr>\n    <tr>\n      <th>4</th>\n      <td>Data Scientist, Medical Diagnostics</td>\n      <td>-1</td>\n      <td>_*The Company*_\\nThe world is facing a medical...</td>\n      <td>1.0</td>\n      <td>Specific Diagnostics\\n1.0</td>\n      <td>Mountain View, CA</td>\n      <td>-1</td>\n      <td>1 to 50 Employees</td>\n      <td>-1</td>\n      <td>Company - Private</td>\n      <td>-1</td>\n      <td>-1</td>\n      <td>Less than $1 million (USD)</td>\n      <td>-1</td>\n    </tr>\n    <tr>\n      <th>...</th>\n      <td>...</td>\n      <td>...</td>\n      <td>...</td>\n      <td>...</td>\n      <td>...</td>\n      <td>...</td>\n      <td>...</td>\n      <td>...</td>\n      <td>...</td>\n      <td>...</td>\n      <td>...</td>\n      <td>...</td>\n      <td>...</td>\n      <td>...</td>\n    </tr>\n    <tr>\n      <th>2416</th>\n      <td>Modem Systems Engineer (5G/LTE Advanced Algori...</td>\n      <td>$97k-$123k\\n(Glassdoor Est.)</td>\n      <td>Modem Systems Engineer (5G/LTE – Advanced Algo...</td>\n      <td>3.5</td>\n      <td>Samsung Semiconductor, Inc.\\n3.5</td>\n      <td>San Diego, CA</td>\n      <td>-1</td>\n      <td>1001 to 5000 Employees</td>\n      <td>1983</td>\n      <td>Subsidiary or Business Segment</td>\n      <td>Computer Hardware &amp; Software</td>\n      <td>Information Technology</td>\n      <td>Unknown / Non-Applicable</td>\n      <td>-1</td>\n    </tr>\n    <tr>\n      <th>2417</th>\n      <td>Senior Data Scientist</td>\n      <td>-1</td>\n      <td>WHO WE ARE\\n\\nKinship, Mars Petcare's newest d...</td>\n      <td>-1.0</td>\n      <td>Kinship</td>\n      <td>San Francisco, CA</td>\n      <td>-1</td>\n      <td>1 to 50 Employees</td>\n      <td>-1</td>\n      <td>Company - Private</td>\n      <td>Advertising &amp; Marketing</td>\n      <td>Business Services</td>\n      <td>Less than $1 million (USD)</td>\n      <td>-1</td>\n    </tr>\n    <tr>\n      <th>2418</th>\n      <td>Data Scientist, Life Sciences (US)</td>\n      <td>$97k-$156k\\n(Glassdoor Est.)</td>\n      <td>CitiusTech is a leader in HealthCare innovatio...</td>\n      <td>3.7</td>\n      <td>CitiusTech\\n3.7</td>\n      <td>San Francisco, CA</td>\n      <td>-1</td>\n      <td>1001 to 5000 Employees</td>\n      <td>2005</td>\n      <td>Company - Private</td>\n      <td>IT Services</td>\n      <td>Information Technology</td>\n      <td>$100 to $500 million (USD)</td>\n      <td>-1</td>\n    </tr>\n    <tr>\n      <th>2419</th>\n      <td>Senior Data Scientist, (Genomics, Presicion Me...</td>\n      <td>$97k-$158k\\n(Glassdoor Est.)</td>\n      <td>About City of Hope\\nCity of Hope, an innovativ...</td>\n      <td>3.4</td>\n      <td>City of Hope\\n3.4</td>\n      <td>Irwindale, CA</td>\n      <td>-1</td>\n      <td>5001 to 10000 Employees</td>\n      <td>1913</td>\n      <td>Nonprofit Organization</td>\n      <td>Health Care Services &amp; Hospitals</td>\n      <td>Health Care</td>\n      <td>$100 to $500 million (USD)</td>\n      <td>-1</td>\n    </tr>\n    <tr>\n      <th>2420</th>\n      <td>Principal Data Scientist - Health Economics &amp; ...</td>\n      <td>$134k-$218k\\n(Glassdoor Est.)</td>\n      <td>The Position\\n\\n\\nPosition is based in South S...</td>\n      <td>4.1</td>\n      <td>Genentech\\n4.1</td>\n      <td>Los Angeles, CA</td>\n      <td>-1</td>\n      <td>10000+ Employees</td>\n      <td>1976</td>\n      <td>Subsidiary or Business Segment</td>\n      <td>Biotech &amp; Pharmaceuticals</td>\n      <td>Biotech &amp; Pharmaceuticals</td>\n      <td>$10+ billion (USD)</td>\n      <td>-1</td>\n    </tr>\n  </tbody>\n</table>\n<p>2421 rows × 14 columns</p>\n</div>"
     },
     "metadata": {},
     "execution_count": 8
    }
   ],
   "source": [
    "# Merge data from all queries \n",
    "df = pd.concat([df_1, df_2, df_3, df_4], ignore_index=True)\n",
    "df"
   ]
  },
  {
   "cell_type": "code",
   "execution_count": 9,
   "metadata": {
    "tags": []
   },
   "outputs": [
    {
     "output_type": "execute_result",
     "data": {
      "text/plain": "                                        Job Title  \\\n0                              Sr. DATA SCIENTIST   \n1                    Data Scientist - Telecommute   \n2          Clinical Laboratory Scientist PM Shift   \n3                         Manufacturing Scientist   \n4             Data Scientist, Medical Diagnostics   \n5                           Senior Food Scientist   \n6                     Marketing Analytics Manager   \n7  Machine Learning Engineer Virtual Hiring Event   \n8                                       Scientist   \n9                         Quantitative Researcher   \n\n                 Salary Estimate  \\\n0  $155k-$247k\\n(Glassdoor Est.)   \n1   $67k-$117k\\n(Glassdoor Est.)   \n2                             -1   \n3    $41k-$91k\\n(Glassdoor Est.)   \n4                             -1   \n5   $94k-$152k\\n(Glassdoor Est.)   \n6                             -1   \n7   $81k-$138k\\n(Glassdoor Est.)   \n8                             -1   \n9                             -1   \n\n                                     Job Description  Rating  \\\n0  Title: Sr. Data Scientist\\n\\nCompany: Samsung ...     3.7   \n1  Optum Payment Integrity Analytics is looking t...     3.4   \n2  Testing is the most significant bottleneck in ...    -1.0   \n3  Biomerica Corporation focusing on the research...     2.5   \n4  _*The Company*_\\nThe world is facing a medical...     1.0   \n5  Senior Food Scientist *\\nWe’re looking for a P...     3.5   \n6  Marketing Analytic Manager Job Responsibilitie...    -1.0   \n7  SAP Hiring Event!\\n\\nEvent Details\\nDate: Tues...     4.6   \n8  About Karius\\nKarius is a venture-backed life ...     2.6   \n9  What happens when accomplished scientists and ...     5.0   \n\n                    Company Name                 Location  Headquarters  \\\n0  Samsung Research America\\n3.7        Mountain View, CA            -1   \n1        Unitedhealth Group\\n3.4            San Diego, CA            -1   \n2                      SummerBio           Menlo Park, CA            -1   \n3                 Biomerica\\n2.5               Irvine, CA            -1   \n4      Specific Diagnostics\\n1.0        Mountain View, CA            -1   \n5                    Torani\\n3.5  South San Francisco, CA            -1   \n6             Repipe Specialists              Burbank, CA            -1   \n7                       SAP\\n4.6        Newport Beach, CA            -1   \n8                    Karius\\n2.6         Redwood City, CA            -1   \n9    TGS Management Company\\n5.0               Irvine, CA            -1   \n\n                     Size  Founded               Type of ownership  \\\n0  1001 to 5000 Employees     1988  Subsidiary or Business Segment   \n1        10000+ Employees     1977                Company - Public   \n2                      -1       -1                              -1   \n3       1 to 50 Employees       -1                Company - Public   \n4       1 to 50 Employees       -1               Company - Private   \n5     51 to 200 Employees     1925               Company - Private   \n6       1 to 50 Employees       -1               Company - Private   \n7        10000+ Employees     1972                Company - Public   \n8     51 to 200 Employees     2014               Company - Private   \n9       1 to 50 Employees     1989               Company - Private   \n\n                                Industry                              Sector  \\\n0           Computer Hardware & Software              Information Technology   \n1       Health Care Services & Hospitals                         Health Care   \n2                                     -1                                  -1   \n3              Biotech & Pharmaceuticals           Biotech & Pharmaceuticals   \n4                                     -1                                  -1   \n5          Food & Beverage Manufacturing                       Manufacturing   \n6                           Construction  Construction, Repair & Maintenance   \n7           Computer Hardware & Software              Information Technology   \n8              Biotech & Pharmaceuticals           Biotech & Pharmaceuticals   \n9  Investment Banking & Asset Management                             Finance   \n\n                      Revenue  Competitors  \n0   $50 to $100 million (USD)           -1  \n1          $10+ billion (USD)           -1  \n2                          -1           -1  \n3     $5 to $10 million (USD)           -1  \n4  Less than $1 million (USD)           -1  \n5    Unknown / Non-Applicable           -1  \n6  Less than $1 million (USD)           -1  \n7          $10+ billion (USD)           -1  \n8    Unknown / Non-Applicable           -1  \n9    Unknown / Non-Applicable           -1  ",
      "text/html": "<div>\n<style scoped>\n    .dataframe tbody tr th:only-of-type {\n        vertical-align: middle;\n    }\n\n    .dataframe tbody tr th {\n        vertical-align: top;\n    }\n\n    .dataframe thead th {\n        text-align: right;\n    }\n</style>\n<table border=\"1\" class=\"dataframe\">\n  <thead>\n    <tr style=\"text-align: right;\">\n      <th></th>\n      <th>Job Title</th>\n      <th>Salary Estimate</th>\n      <th>Job Description</th>\n      <th>Rating</th>\n      <th>Company Name</th>\n      <th>Location</th>\n      <th>Headquarters</th>\n      <th>Size</th>\n      <th>Founded</th>\n      <th>Type of ownership</th>\n      <th>Industry</th>\n      <th>Sector</th>\n      <th>Revenue</th>\n      <th>Competitors</th>\n    </tr>\n  </thead>\n  <tbody>\n    <tr>\n      <th>0</th>\n      <td>Sr. DATA SCIENTIST</td>\n      <td>$155k-$247k\\n(Glassdoor Est.)</td>\n      <td>Title: Sr. Data Scientist\\n\\nCompany: Samsung ...</td>\n      <td>3.7</td>\n      <td>Samsung Research America\\n3.7</td>\n      <td>Mountain View, CA</td>\n      <td>-1</td>\n      <td>1001 to 5000 Employees</td>\n      <td>1988</td>\n      <td>Subsidiary or Business Segment</td>\n      <td>Computer Hardware &amp; Software</td>\n      <td>Information Technology</td>\n      <td>$50 to $100 million (USD)</td>\n      <td>-1</td>\n    </tr>\n    <tr>\n      <th>1</th>\n      <td>Data Scientist - Telecommute</td>\n      <td>$67k-$117k\\n(Glassdoor Est.)</td>\n      <td>Optum Payment Integrity Analytics is looking t...</td>\n      <td>3.4</td>\n      <td>Unitedhealth Group\\n3.4</td>\n      <td>San Diego, CA</td>\n      <td>-1</td>\n      <td>10000+ Employees</td>\n      <td>1977</td>\n      <td>Company - Public</td>\n      <td>Health Care Services &amp; Hospitals</td>\n      <td>Health Care</td>\n      <td>$10+ billion (USD)</td>\n      <td>-1</td>\n    </tr>\n    <tr>\n      <th>2</th>\n      <td>Clinical Laboratory Scientist PM Shift</td>\n      <td>-1</td>\n      <td>Testing is the most significant bottleneck in ...</td>\n      <td>-1.0</td>\n      <td>SummerBio</td>\n      <td>Menlo Park, CA</td>\n      <td>-1</td>\n      <td>-1</td>\n      <td>-1</td>\n      <td>-1</td>\n      <td>-1</td>\n      <td>-1</td>\n      <td>-1</td>\n      <td>-1</td>\n    </tr>\n    <tr>\n      <th>3</th>\n      <td>Manufacturing Scientist</td>\n      <td>$41k-$91k\\n(Glassdoor Est.)</td>\n      <td>Biomerica Corporation focusing on the research...</td>\n      <td>2.5</td>\n      <td>Biomerica\\n2.5</td>\n      <td>Irvine, CA</td>\n      <td>-1</td>\n      <td>1 to 50 Employees</td>\n      <td>-1</td>\n      <td>Company - Public</td>\n      <td>Biotech &amp; Pharmaceuticals</td>\n      <td>Biotech &amp; Pharmaceuticals</td>\n      <td>$5 to $10 million (USD)</td>\n      <td>-1</td>\n    </tr>\n    <tr>\n      <th>4</th>\n      <td>Data Scientist, Medical Diagnostics</td>\n      <td>-1</td>\n      <td>_*The Company*_\\nThe world is facing a medical...</td>\n      <td>1.0</td>\n      <td>Specific Diagnostics\\n1.0</td>\n      <td>Mountain View, CA</td>\n      <td>-1</td>\n      <td>1 to 50 Employees</td>\n      <td>-1</td>\n      <td>Company - Private</td>\n      <td>-1</td>\n      <td>-1</td>\n      <td>Less than $1 million (USD)</td>\n      <td>-1</td>\n    </tr>\n    <tr>\n      <th>5</th>\n      <td>Senior Food Scientist</td>\n      <td>$94k-$152k\\n(Glassdoor Est.)</td>\n      <td>Senior Food Scientist *\\nWe’re looking for a P...</td>\n      <td>3.5</td>\n      <td>Torani\\n3.5</td>\n      <td>South San Francisco, CA</td>\n      <td>-1</td>\n      <td>51 to 200 Employees</td>\n      <td>1925</td>\n      <td>Company - Private</td>\n      <td>Food &amp; Beverage Manufacturing</td>\n      <td>Manufacturing</td>\n      <td>Unknown / Non-Applicable</td>\n      <td>-1</td>\n    </tr>\n    <tr>\n      <th>6</th>\n      <td>Marketing Analytics Manager</td>\n      <td>-1</td>\n      <td>Marketing Analytic Manager Job Responsibilitie...</td>\n      <td>-1.0</td>\n      <td>Repipe Specialists</td>\n      <td>Burbank, CA</td>\n      <td>-1</td>\n      <td>1 to 50 Employees</td>\n      <td>-1</td>\n      <td>Company - Private</td>\n      <td>Construction</td>\n      <td>Construction, Repair &amp; Maintenance</td>\n      <td>Less than $1 million (USD)</td>\n      <td>-1</td>\n    </tr>\n    <tr>\n      <th>7</th>\n      <td>Machine Learning Engineer Virtual Hiring Event</td>\n      <td>$81k-$138k\\n(Glassdoor Est.)</td>\n      <td>SAP Hiring Event!\\n\\nEvent Details\\nDate: Tues...</td>\n      <td>4.6</td>\n      <td>SAP\\n4.6</td>\n      <td>Newport Beach, CA</td>\n      <td>-1</td>\n      <td>10000+ Employees</td>\n      <td>1972</td>\n      <td>Company - Public</td>\n      <td>Computer Hardware &amp; Software</td>\n      <td>Information Technology</td>\n      <td>$10+ billion (USD)</td>\n      <td>-1</td>\n    </tr>\n    <tr>\n      <th>8</th>\n      <td>Scientist</td>\n      <td>-1</td>\n      <td>About Karius\\nKarius is a venture-backed life ...</td>\n      <td>2.6</td>\n      <td>Karius\\n2.6</td>\n      <td>Redwood City, CA</td>\n      <td>-1</td>\n      <td>51 to 200 Employees</td>\n      <td>2014</td>\n      <td>Company - Private</td>\n      <td>Biotech &amp; Pharmaceuticals</td>\n      <td>Biotech &amp; Pharmaceuticals</td>\n      <td>Unknown / Non-Applicable</td>\n      <td>-1</td>\n    </tr>\n    <tr>\n      <th>9</th>\n      <td>Quantitative Researcher</td>\n      <td>-1</td>\n      <td>What happens when accomplished scientists and ...</td>\n      <td>5.0</td>\n      <td>TGS Management Company\\n5.0</td>\n      <td>Irvine, CA</td>\n      <td>-1</td>\n      <td>1 to 50 Employees</td>\n      <td>1989</td>\n      <td>Company - Private</td>\n      <td>Investment Banking &amp; Asset Management</td>\n      <td>Finance</td>\n      <td>Unknown / Non-Applicable</td>\n      <td>-1</td>\n    </tr>\n  </tbody>\n</table>\n</div>"
     },
     "metadata": {},
     "execution_count": 9
    }
   ],
   "source": [
    "# Remove duplicate records from combined search queries.\n",
    "df = df[df[\"Job Description\"].duplicated() == False]\n",
    "df.head(10)"
   ]
  },
  {
   "source": [
    "We will need to `parse job roles`, `remove ratings from company names`, `remove state identifiers from location`, `extract age of companies`, and `parse job descriptions`."
   ],
   "cell_type": "markdown",
   "metadata": {}
  },
  {
   "source": [
    "### Job Role Parsing"
   ],
   "cell_type": "markdown",
   "metadata": {}
  },
  {
   "cell_type": "code",
   "execution_count": 10,
   "metadata": {},
   "outputs": [],
   "source": [
    "def return_job_role(row):\n",
    "    if \"data scientist\" in row:\n",
    "        return \"Data Science\"\n",
    "    elif \"data engineer\" in row:\n",
    "        return \"Data Engineering\"\n",
    "    elif \"data analyst\" in row:\n",
    "        return \"Data Analysis\"\n",
    "    elif \"machine learning\" in row:\n",
    "        return \"ML Engineering\"\n",
    "    else : return np.nan"
   ]
  },
  {
   "cell_type": "code",
   "execution_count": 11,
   "metadata": {},
   "outputs": [
    {
     "output_type": "execute_result",
     "data": {
      "text/plain": "NaN                 726\nData Analysis       415\nData Science        393\nData Engineering    246\nML Engineering      218\nName: Job Title, dtype: int64"
     },
     "metadata": {},
     "execution_count": 11
    }
   ],
   "source": [
    "df[\"Job Title\"] = df[\"Job Title\"].str.lower()\n",
    "# Extract job titles\n",
    "extracted_job_roles = df[\"Job Title\"].apply(return_job_role)\n",
    "extracted_job_roles.value_counts(dropna=False)"
   ]
  },
  {
   "cell_type": "code",
   "execution_count": 12,
   "metadata": {
    "tags": []
   },
   "outputs": [
    {
     "output_type": "stream",
     "name": "stdout",
     "text": "<class 'pandas.core.frame.DataFrame'>\nInt64Index: 1998 entries, 0 to 2417\nData columns (total 14 columns):\n #   Column             Non-Null Count  Dtype  \n---  ------             --------------  -----  \n 0   Job Title          1272 non-null   object \n 1   Salary Estimate    1998 non-null   object \n 2   Job Description    1998 non-null   object \n 3   Rating             1998 non-null   float64\n 4   Company Name       1995 non-null   object \n 5   Location           1998 non-null   object \n 6   Headquarters       1998 non-null   int64  \n 7   Size               1998 non-null   object \n 8   Founded            1998 non-null   int64  \n 9   Type of ownership  1998 non-null   object \n 10  Industry           1998 non-null   object \n 11  Sector             1998 non-null   object \n 12  Revenue            1998 non-null   object \n 13  Competitors        1998 non-null   int64  \ndtypes: float64(1), int64(3), object(10)\nmemory usage: 234.1+ KB\n"
    }
   ],
   "source": [
    "# Replaces Job Titles\n",
    "df[\"Job Title\"] = extracted_job_roles\n",
    "df.info()"
   ]
  },
  {
   "source": [
    "### Salary Parsing"
   ],
   "cell_type": "markdown",
   "metadata": {}
  },
  {
   "cell_type": "code",
   "execution_count": 13,
   "metadata": {},
   "outputs": [
    {
     "output_type": "execute_result",
     "data": {
      "text/plain": "0       $155k-$247k\\n(Glassdoor Est.)\n1        $67k-$117k\\n(Glassdoor Est.)\n2                                  -1\n3         $41k-$91k\\n(Glassdoor Est.)\n4                                  -1\n                    ...              \n2411     $74k-$151k\\n(Glassdoor Est.)\n2413     $82k-$142k\\n(Glassdoor Est.)\n2414                               -1\n2416     $97k-$123k\\n(Glassdoor Est.)\n2417                               -1\nName: Salary Estimate, Length: 1998, dtype: object"
     },
     "metadata": {},
     "execution_count": 13
    }
   ],
   "source": [
    "salary = df[\"Salary Estimate\"].copy()\n",
    "salary"
   ]
  },
  {
   "cell_type": "code",
   "execution_count": 14,
   "metadata": {},
   "outputs": [],
   "source": [
    "def parse_salaries(row):\n",
    "    if row == '-1':\n",
    "        return -1\n",
    "    else:\n",
    "        salary = row.split(\"\\n\")[0]\n",
    "        return salary.replace(\"$\", \"\").replace(\"k\", \"\")"
   ]
  },
  {
   "cell_type": "code",
   "execution_count": 15,
   "metadata": {},
   "outputs": [
    {
     "output_type": "execute_result",
     "data": {
      "text/plain": "34     Employer Provided Salary:\n196               59-96 Per Hour\n507               21-30 Per Hour\n721    Employer Provided Salary:\n816    Employer Provided Salary:\nName: Salary Estimate, dtype: object"
     },
     "metadata": {},
     "execution_count": 15
    }
   ],
   "source": [
    "salaries_parsed = salary.apply(parse_salaries)\n",
    "# Irrgeularly large parsed salaries\n",
    "irregular_salaries = salaries_parsed[salaries_parsed.apply(lambda row: len(str(row)) > 7)]\n",
    "irregular_salaries"
   ]
  },
  {
   "source": [
    "Since there are only 5 irregular salaries after parsing, we simply delete these records."
   ],
   "cell_type": "markdown",
   "metadata": {}
  },
  {
   "cell_type": "code",
   "execution_count": 16,
   "metadata": {},
   "outputs": [
    {
     "output_type": "execute_result",
     "data": {
      "text/plain": "34     -1\n196    -1\n507    -1\n721    -1\n816    -1\nName: Salary Estimate, dtype: object"
     },
     "metadata": {},
     "execution_count": 16
    }
   ],
   "source": [
    "remove = irregular_salaries.index\n",
    "salaries_parsed[remove] = -1\n",
    "salaries_parsed[remove]"
   ]
  },
  {
   "cell_type": "code",
   "execution_count": 17,
   "metadata": {},
   "outputs": [
    {
     "output_type": "execute_result",
     "data": {
      "text/plain": "0       155-247\n1        67-117\n2            -1\n3         41-91\n4            -1\n         ...   \n2411     74-151\n2413     82-142\n2414         -1\n2416     97-123\n2417         -1\nName: Salary Estimate, Length: 1998, dtype: object"
     },
     "metadata": {},
     "execution_count": 17
    }
   ],
   "source": [
    "df[\"Salary Estimate\"] = salaries_parsed\n",
    "df[\"Salary Estimate\"]"
   ]
  },
  {
   "source": [
    " # Split into min, max and average salaries\n",
    " df[\"min_salary\"] = df[\"Salary Estimate\"].\\\n",
    "     apply(lambda row: int(row.split(\"-\")[0]) if row != -1 else -1)\n",
    " df[\"max_salary\"] = df[\"Salary Estimate\"].\\\n",
    "     apply(lambda row: int(row.split(\"-\")[1]) if row != -1 else -1)\n",
    " df[\"avg_salary\"] = df[\"Salary Estimate\"].\\\n",
    "     apply(lambda row: np.mean([int(x) for x in row.split(\"-\")]) if row != -1 else -1)\n",
    " df.describe()"
   ],
   "cell_type": "code",
   "metadata": {},
   "execution_count": 18,
   "outputs": [
    {
     "output_type": "execute_result",
     "data": {
      "text/plain": "            Rating  Headquarters      Founded  Competitors   min_salary  \\\ncount  1998.000000        1998.0  1998.000000       1998.0  1998.000000   \nmean      3.563614          -1.0  1666.279279         -1.0    63.215716   \nstd       1.351982           0.0   737.000228          0.0    49.919013   \nmin      -1.000000          -1.0    -1.000000         -1.0    -1.000000   \n25%       3.500000          -1.0  1962.000000         -1.0    -1.000000   \n50%       3.900000          -1.0  1996.000000         -1.0    70.000000   \n75%       4.200000          -1.0  2010.000000         -1.0   103.000000   \nmax       5.000000          -1.0  2020.000000         -1.0   212.000000   \n\n        max_salary   avg_salary  \ncount  1998.000000  1998.000000  \nmean    104.635636    83.925676  \nstd      80.170139    64.586955  \nmin      -1.000000    -1.000000  \n25%      -1.000000    -1.000000  \n50%     119.500000    96.500000  \n75%     165.000000   134.000000  \nmax     361.000000   285.500000  ",
      "text/html": "<div>\n<style scoped>\n    .dataframe tbody tr th:only-of-type {\n        vertical-align: middle;\n    }\n\n    .dataframe tbody tr th {\n        vertical-align: top;\n    }\n\n    .dataframe thead th {\n        text-align: right;\n    }\n</style>\n<table border=\"1\" class=\"dataframe\">\n  <thead>\n    <tr style=\"text-align: right;\">\n      <th></th>\n      <th>Rating</th>\n      <th>Headquarters</th>\n      <th>Founded</th>\n      <th>Competitors</th>\n      <th>min_salary</th>\n      <th>max_salary</th>\n      <th>avg_salary</th>\n    </tr>\n  </thead>\n  <tbody>\n    <tr>\n      <th>count</th>\n      <td>1998.000000</td>\n      <td>1998.0</td>\n      <td>1998.000000</td>\n      <td>1998.0</td>\n      <td>1998.000000</td>\n      <td>1998.000000</td>\n      <td>1998.000000</td>\n    </tr>\n    <tr>\n      <th>mean</th>\n      <td>3.563614</td>\n      <td>-1.0</td>\n      <td>1666.279279</td>\n      <td>-1.0</td>\n      <td>63.215716</td>\n      <td>104.635636</td>\n      <td>83.925676</td>\n    </tr>\n    <tr>\n      <th>std</th>\n      <td>1.351982</td>\n      <td>0.0</td>\n      <td>737.000228</td>\n      <td>0.0</td>\n      <td>49.919013</td>\n      <td>80.170139</td>\n      <td>64.586955</td>\n    </tr>\n    <tr>\n      <th>min</th>\n      <td>-1.000000</td>\n      <td>-1.0</td>\n      <td>-1.000000</td>\n      <td>-1.0</td>\n      <td>-1.000000</td>\n      <td>-1.000000</td>\n      <td>-1.000000</td>\n    </tr>\n    <tr>\n      <th>25%</th>\n      <td>3.500000</td>\n      <td>-1.0</td>\n      <td>1962.000000</td>\n      <td>-1.0</td>\n      <td>-1.000000</td>\n      <td>-1.000000</td>\n      <td>-1.000000</td>\n    </tr>\n    <tr>\n      <th>50%</th>\n      <td>3.900000</td>\n      <td>-1.0</td>\n      <td>1996.000000</td>\n      <td>-1.0</td>\n      <td>70.000000</td>\n      <td>119.500000</td>\n      <td>96.500000</td>\n    </tr>\n    <tr>\n      <th>75%</th>\n      <td>4.200000</td>\n      <td>-1.0</td>\n      <td>2010.000000</td>\n      <td>-1.0</td>\n      <td>103.000000</td>\n      <td>165.000000</td>\n      <td>134.000000</td>\n    </tr>\n    <tr>\n      <th>max</th>\n      <td>5.000000</td>\n      <td>-1.0</td>\n      <td>2020.000000</td>\n      <td>-1.0</td>\n      <td>212.000000</td>\n      <td>361.000000</td>\n      <td>285.500000</td>\n    </tr>\n  </tbody>\n</table>\n</div>"
     },
     "metadata": {},
     "execution_count": 18
    }
   ]
  },
  {
   "source": [
    "### Company text"
   ],
   "cell_type": "markdown",
   "metadata": {}
  },
  {
   "cell_type": "code",
   "execution_count": 19,
   "metadata": {},
   "outputs": [
    {
     "output_type": "execute_result",
     "data": {
      "text/plain": "                          Company Name  Rating\n0        Samsung Research America\\n3.7     3.7\n1              Unitedhealth Group\\n3.4     3.4\n2                            SummerBio    -1.0\n3                       Biomerica\\n2.5     2.5\n4            Specific Diagnostics\\n1.0     1.0\n...                                ...     ...\n2411               TuSimple, Inc.\\n3.7     3.7\n2413               TuSimple, Inc.\\n3.7     3.7\n2414               TuSimple, Inc.\\n3.7     3.7\n2416  Samsung Semiconductor, Inc.\\n3.5     3.5\n2417                           Kinship    -1.0\n\n[1998 rows x 2 columns]",
      "text/html": "<div>\n<style scoped>\n    .dataframe tbody tr th:only-of-type {\n        vertical-align: middle;\n    }\n\n    .dataframe tbody tr th {\n        vertical-align: top;\n    }\n\n    .dataframe thead th {\n        text-align: right;\n    }\n</style>\n<table border=\"1\" class=\"dataframe\">\n  <thead>\n    <tr style=\"text-align: right;\">\n      <th></th>\n      <th>Company Name</th>\n      <th>Rating</th>\n    </tr>\n  </thead>\n  <tbody>\n    <tr>\n      <th>0</th>\n      <td>Samsung Research America\\n3.7</td>\n      <td>3.7</td>\n    </tr>\n    <tr>\n      <th>1</th>\n      <td>Unitedhealth Group\\n3.4</td>\n      <td>3.4</td>\n    </tr>\n    <tr>\n      <th>2</th>\n      <td>SummerBio</td>\n      <td>-1.0</td>\n    </tr>\n    <tr>\n      <th>3</th>\n      <td>Biomerica\\n2.5</td>\n      <td>2.5</td>\n    </tr>\n    <tr>\n      <th>4</th>\n      <td>Specific Diagnostics\\n1.0</td>\n      <td>1.0</td>\n    </tr>\n    <tr>\n      <th>...</th>\n      <td>...</td>\n      <td>...</td>\n    </tr>\n    <tr>\n      <th>2411</th>\n      <td>TuSimple, Inc.\\n3.7</td>\n      <td>3.7</td>\n    </tr>\n    <tr>\n      <th>2413</th>\n      <td>TuSimple, Inc.\\n3.7</td>\n      <td>3.7</td>\n    </tr>\n    <tr>\n      <th>2414</th>\n      <td>TuSimple, Inc.\\n3.7</td>\n      <td>3.7</td>\n    </tr>\n    <tr>\n      <th>2416</th>\n      <td>Samsung Semiconductor, Inc.\\n3.5</td>\n      <td>3.5</td>\n    </tr>\n    <tr>\n      <th>2417</th>\n      <td>Kinship</td>\n      <td>-1.0</td>\n    </tr>\n  </tbody>\n</table>\n<p>1998 rows × 2 columns</p>\n</div>"
     },
     "metadata": {},
     "execution_count": 19
    }
   ],
   "source": [
    "df.loc[:, [\"Company Name\", \"Rating\"]]"
   ]
  },
  {
   "source": [
    "Conpany names with ratings have the rating in a separate line within the `Company Name` column."
   ],
   "cell_type": "markdown",
   "metadata": {}
  },
  {
   "cell_type": "code",
   "execution_count": 20,
   "metadata": {},
   "outputs": [],
   "source": [
    "# Remove rating from company names\n",
    "df['company_txt'] = df[\"Company Name\"].\\\n",
    "    apply(lambda row: row.split(\"\\n\")[0] if row is not np.nan else -1)"
   ]
  },
  {
   "source": [
    "### Remove State Identifier"
   ],
   "cell_type": "markdown",
   "metadata": {}
  },
  {
   "cell_type": "code",
   "execution_count": 21,
   "metadata": {},
   "outputs": [
    {
     "output_type": "execute_result",
     "data": {
      "text/plain": "San Francisco          371\nSan Diego              161\nSanta Clara            138\nSan Jose               130\nLos Angeles            125\n                      ... \nVernon                   1\nRoseville                1\nDowney                   1\nArcadia                  1\nSan Juan Capistrano      1\nName: Location, Length: 163, dtype: int64"
     },
     "metadata": {},
     "execution_count": 21
    }
   ],
   "source": [
    "# Remove \", CA\" since all records from California\n",
    "locations_clean = df[\"Location\"].str.replace(\", CA\", \"\")\n",
    "locations_clean.value_counts()"
   ]
  },
  {
   "cell_type": "code",
   "execution_count": 22,
   "metadata": {},
   "outputs": [],
   "source": [
    "df[\"location\"] = locations_clean"
   ]
  },
  {
   "source": [
    "### Age of Company"
   ],
   "cell_type": "markdown",
   "metadata": {}
  },
  {
   "cell_type": "code",
   "execution_count": 23,
   "metadata": {},
   "outputs": [
    {
     "output_type": "execute_result",
     "data": {
      "text/plain": "-1      326\n 44      95\n 4       76\n 9       70\n 5       63\n       ... \n 28       1\n 114      1\n 117      1\n 123      1\n 121      1\nName: Founded, Length: 128, dtype: int64"
     },
     "metadata": {},
     "execution_count": 23
    }
   ],
   "source": [
    "# Current year - founding year\n",
    "company_age = df[\"Founded\"].apply(lambda row: row if row == -1 else 2020 - row)\n",
    "company_age.value_counts()"
   ]
  },
  {
   "cell_type": "code",
   "execution_count": 24,
   "metadata": {},
   "outputs": [],
   "source": [
    "df[\"age\"] = company_age"
   ]
  },
  {
   "source": [
    "### Parse Job Descriptions"
   ],
   "cell_type": "markdown",
   "metadata": {}
  },
  {
   "cell_type": "code",
   "execution_count": 25,
   "metadata": {},
   "outputs": [
    {
     "output_type": "execute_result",
     "data": {
      "text/plain": "1    1130\n0     868\nName: python, dtype: int64"
     },
     "metadata": {},
     "execution_count": 25
    }
   ],
   "source": [
    "# Parse python\n",
    "df[\"python\"] = df['Job Description'].apply(lambda x: 1 if 'python' in x.lower() else 0)\n",
    "df[\"python\"].value_counts()"
   ]
  },
  {
   "source": [
    "df[\"R\"] = df['Job Description'].apply(lambda x: 1 if ' r ' in x.lower() or 'r-' in x.lower() else 0)\n",
    "df[\"R\"].value_counts()"
   ],
   "cell_type": "code",
   "metadata": {},
   "execution_count": 31,
   "outputs": [
    {
     "output_type": "execute_result",
     "data": {
      "text/plain": "0    1490\n1     508\nName: R, dtype: int64"
     },
     "metadata": {},
     "execution_count": 31
    }
   ]
  },
  {
   "cell_type": "code",
   "execution_count": 30,
   "metadata": {},
   "outputs": [
    {
     "output_type": "execute_result",
     "data": {
      "text/plain": "0    1606\n1     392\nName: spark, dtype: int64"
     },
     "metadata": {},
     "execution_count": 30
    }
   ],
   "source": [
    "df[\"spark\"] = df['Job Description'].apply(lambda x: 1 if 'spark' in x.lower() else 0)\n",
    "df[\"spark\"].value_counts()"
   ]
  },
  {
   "cell_type": "code",
   "execution_count": 33,
   "metadata": {},
   "outputs": [
    {
     "output_type": "execute_result",
     "data": {
      "text/plain": "0    1479\n1     519\nName: aws, dtype: int64"
     },
     "metadata": {},
     "execution_count": 33
    }
   ],
   "source": [
    "df[\"aws\"] = df['Job Description'].apply(lambda x: 1 if 'aws' in x.lower() else 0)\n",
    "df[\"aws\"].value_counts()"
   ]
  },
  {
   "cell_type": "code",
   "execution_count": 34,
   "metadata": {},
   "outputs": [
    {
     "output_type": "execute_result",
     "data": {
      "text/plain": "0    1074\n1     924\nName: excel, dtype: int64"
     },
     "metadata": {},
     "execution_count": 34
    }
   ],
   "source": [
    "df[\"excel\"] = df['Job Description'].apply(lambda x: 1 if 'excel' in x.lower() else 0)\n",
    "df[\"excel\"].value_counts()"
   ]
  },
  {
   "cell_type": "code",
   "execution_count": 42,
   "metadata": {},
   "outputs": [
    {
     "output_type": "execute_result",
     "data": {
      "text/plain": "           Job Title                                    Job Description  \\\n0       Data Science  Title: Sr. Data Scientist\\n\\nCompany: Samsung ...   \n1       Data Science  Optum Payment Integrity Analytics is looking t...   \n2                NaN  Testing is the most significant bottleneck in ...   \n3                NaN  Biomerica Corporation focusing on the research...   \n4       Data Science  _*The Company*_\\nThe world is facing a medical...   \n...              ...                                                ...   \n1993  ML Engineering  These opportunities are located in San Diego. ...   \n1994             NaN  Sensor Research Engineer\\n\\nEmail your resume ...   \n1995             NaN  Internship for (Summer/Spring/Fall 2021)\\n\\nFo...   \n1996             NaN  Modem Systems Engineer (5G/LTE – Advanced Algo...   \n1997    Data Science  WHO WE ARE\\n\\nKinship, Mars Petcare's newest d...   \n\n      Rating           Location                    Size  \\\n0        3.7  Mountain View, CA  1001 to 5000 Employees   \n1        3.4      San Diego, CA        10000+ Employees   \n2       -1.0     Menlo Park, CA                      -1   \n3        2.5         Irvine, CA       1 to 50 Employees   \n4        1.0  Mountain View, CA       1 to 50 Employees   \n...      ...                ...                     ...   \n1993     3.7    Los Angeles, CA    201 to 500 Employees   \n1994     3.7      San Diego, CA    201 to 500 Employees   \n1995     3.7  San Francisco, CA    201 to 500 Employees   \n1996     3.5      San Diego, CA  1001 to 5000 Employees   \n1997    -1.0  San Francisco, CA       1 to 50 Employees   \n\n                   Type of ownership                          Industry  \\\n0     Subsidiary or Business Segment      Computer Hardware & Software   \n1                   Company - Public  Health Care Services & Hospitals   \n2                                 -1                                -1   \n3                   Company - Public         Biotech & Pharmaceuticals   \n4                  Company - Private                                -1   \n...                              ...                               ...   \n1993               Company - Private      Computer Hardware & Software   \n1994               Company - Private      Computer Hardware & Software   \n1995               Company - Private      Computer Hardware & Software   \n1996  Subsidiary or Business Segment      Computer Hardware & Software   \n1997               Company - Private           Advertising & Marketing   \n\n                         Sector                     Revenue  min_salary  \\\n0        Information Technology   $50 to $100 million (USD)         155   \n1                   Health Care          $10+ billion (USD)          67   \n2                            -1                          -1          -1   \n3     Biotech & Pharmaceuticals     $5 to $10 million (USD)          41   \n4                            -1  Less than $1 million (USD)          -1   \n...                         ...                         ...         ...   \n1993     Information Technology    Unknown / Non-Applicable          74   \n1994     Information Technology    Unknown / Non-Applicable          82   \n1995     Information Technology    Unknown / Non-Applicable          -1   \n1996     Information Technology    Unknown / Non-Applicable          97   \n1997          Business Services  Less than $1 million (USD)          -1   \n\n      max_salary  avg_salary                  company_txt       location  age  \\\n0            247       201.0     Samsung Research America  Mountain View   32   \n1            117        92.0           Unitedhealth Group      San Diego   43   \n2             -1        -1.0                    SummerBio     Menlo Park   -1   \n3             91        66.0                    Biomerica         Irvine   -1   \n4             -1        -1.0         Specific Diagnostics  Mountain View   -1   \n...          ...         ...                          ...            ...  ...   \n1993         151       112.5               TuSimple, Inc.    Los Angeles    5   \n1994         142       112.0               TuSimple, Inc.      San Diego    5   \n1995          -1        -1.0               TuSimple, Inc.  San Francisco    5   \n1996         123       110.0  Samsung Semiconductor, Inc.      San Diego   37   \n1997          -1        -1.0                      Kinship  San Francisco   -1   \n\n      python  R  spark  aws  excel  \n0          1  1      1    1      0  \n1          1  0      1    0      0  \n2          0  0      0    0      1  \n3          0  0      0    0      1  \n4          1  1      0    0      0  \n...      ... ..    ...  ...    ...  \n1993       1  0      0    0      0  \n1994       1  0      0    0      0  \n1995       1  0      0    0      0  \n1996       1  0      0    0      0  \n1997       1  1      0    1      0  \n\n[1998 rows x 20 columns]",
      "text/html": "<div>\n<style scoped>\n    .dataframe tbody tr th:only-of-type {\n        vertical-align: middle;\n    }\n\n    .dataframe tbody tr th {\n        vertical-align: top;\n    }\n\n    .dataframe thead th {\n        text-align: right;\n    }\n</style>\n<table border=\"1\" class=\"dataframe\">\n  <thead>\n    <tr style=\"text-align: right;\">\n      <th></th>\n      <th>Job Title</th>\n      <th>Job Description</th>\n      <th>Rating</th>\n      <th>Location</th>\n      <th>Size</th>\n      <th>Type of ownership</th>\n      <th>Industry</th>\n      <th>Sector</th>\n      <th>Revenue</th>\n      <th>min_salary</th>\n      <th>max_salary</th>\n      <th>avg_salary</th>\n      <th>company_txt</th>\n      <th>location</th>\n      <th>age</th>\n      <th>python</th>\n      <th>R</th>\n      <th>spark</th>\n      <th>aws</th>\n      <th>excel</th>\n    </tr>\n  </thead>\n  <tbody>\n    <tr>\n      <th>0</th>\n      <td>Data Science</td>\n      <td>Title: Sr. Data Scientist\\n\\nCompany: Samsung ...</td>\n      <td>3.7</td>\n      <td>Mountain View, CA</td>\n      <td>1001 to 5000 Employees</td>\n      <td>Subsidiary or Business Segment</td>\n      <td>Computer Hardware &amp; Software</td>\n      <td>Information Technology</td>\n      <td>$50 to $100 million (USD)</td>\n      <td>155</td>\n      <td>247</td>\n      <td>201.0</td>\n      <td>Samsung Research America</td>\n      <td>Mountain View</td>\n      <td>32</td>\n      <td>1</td>\n      <td>1</td>\n      <td>1</td>\n      <td>1</td>\n      <td>0</td>\n    </tr>\n    <tr>\n      <th>1</th>\n      <td>Data Science</td>\n      <td>Optum Payment Integrity Analytics is looking t...</td>\n      <td>3.4</td>\n      <td>San Diego, CA</td>\n      <td>10000+ Employees</td>\n      <td>Company - Public</td>\n      <td>Health Care Services &amp; Hospitals</td>\n      <td>Health Care</td>\n      <td>$10+ billion (USD)</td>\n      <td>67</td>\n      <td>117</td>\n      <td>92.0</td>\n      <td>Unitedhealth Group</td>\n      <td>San Diego</td>\n      <td>43</td>\n      <td>1</td>\n      <td>0</td>\n      <td>1</td>\n      <td>0</td>\n      <td>0</td>\n    </tr>\n    <tr>\n      <th>2</th>\n      <td>NaN</td>\n      <td>Testing is the most significant bottleneck in ...</td>\n      <td>-1.0</td>\n      <td>Menlo Park, CA</td>\n      <td>-1</td>\n      <td>-1</td>\n      <td>-1</td>\n      <td>-1</td>\n      <td>-1</td>\n      <td>-1</td>\n      <td>-1</td>\n      <td>-1.0</td>\n      <td>SummerBio</td>\n      <td>Menlo Park</td>\n      <td>-1</td>\n      <td>0</td>\n      <td>0</td>\n      <td>0</td>\n      <td>0</td>\n      <td>1</td>\n    </tr>\n    <tr>\n      <th>3</th>\n      <td>NaN</td>\n      <td>Biomerica Corporation focusing on the research...</td>\n      <td>2.5</td>\n      <td>Irvine, CA</td>\n      <td>1 to 50 Employees</td>\n      <td>Company - Public</td>\n      <td>Biotech &amp; Pharmaceuticals</td>\n      <td>Biotech &amp; Pharmaceuticals</td>\n      <td>$5 to $10 million (USD)</td>\n      <td>41</td>\n      <td>91</td>\n      <td>66.0</td>\n      <td>Biomerica</td>\n      <td>Irvine</td>\n      <td>-1</td>\n      <td>0</td>\n      <td>0</td>\n      <td>0</td>\n      <td>0</td>\n      <td>1</td>\n    </tr>\n    <tr>\n      <th>4</th>\n      <td>Data Science</td>\n      <td>_*The Company*_\\nThe world is facing a medical...</td>\n      <td>1.0</td>\n      <td>Mountain View, CA</td>\n      <td>1 to 50 Employees</td>\n      <td>Company - Private</td>\n      <td>-1</td>\n      <td>-1</td>\n      <td>Less than $1 million (USD)</td>\n      <td>-1</td>\n      <td>-1</td>\n      <td>-1.0</td>\n      <td>Specific Diagnostics</td>\n      <td>Mountain View</td>\n      <td>-1</td>\n      <td>1</td>\n      <td>1</td>\n      <td>0</td>\n      <td>0</td>\n      <td>0</td>\n    </tr>\n    <tr>\n      <th>...</th>\n      <td>...</td>\n      <td>...</td>\n      <td>...</td>\n      <td>...</td>\n      <td>...</td>\n      <td>...</td>\n      <td>...</td>\n      <td>...</td>\n      <td>...</td>\n      <td>...</td>\n      <td>...</td>\n      <td>...</td>\n      <td>...</td>\n      <td>...</td>\n      <td>...</td>\n      <td>...</td>\n      <td>...</td>\n      <td>...</td>\n      <td>...</td>\n      <td>...</td>\n    </tr>\n    <tr>\n      <th>1993</th>\n      <td>ML Engineering</td>\n      <td>These opportunities are located in San Diego. ...</td>\n      <td>3.7</td>\n      <td>Los Angeles, CA</td>\n      <td>201 to 500 Employees</td>\n      <td>Company - Private</td>\n      <td>Computer Hardware &amp; Software</td>\n      <td>Information Technology</td>\n      <td>Unknown / Non-Applicable</td>\n      <td>74</td>\n      <td>151</td>\n      <td>112.5</td>\n      <td>TuSimple, Inc.</td>\n      <td>Los Angeles</td>\n      <td>5</td>\n      <td>1</td>\n      <td>0</td>\n      <td>0</td>\n      <td>0</td>\n      <td>0</td>\n    </tr>\n    <tr>\n      <th>1994</th>\n      <td>NaN</td>\n      <td>Sensor Research Engineer\\n\\nEmail your resume ...</td>\n      <td>3.7</td>\n      <td>San Diego, CA</td>\n      <td>201 to 500 Employees</td>\n      <td>Company - Private</td>\n      <td>Computer Hardware &amp; Software</td>\n      <td>Information Technology</td>\n      <td>Unknown / Non-Applicable</td>\n      <td>82</td>\n      <td>142</td>\n      <td>112.0</td>\n      <td>TuSimple, Inc.</td>\n      <td>San Diego</td>\n      <td>5</td>\n      <td>1</td>\n      <td>0</td>\n      <td>0</td>\n      <td>0</td>\n      <td>0</td>\n    </tr>\n    <tr>\n      <th>1995</th>\n      <td>NaN</td>\n      <td>Internship for (Summer/Spring/Fall 2021)\\n\\nFo...</td>\n      <td>3.7</td>\n      <td>San Francisco, CA</td>\n      <td>201 to 500 Employees</td>\n      <td>Company - Private</td>\n      <td>Computer Hardware &amp; Software</td>\n      <td>Information Technology</td>\n      <td>Unknown / Non-Applicable</td>\n      <td>-1</td>\n      <td>-1</td>\n      <td>-1.0</td>\n      <td>TuSimple, Inc.</td>\n      <td>San Francisco</td>\n      <td>5</td>\n      <td>1</td>\n      <td>0</td>\n      <td>0</td>\n      <td>0</td>\n      <td>0</td>\n    </tr>\n    <tr>\n      <th>1996</th>\n      <td>NaN</td>\n      <td>Modem Systems Engineer (5G/LTE – Advanced Algo...</td>\n      <td>3.5</td>\n      <td>San Diego, CA</td>\n      <td>1001 to 5000 Employees</td>\n      <td>Subsidiary or Business Segment</td>\n      <td>Computer Hardware &amp; Software</td>\n      <td>Information Technology</td>\n      <td>Unknown / Non-Applicable</td>\n      <td>97</td>\n      <td>123</td>\n      <td>110.0</td>\n      <td>Samsung Semiconductor, Inc.</td>\n      <td>San Diego</td>\n      <td>37</td>\n      <td>1</td>\n      <td>0</td>\n      <td>0</td>\n      <td>0</td>\n      <td>0</td>\n    </tr>\n    <tr>\n      <th>1997</th>\n      <td>Data Science</td>\n      <td>WHO WE ARE\\n\\nKinship, Mars Petcare's newest d...</td>\n      <td>-1.0</td>\n      <td>San Francisco, CA</td>\n      <td>1 to 50 Employees</td>\n      <td>Company - Private</td>\n      <td>Advertising &amp; Marketing</td>\n      <td>Business Services</td>\n      <td>Less than $1 million (USD)</td>\n      <td>-1</td>\n      <td>-1</td>\n      <td>-1.0</td>\n      <td>Kinship</td>\n      <td>San Francisco</td>\n      <td>-1</td>\n      <td>1</td>\n      <td>1</td>\n      <td>0</td>\n      <td>1</td>\n      <td>0</td>\n    </tr>\n  </tbody>\n</table>\n<p>1998 rows × 20 columns</p>\n</div>"
     },
     "metadata": {},
     "execution_count": 42
    }
   ],
   "source": [
    "# Save cleaned data\n",
    "df_clean = df.drop([\"Salary Estimate\", \"Company Name\", \"Founded\", \"Headquarters\", \"Competitors\"], axis=1)\n",
    "df_clean.reset_index(drop=True, inplace=True)\n",
    "df_clean.to_csv(\"data_clean.csv\")\n",
    "df_clean"
   ]
  }
 ]
}