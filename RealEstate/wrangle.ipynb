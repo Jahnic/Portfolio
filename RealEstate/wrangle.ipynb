{
 "cells": [
  {
   "cell_type": "code",
   "execution_count": 4,
   "metadata": {},
   "outputs": [],
   "source": [
    "import pandas as pd\n",
    "import numpy as np\n",
    "from random import randint\n",
    "from scipy import stats\n",
    "import random\n",
    "import time\n",
    "import re\n",
    "# Visualizations\n",
    "import matplotlib.pyplot as plt\n",
    "import seaborn as sns\n",
    "# Web-app visualizations\n",
    "import plotly.express as px"
   ]
  },
  {
   "cell_type": "markdown",
   "metadata": {},
   "source": [
    "# Data wrangling"
   ]
  },
  {
   "cell_type": "code",
   "execution_count": 5,
   "metadata": {},
   "outputs": [],
   "source": [
    "df = pd.read_csv(\"data/centris_montreal_complete.csv\")"
   ]
  },
  {
   "cell_type": "code",
   "execution_count": 6,
   "metadata": {
    "tags": []
   },
   "outputs": [
    {
     "output_type": "stream",
     "name": "stdout",
     "text": "<class 'pandas.core.frame.DataFrame'>\nRangeIndex: 5732 entries, 0 to 5731\nData columns (total 101 columns):\n #   Column                                   Non-Null Count  Dtype  \n---  ------                                   --------------  -----  \n 0   Unnamed: 0                               5732 non-null   int64  \n 1   title                                    5732 non-null   object \n 2   address                                  5732 non-null   object \n 3   price                                    5732 non-null   object \n 4   lat                                      5732 non-null   float64\n 5   long                                     5732 non-null   float64\n 6   Restaurants                              5724 non-null   float64\n 7   Shopping                                 5726 non-null   float64\n 8   Vibrant                                  5724 non-null   float64\n 9   Cycling friendly                         5723 non-null   float64\n 10  Car friendly                             5721 non-null   float64\n 11  Historic                                 5714 non-null   float64\n 12  Quiet                                    5716 non-null   float64\n 13  Elementary Schools                       5728 non-null   float64\n 14  High Schools                             5726 non-null   float64\n 15  Parks                                    5732 non-null   int64  \n 16  Nightlife                                5719 non-null   float64\n 17  Groceries                                5729 non-null   float64\n 18  Daycares                                 5727 non-null   float64\n 19  Pedestrian friendly                      5730 non-null   float64\n 20  Cafes                                    5723 non-null   float64\n 21  Transit friendly                         5730 non-null   float64\n 22  Greenery                                 5721 non-null   float64\n 23  rooms                                    4652 non-null   float64\n 24  bedrooms                                 3591 non-null   float64\n 25  bathroom                                 2590 non-null   float64\n 26  Condominium type                         3645 non-null   object \n 27  Net area                                 2759 non-null   object \n 28  Year built                               5612 non-null   object \n 29  Parking (total)                          3723 non-null   object \n 30  Population 2016                          5732 non-null   int64  \n 31  Population variation between 2011 2016   5732 non-null   int64  \n 32  Population density                       5732 non-null   int64  \n 33  Unemployment rate 2016                   5732 non-null   int64  \n 34  Less than $50,000 (%)                    5732 non-null   int64  \n 35  Between $50,000 and $80,000 (%)          5732 non-null   int64  \n 36  Between $80,000 and $100,000 (%)         5732 non-null   int64  \n 37  Between $100,000 and $150,000 (%)        5732 non-null   int64  \n 38  More than $150,000 (%)                   5732 non-null   int64  \n 39  1-person households (%)                  5732 non-null   int64  \n 40  2-person households (%)                  5732 non-null   int64  \n 41  3-person households (%)                  5732 non-null   int64  \n 42  4-person households (%)                  5732 non-null   int64  \n 43  5-person or more households (%)          5732 non-null   int64  \n 44  Couples without children at home (%)     5732 non-null   int64  \n 45  Couples with children at home (%)        5732 non-null   int64  \n 46  Single-parent families (%)               5732 non-null   int64  \n 47  Owners (%)                               5732 non-null   int64  \n 48  Renters (%)                              5732 non-null   int64  \n 49  Before 1960 (%)                          5732 non-null   int64  \n 50  Between 1961 and 1980 (%)                5732 non-null   int64  \n 51  Between 1981 and 1990 (%)                5732 non-null   int64  \n 52  Between 1991 and 2000 (%)                5732 non-null   int64  \n 53  Between 2001 and 2010 (%)                5732 non-null   int64  \n 54  Between 2011 and 2016 (%)                5732 non-null   int64  \n 55  Single-family homes (%)                  5732 non-null   int64  \n 56  Semi-detached or row houses (%)          5732 non-null   int64  \n 57  Buildings with less than 5 floors (%)    5732 non-null   int64  \n 58  Buildings with 5 or more floors (%)      5732 non-null   int64  \n 59  Mobile homes (%)                         5732 non-null   int64  \n 60  University (%)                           5732 non-null   int64  \n 61  College (%)                              5732 non-null   int64  \n 62  Secondary (high) school (%)              5732 non-null   int64  \n 63  Apprentice or trade school diploma (%)   5732 non-null   int64  \n 64  No diploma (%)                           5732 non-null   int64  \n 65  Non-immigrant population (%)             5732 non-null   int64  \n 66  Immigrant population (%)                 5732 non-null   int64  \n 67  French (%)                               5731 non-null   float64\n 68  English (%)                              5731 non-null   float64\n 69  Others languages (%)                     5731 non-null   float64\n 70  bathrooms                                2074 non-null   float64\n 71  Pool                                     1393 non-null   object \n 72  Additional features                      3220 non-null   object \n 73  walk_score                               5685 non-null   float64\n 74  bedroom                                  964 non-null    float64\n 75  Gross area                               683 non-null    object \n 76  powder room                              1137 non-null   float64\n 77  Building style                           2077 non-null   object \n 78  Lot area                                 1886 non-null   object \n 79  Fireplace/Stove                          830 non-null    object \n 80  in basement                              753 non-null    object \n 81  Use of property                          928 non-null    object \n 82  Number of units                          928 non-null    object \n 83  Residential units                        889 non-null    object \n 84  Main unit                                926 non-null    object \n 85  Potential gross revenue                  928 non-null    object \n 86  powder rooms                             84 non-null     float64\n 87  Intergenerational                        25 non-null     object \n 88  Building area (at ground level)          217 non-null    object \n 89  room                                     32 non-null     float64\n 90  Available area                           119 non-null    object \n 91  Residential unit                         37 non-null     object \n 92  bedrooms in basement                     46 non-null     float64\n 93  Zoning                                   120 non-null    object \n 94  Parking (excluded from the price)        58 non-null     object \n 95  bedroom in basement                      31 non-null     float64\n 96  < 15 years (%)                           1 non-null      float64\n 97  15 to 24 years (%)                       1 non-null      float64\n 98  25 to 44 years (%)                       1 non-null      float64\n 99  45 to 64 years (%)                       1 non-null      float64\n 100 > 65 years (%)                           1 non-null      float64\ndtypes: float64(37), int64(39), object(25)\nmemory usage: 4.4+ MB\n"
    }
   ],
   "source": [
    "df.info(max_cols=200)"
   ]
  },
  {
   "cell_type": "markdown",
   "metadata": {},
   "source": [
    "We first remove the last 5 columns since they have virtually no content"
   ]
  },
  {
   "cell_type": "code",
   "execution_count": 7,
   "metadata": {},
   "outputs": [],
   "source": [
    "df = df.loc[:,:\"bedroom in basement\"]"
   ]
  },
  {
   "cell_type": "markdown",
   "metadata": {},
   "source": [
    "Next we will change the data type of the price column to integer"
   ]
  },
  {
   "cell_type": "code",
   "execution_count": 8,
   "metadata": {},
   "outputs": [
    {
     "output_type": "execute_result",
     "data": {
      "text/plain": "count    5.732000e+03\nmean     7.634336e+05\nstd      8.866054e+05\nmin      5.000000e+03\n25%      3.999000e+05\n50%      5.590000e+05\n75%      8.242250e+05\nmax      2.780000e+07\nName: price, dtype: float64"
     },
     "metadata": {},
     "execution_count": 8
    }
   ],
   "source": [
    "price_clean = df.price.str.replace(\"[$,]\", \"\")\n",
    "df.price = price_clean.astype(\"int\")\n",
    "df.price.describe()"
   ]
  },
  {
   "cell_type": "markdown",
   "metadata": {},
   "source": [
    "## Duplicate data\n",
    "\n",
    "We will use the `address` column to check for duplications."
   ]
  },
  {
   "cell_type": "code",
   "execution_count": 9,
   "metadata": {},
   "outputs": [
    {
     "output_type": "execute_result",
     "data": {
      "text/plain": "308"
     },
     "metadata": {},
     "execution_count": 9
    }
   ],
   "source": [
    "df.address.duplicated().sum()"
   ]
  },
  {
   "cell_type": "code",
   "execution_count": 10,
   "metadata": {
    "tags": []
   },
   "outputs": [
    {
     "output_type": "stream",
     "name": "stdout",
     "text": "<class 'pandas.core.frame.DataFrame'>\nRangeIndex: 5424 entries, 0 to 5423\nColumns: 97 entries, index to bedroom in basement\ndtypes: float64(32), int64(41), object(24)\nmemory usage: 4.0+ MB\n"
    }
   ],
   "source": [
    "df = df[df.address.duplicated() == False]\n",
    "df.reset_index(inplace=True)\n",
    "df.info(max_cols=95)"
   ]
  },
  {
   "cell_type": "markdown",
   "metadata": {},
   "source": [
    "Removing duplicates leaves holes in the index. Due to `reset_index()`, the range now coincides with the number of entries. \n",
    "The first two columns, corresponding to copies of the old and new index, can be removed."
   ]
  },
  {
   "cell_type": "code",
   "execution_count": 11,
   "metadata": {},
   "outputs": [
    {
     "output_type": "execute_result",
     "data": {
      "text/plain": "Index(['title', 'address', 'price', 'lat', 'long', 'Restaurants', 'Shopping',\n       'Vibrant', 'Cycling friendly', 'Car friendly', 'Historic', 'Quiet',\n       'Elementary Schools', 'High Schools', 'Parks', 'Nightlife', 'Groceries',\n       'Daycares', 'Pedestrian friendly', 'Cafes', 'Transit friendly',\n       'Greenery', 'rooms', 'bedrooms', 'bathroom', 'Condominium type',\n       'Net area', 'Year built', 'Parking (total)', 'Population 2016 ',\n       'Population variation between 2011 2016 ', 'Population density ',\n       'Unemployment rate 2016 ', 'Less than $50,000 (%)',\n       'Between $50,000 and $80,000 (%)', 'Between $80,000 and $100,000 (%)',\n       'Between $100,000 and $150,000 (%)', 'More than $150,000 (%)',\n       '1-person households (%)', '2-person households (%)',\n       '3-person households (%)', '4-person households (%)',\n       '5-person or more households (%)',\n       'Couples without children at home (%)',\n       'Couples with children at home (%)', 'Single-parent families (%)',\n       'Owners (%)', 'Renters (%)', 'Before 1960 (%)',\n       'Between 1961 and 1980 (%)', 'Between 1981 and 1990 (%)',\n       'Between 1991 and 2000 (%)', 'Between 2001 and 2010 (%)',\n       'Between 2011 and 2016 (%)', 'Single-family homes (%)',\n       'Semi-detached or row houses (%)',\n       'Buildings with less than 5 floors (%)',\n       'Buildings with 5 or more floors (%)', 'Mobile homes (%)',\n       'University (%)', 'College (%)', 'Secondary (high) school (%)',\n       'Apprentice or trade school diploma (%)', 'No diploma (%)',\n       'Non-immigrant population (%)', 'Immigrant population (%)',\n       'French (%)', 'English (%)', 'Others languages (%)', 'bathrooms',\n       'Pool', 'Additional features', 'walk_score', 'bedroom', 'Gross area',\n       'powder room', 'Building style', 'Lot area', 'Fireplace/Stove',\n       'in basement', 'Use of property', 'Number of units',\n       'Residential units', 'Main unit', 'Potential gross revenue',\n       'powder rooms', 'Intergenerational', 'Building area (at ground level)',\n       'room', 'Available area', 'Residential unit', 'bedrooms in basement',\n       'Zoning', 'Parking (excluded from the price)', 'bedroom in basement'],\n      dtype='object')"
     },
     "metadata": {},
     "execution_count": 11
    }
   ],
   "source": [
    "df = df.loc[:, \"title\":]\n",
    "df.columns"
   ]
  },
  {
   "cell_type": "markdown",
   "metadata": {},
   "source": [
    "## Room columns\n",
    "\n",
    "There are two columns called `rooms` and `room`. We will inspect both to find an explenation for this."
   ]
  },
  {
   "cell_type": "code",
   "execution_count": 12,
   "metadata": {
    "scrolled": true
   },
   "outputs": [
    {
     "output_type": "execute_result",
     "data": {
      "text/plain": "                                               address  room  rooms\n32   4225, Rue Saint-Dominique, apt. 209, Montréal ...   1.0    NaN\n95   318Z - 330Z, Rue Sherbrooke Est, Montréal (Vil...   1.0    NaN\n109  1188, Rue Saint-Antoine Ouest, apt. P3-16-17, ...   1.0    NaN\n142  1000, Rue Ottawa, apt. 606, Montréal (Le Sud-O...   1.0    NaN\n283  6541, boulevard Saint-Laurent, apt. 201, Montr...   1.0    NaN",
      "text/html": "<div>\n<style scoped>\n    .dataframe tbody tr th:only-of-type {\n        vertical-align: middle;\n    }\n\n    .dataframe tbody tr th {\n        vertical-align: top;\n    }\n\n    .dataframe thead th {\n        text-align: right;\n    }\n</style>\n<table border=\"1\" class=\"dataframe\">\n  <thead>\n    <tr style=\"text-align: right;\">\n      <th></th>\n      <th>address</th>\n      <th>room</th>\n      <th>rooms</th>\n    </tr>\n  </thead>\n  <tbody>\n    <tr>\n      <th>32</th>\n      <td>4225, Rue Saint-Dominique, apt. 209, Montréal ...</td>\n      <td>1.0</td>\n      <td>NaN</td>\n    </tr>\n    <tr>\n      <th>95</th>\n      <td>318Z - 330Z, Rue Sherbrooke Est, Montréal (Vil...</td>\n      <td>1.0</td>\n      <td>NaN</td>\n    </tr>\n    <tr>\n      <th>109</th>\n      <td>1188, Rue Saint-Antoine Ouest, apt. P3-16-17, ...</td>\n      <td>1.0</td>\n      <td>NaN</td>\n    </tr>\n    <tr>\n      <th>142</th>\n      <td>1000, Rue Ottawa, apt. 606, Montréal (Le Sud-O...</td>\n      <td>1.0</td>\n      <td>NaN</td>\n    </tr>\n    <tr>\n      <th>283</th>\n      <td>6541, boulevard Saint-Laurent, apt. 201, Montr...</td>\n      <td>1.0</td>\n      <td>NaN</td>\n    </tr>\n  </tbody>\n</table>\n</div>"
     },
     "metadata": {},
     "execution_count": 12
    }
   ],
   "source": [
    "df[df.room.notnull()].loc[:,[\"address\", \"room\", \"rooms\"]].head()"
   ]
  },
  {
   "cell_type": "markdown",
   "metadata": {},
   "source": [
    "The room column corresponds to listings with with only a single room. This has been verified by visting the website and searching for some of the addresses. We will therefore merge the two columns."
   ]
  },
  {
   "cell_type": "code",
   "execution_count": 13,
   "metadata": {
    "tags": []
   },
   "outputs": [
    {
     "output_type": "stream",
     "name": "stdout",
     "text": "Non-null values in 'rooms':\nBefore merge - 4421\nAfter merge - 4451\n"
    }
   ],
   "source": [
    "\n",
    "print(\"Non-null values in 'rooms':\")\n",
    "print(\"Before merge -\", df.rooms.notnull().sum())\n",
    "# Merging \"rooms\" and \"room\"\n",
    "rooms_new = pd.Series(\\\n",
    "    [room if pd.notna(room) else rooms for room, rooms in zip(df.room, df.rooms)]\\\n",
    "        )\n",
    "# Remove old columns\n",
    "df.drop([\"rooms\", \"room\"], axis=1, inplace=True)\n",
    "# Add new column\n",
    "df[\"rooms\"] = rooms_new\n",
    "print(\"After merge -\", df.rooms.notnull().sum())"
   ]
  },
  {
   "cell_type": "markdown",
   "metadata": {
    "tags": []
   },
   "source": [
    "We will now incpect other columns that contain the string \"room\" and replace missing values by 0 to facilitate mathematical operations on room data. "
   ]
  },
  {
   "cell_type": "code",
   "execution_count": 14,
   "metadata": {
    "tags": []
   },
   "outputs": [
    {
     "output_type": "stream",
     "name": "stdout",
     "text": "<class 'pandas.core.frame.DataFrame'>\nRangeIndex: 5424 entries, 0 to 5423\nData columns (total 9 columns):\n #   Column                Non-Null Count  Dtype  \n---  ------                --------------  -----  \n 0   bedrooms              5424 non-null   float64\n 1   bathroom              5424 non-null   float64\n 2   bathrooms             5424 non-null   float64\n 3   bedroom               5424 non-null   float64\n 4   powder room           5424 non-null   float64\n 5   powder rooms          5424 non-null   float64\n 6   bedrooms in basement  5424 non-null   float64\n 7   bedroom in basement   5424 non-null   float64\n 8   rooms                 5424 non-null   float64\ndtypes: float64(9)\nmemory usage: 381.5 KB\nNone\n"
    }
   ],
   "source": [
    "rooms = df.columns[[\"room\" in col for col in df.columns]]\n",
    "df[rooms] = df[rooms].fillna(0)\n",
    "print(df[rooms].info())"
   ]
  },
  {
   "cell_type": "code",
   "execution_count": 15,
   "metadata": {},
   "outputs": [],
   "source": [
    "# Grouping similar columns\n",
    "bedroom_cols = ['bedrooms','bedroom','bedrooms in basement', 'bedroom in basement']\n",
    "bathroom_cols = ['bathroom', 'bathrooms']\n",
    "powederroom_cols = ['powder room', 'powder rooms']"
   ]
  },
  {
   "cell_type": "markdown",
   "metadata": {},
   "source": [
    "## Bedrooms"
   ]
  },
  {
   "cell_type": "code",
   "execution_count": 16,
   "metadata": {
    "tags": []
   },
   "outputs": [
    {
     "output_type": "stream",
     "name": "stdout",
     "text": "<class 'pandas.core.frame.DataFrame'>\nRangeIndex: 5424 entries, 0 to 5423\nData columns (total 4 columns):\n #   Column                Non-Null Count  Dtype  \n---  ------                --------------  -----  \n 0   bedrooms              5424 non-null   float64\n 1   bedroom               5424 non-null   float64\n 2   bedrooms in basement  5424 non-null   float64\n 3   bedroom in basement   5424 non-null   float64\ndtypes: float64(4)\nmemory usage: 169.6 KB\n"
    }
   ],
   "source": [
    "df[bedroom_cols].info()"
   ]
  },
  {
   "cell_type": "markdown",
   "metadata": {},
   "source": [
    "First, we merge `bedrooms` and `bedroom` since they clearly belong together"
   ]
  },
  {
   "cell_type": "code",
   "execution_count": 17,
   "metadata": {},
   "outputs": [],
   "source": [
    "# Replace missing values with 0 for element-wise addition\n",
    "bedrooms = df.bedrooms.fillna(0) + df.bedroom.fillna(0)\n",
    "# Drop old columns from df\n",
    "df.drop([\"bedrooms\", \"bedroom\"], axis=1)\n",
    "# Add new column\n",
    "df.bedrooms = bedrooms"
   ]
  },
  {
   "cell_type": "code",
   "execution_count": 18,
   "metadata": {},
   "outputs": [
    {
     "output_type": "execute_result",
     "data": {
      "text/plain": "                                               address  bedrooms  \\\n151          61A, Avenue Strathyre, Montréal (LaSalle)       0.0   \n273  1300, Rue Jarry Est, apt. 1, Montréal (Villera...       0.0   \n353  2061, Rue Beaudry, Montréal (Ville-Marie), Nei...       0.0   \n627  4723, Rue Ontario Est, apt. 102, Montréal (Mer...       0.0   \n670  7940, Rue Chabot, apt. 102, Montréal (Villeray...       0.0   \n\n     bedrooms in basement  bedroom in basement   price  \n151                   2.0                  0.0  259000  \n273                   2.0                  0.0  259000  \n353                   2.0                  0.0  419000  \n627                   2.0                  0.0  259000  \n670                   2.0                  0.0  379000  ",
      "text/html": "<div>\n<style scoped>\n    .dataframe tbody tr th:only-of-type {\n        vertical-align: middle;\n    }\n\n    .dataframe tbody tr th {\n        vertical-align: top;\n    }\n\n    .dataframe thead th {\n        text-align: right;\n    }\n</style>\n<table border=\"1\" class=\"dataframe\">\n  <thead>\n    <tr style=\"text-align: right;\">\n      <th></th>\n      <th>address</th>\n      <th>bedrooms</th>\n      <th>bedrooms in basement</th>\n      <th>bedroom in basement</th>\n      <th>price</th>\n    </tr>\n  </thead>\n  <tbody>\n    <tr>\n      <th>151</th>\n      <td>61A, Avenue Strathyre, Montréal (LaSalle)</td>\n      <td>0.0</td>\n      <td>2.0</td>\n      <td>0.0</td>\n      <td>259000</td>\n    </tr>\n    <tr>\n      <th>273</th>\n      <td>1300, Rue Jarry Est, apt. 1, Montréal (Villera...</td>\n      <td>0.0</td>\n      <td>2.0</td>\n      <td>0.0</td>\n      <td>259000</td>\n    </tr>\n    <tr>\n      <th>353</th>\n      <td>2061, Rue Beaudry, Montréal (Ville-Marie), Nei...</td>\n      <td>0.0</td>\n      <td>2.0</td>\n      <td>0.0</td>\n      <td>419000</td>\n    </tr>\n    <tr>\n      <th>627</th>\n      <td>4723, Rue Ontario Est, apt. 102, Montréal (Mer...</td>\n      <td>0.0</td>\n      <td>2.0</td>\n      <td>0.0</td>\n      <td>259000</td>\n    </tr>\n    <tr>\n      <th>670</th>\n      <td>7940, Rue Chabot, apt. 102, Montréal (Villeray...</td>\n      <td>0.0</td>\n      <td>2.0</td>\n      <td>0.0</td>\n      <td>379000</td>\n    </tr>\n  </tbody>\n</table>\n</div>"
     },
     "metadata": {},
     "execution_count": 18
    }
   ],
   "source": [
    "# At least 1 bedroom in basement\n",
    "df[df[\"bedrooms in basement\"] > 0].\\\n",
    "    loc[:, [\"address\", \"bedrooms\", \"bedrooms in basement\", \"bedroom in basement\", \"price\"]].head()"
   ]
  },
  {
   "cell_type": "markdown",
   "metadata": {},
   "source": [
    "Bedrooms in the basement may be worth less, merging them with regular bedrooms may therefore not be optimal. However, the listings with bedrooms in the basement don't have regular bedrooms. This is true for for the entire list as well as for listings with a single bedroom in the basement. Merging all columns, therefore, appears to be the best solution. To keep a record of basement bedrooms, we will include a boolean column that can be used to either remove or alter corresponding entries at a later point."
   ]
  },
  {
   "cell_type": "code",
   "execution_count": 19,
   "metadata": {},
   "outputs": [],
   "source": [
    "def not_zero(col):\n",
    "    \"\"\"Returns boolean list indicating records with counts of at least 1\"\"\"\n",
    "\n",
    "    not_zero = [count > 0 for count in col]\n",
    "    return not_zero"
   ]
  },
  {
   "cell_type": "code",
   "execution_count": 20,
   "metadata": {
    "tags": []
   },
   "outputs": [
    {
     "output_type": "stream",
     "name": "stdout",
     "text": "Apartments with basement bedrooms: 75\nApartments with any kind of bedroom 4402\n"
    }
   ],
   "source": [
    "# Merge of basement bedroom columns\n",
    "basement_bed = df[\"bedrooms in basement\"]\\\n",
    "         + df[\"bedroom in basement\"]\n",
    "\n",
    "# Records with basement bedrooms\n",
    "basement_bed_bool = not_zero(basement_bed)\n",
    "print(\"Apartments with basement bedrooms:\",\\\n",
    "    sum(basement_bed_bool))\n",
    "\n",
    "# Merge of basement with regular bedrooms\n",
    "all_bedrooms = basement_bed + df.bedrooms\n",
    "print(\"Apartments with any kind of bedroom\",\\\n",
    "    sum(not_zero(all_bedrooms)))"
   ]
  },
  {
   "cell_type": "code",
   "execution_count": 21,
   "metadata": {},
   "outputs": [],
   "source": [
    "# Remove old columns \n",
    "df.drop(bedroom_cols, axis=1, inplace=True)\n",
    "\n",
    "# Append new columns\n",
    "df[\"bedrooms\"] = all_bedrooms\n",
    "df[\"basement_bedroom\"] = basement_bed_bool"
   ]
  },
  {
   "cell_type": "markdown",
   "metadata": {
    "tags": []
   },
   "source": [
    "## Bathrooms"
   ]
  },
  {
   "cell_type": "code",
   "execution_count": 22,
   "metadata": {
    "tags": []
   },
   "outputs": [
    {
     "output_type": "execute_result",
     "data": {
      "text/plain": "bathroom     2465\nbathrooms    1967\ndtype: int64"
     },
     "metadata": {},
     "execution_count": 22
    }
   ],
   "source": [
    "# Non-zero records\n",
    "df[bathroom_cols].apply(lambda col: sum(not_zero(col)), axis=0)"
   ]
  },
  {
   "cell_type": "code",
   "execution_count": 23,
   "metadata": {
    "tags": []
   },
   "outputs": [
    {
     "output_type": "stream",
     "name": "stdout",
     "text": "Non-zero records of merged column: 4432\n"
    }
   ],
   "source": [
    "# Merge\n",
    "bathrooms = df.bathroom + df.bathrooms\n",
    "print(\"Non-zero records of merged column:\", sum(not_zero(bathrooms)))\n",
    "\n",
    "# Remove old columns \n",
    "df.drop(bathroom_cols, axis=1, inplace=True)\n",
    "\n",
    "# Append new column\n",
    "df[\"bathrooms\"] = bathrooms"
   ]
  },
  {
   "cell_type": "code",
   "execution_count": 24,
   "metadata": {
    "tags": []
   },
   "outputs": [
    {
     "output_type": "stream",
     "name": "stdout",
     "text": "<class 'pandas.core.frame.DataFrame'>\nRangeIndex: 5424 entries, 0 to 5423\nData columns (total 4 columns):\n #   Column            Non-Null Count  Dtype  \n---  ------            --------------  -----  \n 0   rooms             5424 non-null   float64\n 1   bedrooms          5424 non-null   float64\n 2   basement_bedroom  5424 non-null   bool   \n 3   bathrooms         5424 non-null   float64\ndtypes: bool(1), float64(3)\nmemory usage: 132.5 KB\n"
    }
   ],
   "source": [
    "df.iloc[:, -4:].info()"
   ]
  },
  {
   "cell_type": "markdown",
   "metadata": {},
   "source": [
    "## Powder rooms"
   ]
  },
  {
   "cell_type": "code",
   "execution_count": 25,
   "metadata": {},
   "outputs": [
    {
     "output_type": "execute_result",
     "data": {
      "text/plain": "powder room     1086\npowder rooms      81\ndtype: int64"
     },
     "metadata": {},
     "execution_count": 25
    }
   ],
   "source": [
    "# Non-zero records\n",
    "df[powederroom_cols].apply(lambda col: sum(not_zero(col)))"
   ]
  },
  {
   "cell_type": "code",
   "execution_count": 26,
   "metadata": {},
   "outputs": [],
   "source": [
    "# Merge\n",
    "powder_rooms = df['powder room'] + df['powder rooms']\n",
    "\n",
    "# Remove old \n",
    "df.drop(powederroom_cols, axis=1, inplace=True)\n",
    "\n",
    "# Append new\n",
    "df['powder_rooms'] = powder_rooms"
   ]
  },
  {
   "cell_type": "code",
   "execution_count": 27,
   "metadata": {
    "tags": []
   },
   "outputs": [
    {
     "output_type": "stream",
     "name": "stdout",
     "text": "Non-zero records:\n"
    },
    {
     "output_type": "execute_result",
     "data": {
      "text/plain": "rooms           4451\nbedrooms        4402\nbathrooms       4432\npowder_rooms    1167\ndtype: int64"
     },
     "metadata": {},
     "execution_count": 27
    }
   ],
   "source": [
    "# New room data\n",
    "room_data = df.iloc[:, [-5,-4,-2,-1]]\n",
    "\n",
    "print(\"Non-zero records:\")\n",
    "room_data.apply(lambda col: sum(not_zero(col)))"
   ]
  },
  {
   "cell_type": "markdown",
   "metadata": {},
   "source": [
    "## Missing Room Data\n",
    "\n",
    "Next we will inspect records with missing data for all 4 room columns"
   ]
  },
  {
   "cell_type": "code",
   "execution_count": 28,
   "metadata": {
    "tags": []
   },
   "outputs": [
    {
     "output_type": "stream",
     "name": "stdout",
     "text": "Number of records with missing room data: 973\nNumber of replacable missing room data: 868\n"
    },
    {
     "output_type": "execute_result",
     "data": {
      "text/plain": "                  title                                            address  \\\n9       Duplex for sale  5421 - 5423, 15e Avenue, Montréal (Rosemont/La...   \n10  Quadruplex for sale  9636 - 9640, Rue Notre-Dame Est, Montréal (Mer...   \n25      Duplex for sale  1915 - 1917, Rue Viau, Montréal (Mercier/Hoche...   \n29     Triplex for sale  5518 - 5522, boulevard Saint-Michel, Montréal ...   \n34     Triplex for sale  6426 - 6428, Rue Marie-Victorin, Montréal (Mon...   \n\n     price  rooms  bedrooms  bathrooms  powder_rooms  \n9   679000    0.0       0.0        0.0           0.0  \n10  569750    0.0       0.0        0.0           0.0  \n25  899000    0.0       0.0        0.0           0.0  \n29  719700    0.0       0.0        0.0           0.0  \n34  599000    0.0       0.0        0.0           0.0  ",
      "text/html": "<div>\n<style scoped>\n    .dataframe tbody tr th:only-of-type {\n        vertical-align: middle;\n    }\n\n    .dataframe tbody tr th {\n        vertical-align: top;\n    }\n\n    .dataframe thead th {\n        text-align: right;\n    }\n</style>\n<table border=\"1\" class=\"dataframe\">\n  <thead>\n    <tr style=\"text-align: right;\">\n      <th></th>\n      <th>title</th>\n      <th>address</th>\n      <th>price</th>\n      <th>rooms</th>\n      <th>bedrooms</th>\n      <th>bathrooms</th>\n      <th>powder_rooms</th>\n    </tr>\n  </thead>\n  <tbody>\n    <tr>\n      <th>9</th>\n      <td>Duplex for sale</td>\n      <td>5421 - 5423, 15e Avenue, Montréal (Rosemont/La...</td>\n      <td>679000</td>\n      <td>0.0</td>\n      <td>0.0</td>\n      <td>0.0</td>\n      <td>0.0</td>\n    </tr>\n    <tr>\n      <th>10</th>\n      <td>Quadruplex for sale</td>\n      <td>9636 - 9640, Rue Notre-Dame Est, Montréal (Mer...</td>\n      <td>569750</td>\n      <td>0.0</td>\n      <td>0.0</td>\n      <td>0.0</td>\n      <td>0.0</td>\n    </tr>\n    <tr>\n      <th>25</th>\n      <td>Duplex for sale</td>\n      <td>1915 - 1917, Rue Viau, Montréal (Mercier/Hoche...</td>\n      <td>899000</td>\n      <td>0.0</td>\n      <td>0.0</td>\n      <td>0.0</td>\n      <td>0.0</td>\n    </tr>\n    <tr>\n      <th>29</th>\n      <td>Triplex for sale</td>\n      <td>5518 - 5522, boulevard Saint-Michel, Montréal ...</td>\n      <td>719700</td>\n      <td>0.0</td>\n      <td>0.0</td>\n      <td>0.0</td>\n      <td>0.0</td>\n    </tr>\n    <tr>\n      <th>34</th>\n      <td>Triplex for sale</td>\n      <td>6426 - 6428, Rue Marie-Victorin, Montréal (Mon...</td>\n      <td>599000</td>\n      <td>0.0</td>\n      <td>0.0</td>\n      <td>0.0</td>\n      <td>0.0</td>\n    </tr>\n  </tbody>\n</table>\n</div>"
     },
     "metadata": {},
     "execution_count": 28
    }
   ],
   "source": [
    "# Records with 0 for all room features\n",
    "# \"not any(not_zero(rows))\" is True, only if all records in a row are zero\n",
    "missing_room_data = df[room_data.apply(lambda rows: (not any(not_zero(rows))), axis=1)]\n",
    "\n",
    "print(\"Number of records with missing room data:\", \\\n",
    "    missing_room_data.shape[0])\n",
    "print(\"Number of replacable missing room data:\", \\\n",
    "    missing_room_data.loc[:, \"Main unit\"].notnull().sum())\n",
    "\n",
    "missing_room_data.iloc[:,[0, 1, 2,-5,-4,-2, -1]].head()"
   ]
  },
  {
   "cell_type": "markdown",
   "metadata": {},
   "source": [
    "There are quite a lot of records with no room data in either of the 4 new columns that we just generated. \n",
    "The `Main unit` column is able to fill in most of the missing data."
   ]
  },
  {
   "cell_type": "code",
   "execution_count": 29,
   "metadata": {},
   "outputs": [
    {
     "output_type": "execute_result",
     "data": {
      "text/plain": "9     6 rooms, 3 bedrooms, 2 bathrooms and 1 powder ...\n10                       3 rooms, 1 bedroom, 1 bathroom\n25                    11 rooms, 3 bedrooms, 2 bathrooms\n29                      5 rooms, 2 bedrooms, 1 bathroom\n34                      5 rooms, 3 bedrooms, 1 bathroom\nName: Main unit, dtype: object"
     },
     "metadata": {},
     "execution_count": 29
    }
   ],
   "source": [
    "missing_room_data[\"Main unit\"].head()"
   ]
  },
  {
   "cell_type": "markdown",
   "metadata": {},
   "source": [
    "From the above displayed records it seems most appropriate to split according to `\",\"` and `\"and\"`"
   ]
  },
  {
   "cell_type": "code",
   "execution_count": 30,
   "metadata": {},
   "outputs": [
    {
     "output_type": "execute_result",
     "data": {
      "text/plain": "0                                     NaN\n1                                     NaN\n2                                     NaN\n3                                     NaN\n4                                     NaN\n                      ...                \n5419                                  NaN\n5420                                  NaN\n5421                                  NaN\n5422    [4 rooms, 2 bedrooms, 1 bathroom]\n5423                                  NaN\nName: Main unit, Length: 5424, dtype: object"
     },
     "metadata": {},
     "execution_count": 30
    }
   ],
   "source": [
    "# Split room data in \"Main unit\"\n",
    "main_split = df[\"Main unit\"].str.split(\", | and\")\n",
    "main_split"
   ]
  },
  {
   "cell_type": "code",
   "execution_count": 31,
   "metadata": {},
   "outputs": [],
   "source": [
    "def extract_rooms(room_list):\n",
    "    \"\"\"Turns the list into a DataFrame object, with text\n",
    "    as column names and numbers as column values\"\"\"\n",
    "    \n",
    "    # Expected room types\n",
    "    room_types = [\"rooms\", \"room\",\\\n",
    "        \"bedrooms\", \"bedroom\",\\\n",
    "        \"bathrooms\", \"bathroom\",\\\n",
    "        \"powder rooms\", \"powder room\"]\n",
    "\n",
    "    # No room data\n",
    "    if room_list is np.nan:\n",
    "        return pd.Series([0,0,0,0,0,0,0,0],\\\n",
    "            index=room_types)\n",
    "\n",
    "    # Result table   \n",
    "    room_data = pd.Series()\n",
    "\n",
    "    # Extract and append room data\n",
    "    for string in room_list:\n",
    "        number_of_rooms = re.search(\"\\d+\", string).group()\n",
    "        room_type = re.search(\"[a-z]+\\D*\", string).group()\n",
    "        room_data[room_type] = number_of_rooms\n",
    "    \n",
    "    \n",
    "    # Add missing room types with value 0\n",
    "    for room_type in room_types:\n",
    "        if room_type not in room_data.index:\n",
    "            room_data[room_type] = 0\n",
    "\n",
    "    # Consistent column order\n",
    "    return room_data[room_types]"
   ]
  },
  {
   "cell_type": "code",
   "execution_count": 32,
   "metadata": {
    "tags": []
   },
   "outputs": [
    {
     "output_type": "stream",
     "name": "stderr",
     "text": "/home/jahnic/.local/lib/python3.6/site-packages/ipykernel_launcher.py:17: DeprecationWarning:\n\nThe default dtype for empty Series will be 'object' instead of 'float64' in a future version. Specify a dtype explicitly to silence this warning.\n\n"
    },
    {
     "output_type": "execute_result",
     "data": {
      "text/plain": "      rooms  room  bedrooms  bedroom  bathrooms  bathroom  powder rooms  \\\n0         0     0         0        0          0         0             0   \n1         0     0         0        0          0         0             0   \n2         0     0         0        0          0         0             0   \n3         0     0         0        0          0         0             0   \n4         0     0         0        0          0         0             0   \n...     ...   ...       ...      ...        ...       ...           ...   \n5419      0     0         0        0          0         0             0   \n5420      0     0         0        0          0         0             0   \n5421      0     0         0        0          0         0             0   \n5422      4     0         2        0          0         1             0   \n5423      0     0         0        0          0         0             0   \n\n      powder room  \n0               0  \n1               0  \n2               0  \n3               0  \n4               0  \n...           ...  \n5419            0  \n5420            0  \n5421            0  \n5422            0  \n5423            0  \n\n[5424 rows x 8 columns]",
      "text/html": "<div>\n<style scoped>\n    .dataframe tbody tr th:only-of-type {\n        vertical-align: middle;\n    }\n\n    .dataframe tbody tr th {\n        vertical-align: top;\n    }\n\n    .dataframe thead th {\n        text-align: right;\n    }\n</style>\n<table border=\"1\" class=\"dataframe\">\n  <thead>\n    <tr style=\"text-align: right;\">\n      <th></th>\n      <th>rooms</th>\n      <th>room</th>\n      <th>bedrooms</th>\n      <th>bedroom</th>\n      <th>bathrooms</th>\n      <th>bathroom</th>\n      <th>powder rooms</th>\n      <th>powder room</th>\n    </tr>\n  </thead>\n  <tbody>\n    <tr>\n      <th>0</th>\n      <td>0</td>\n      <td>0</td>\n      <td>0</td>\n      <td>0</td>\n      <td>0</td>\n      <td>0</td>\n      <td>0</td>\n      <td>0</td>\n    </tr>\n    <tr>\n      <th>1</th>\n      <td>0</td>\n      <td>0</td>\n      <td>0</td>\n      <td>0</td>\n      <td>0</td>\n      <td>0</td>\n      <td>0</td>\n      <td>0</td>\n    </tr>\n    <tr>\n      <th>2</th>\n      <td>0</td>\n      <td>0</td>\n      <td>0</td>\n      <td>0</td>\n      <td>0</td>\n      <td>0</td>\n      <td>0</td>\n      <td>0</td>\n    </tr>\n    <tr>\n      <th>3</th>\n      <td>0</td>\n      <td>0</td>\n      <td>0</td>\n      <td>0</td>\n      <td>0</td>\n      <td>0</td>\n      <td>0</td>\n      <td>0</td>\n    </tr>\n    <tr>\n      <th>4</th>\n      <td>0</td>\n      <td>0</td>\n      <td>0</td>\n      <td>0</td>\n      <td>0</td>\n      <td>0</td>\n      <td>0</td>\n      <td>0</td>\n    </tr>\n    <tr>\n      <th>...</th>\n      <td>...</td>\n      <td>...</td>\n      <td>...</td>\n      <td>...</td>\n      <td>...</td>\n      <td>...</td>\n      <td>...</td>\n      <td>...</td>\n    </tr>\n    <tr>\n      <th>5419</th>\n      <td>0</td>\n      <td>0</td>\n      <td>0</td>\n      <td>0</td>\n      <td>0</td>\n      <td>0</td>\n      <td>0</td>\n      <td>0</td>\n    </tr>\n    <tr>\n      <th>5420</th>\n      <td>0</td>\n      <td>0</td>\n      <td>0</td>\n      <td>0</td>\n      <td>0</td>\n      <td>0</td>\n      <td>0</td>\n      <td>0</td>\n    </tr>\n    <tr>\n      <th>5421</th>\n      <td>0</td>\n      <td>0</td>\n      <td>0</td>\n      <td>0</td>\n      <td>0</td>\n      <td>0</td>\n      <td>0</td>\n      <td>0</td>\n    </tr>\n    <tr>\n      <th>5422</th>\n      <td>4</td>\n      <td>0</td>\n      <td>2</td>\n      <td>0</td>\n      <td>0</td>\n      <td>1</td>\n      <td>0</td>\n      <td>0</td>\n    </tr>\n    <tr>\n      <th>5423</th>\n      <td>0</td>\n      <td>0</td>\n      <td>0</td>\n      <td>0</td>\n      <td>0</td>\n      <td>0</td>\n      <td>0</td>\n      <td>0</td>\n    </tr>\n  </tbody>\n</table>\n<p>5424 rows × 8 columns</p>\n</div>"
     },
     "metadata": {},
     "execution_count": 32
    }
   ],
   "source": [
    "# Extract data from \"Main unit\"\n",
    "missing_room_data = main_split.\\\n",
    "    apply(lambda rows: extract_rooms(rows)).\\\n",
    "        astype('int')\n",
    "missing_room_data"
   ]
  },
  {
   "cell_type": "code",
   "execution_count": 33,
   "metadata": {},
   "outputs": [],
   "source": [
    "# Merge related columns\n",
    "rooms = missing_room_data.rooms + missing_room_data.room\n",
    "bedrooms = missing_room_data.bedrooms + missing_room_data.bedroom\n",
    "bathrooms = missing_room_data.bathrooms + missing_room_data.bathroom\n",
    "powder_rooms = missing_room_data['powder rooms'] + missing_room_data['powder room']"
   ]
  },
  {
   "cell_type": "code",
   "execution_count": 34,
   "metadata": {
    "tags": []
   },
   "outputs": [
    {
     "output_type": "stream",
     "name": "stdout",
     "text": "Rooms before missing data suplementation\n"
    },
    {
     "output_type": "execute_result",
     "data": {
      "text/plain": "rooms               4451\nbedrooms            4402\nbasement_bedroom      75\nbathrooms           4432\npowder_rooms        1167\ndtype: int64"
     },
     "metadata": {},
     "execution_count": 34
    }
   ],
   "source": [
    "print(\"Rooms before missing data suplementation\")\n",
    "df.iloc[:,-5:].apply(lambda cols: sum(not_zero(cols)))"
   ]
  },
  {
   "cell_type": "code",
   "execution_count": 35,
   "metadata": {},
   "outputs": [],
   "source": [
    "df.rooms = df.rooms + rooms\n",
    "df.bedrooms = df.bedrooms + bedrooms\n",
    "df.bathrooms = df.bathrooms + bathrooms\n",
    "df['powder_rooms'] = df['powder_rooms'] + powder_rooms"
   ]
  },
  {
   "cell_type": "code",
   "execution_count": 36,
   "metadata": {
    "tags": []
   },
   "outputs": [
    {
     "output_type": "stream",
     "name": "stdout",
     "text": "Rooms after missing data suplementation\n"
    },
    {
     "output_type": "execute_result",
     "data": {
      "text/plain": "rooms               5319\nbedrooms            5264\nbasement_bedroom      75\nbathrooms           5296\npowder_rooms        1300\ndtype: int64"
     },
     "metadata": {},
     "execution_count": 36
    }
   ],
   "source": [
    "print(\"Rooms after missing data suplementation\")\n",
    "df.iloc[:,-5:].apply(lambda cols: sum(not_zero(cols)))"
   ]
  },
  {
   "cell_type": "code",
   "execution_count": 37,
   "metadata": {},
   "outputs": [],
   "source": [
    "df.drop(\"Main unit\", axis=1, inplace=True)"
   ]
  },
  {
   "cell_type": "markdown",
   "metadata": {},
   "source": [
    "Lastly, we will inspect the missing `rooms` values to see if we could substitute them from other room related columns."
   ]
  },
  {
   "cell_type": "code",
   "execution_count": 38,
   "metadata": {
    "tags": []
   },
   "outputs": [
    {
     "output_type": "stream",
     "name": "stdout",
     "text": "rooms  bedrooms  bathrooms  powder_rooms\n154     0.0       0.0        0.0           0.0\n164     0.0       0.0        0.0           0.0\n344     0.0       0.0        0.0           0.0\n345     0.0       0.0        0.0           0.0\n532     0.0       0.0        0.0           0.0\n...     ...       ...        ...           ...\n5381    0.0       0.0        0.0           0.0\n5394    0.0       0.0        0.0           0.0\n5415    0.0       0.0        0.0           0.0\n5416    0.0       0.0        0.0           0.0\n5423    0.0       0.0        0.0           0.0\n\n[105 rows x 4 columns] \n\nNon-zero values in slice: 0\n"
    }
   ],
   "source": [
    "# Slice with room values of 0\n",
    "no_rooms = df[df.rooms.apply(lambda x: x == 0)]\n",
    "no_rooms_slice = no_rooms.loc[:, [\"rooms\", \"bedrooms\", \"bathrooms\", \"powder_rooms\"]]\n",
    "print(no_rooms_slice, \"\\n\")\n",
    "\n",
    "# Search non-zero values in slice\n",
    "print(\"Non-zero values in slice:\",\\\n",
    "no_rooms_slice.apply(lambda row: any([x > 0 for x in row])).sum())"
   ]
  },
  {
   "cell_type": "markdown",
   "metadata": {},
   "source": [
    "There are no values to further substitute the missing room information"
   ]
  },
  {
   "cell_type": "code",
   "execution_count": 39,
   "metadata": {},
   "outputs": [
    {
     "output_type": "execute_result",
     "data": {
      "text/plain": "154     Land for sale\n164      Lot for sale\n344      Lot for sale\n345      Lot for sale\n532      Lot for sale\n            ...      \n5381     Lot for sale\n5394     Lot for sale\n5415     Lot for sale\n5416     Lot for sale\n5423     Lot for sale\nName: title, Length: 105, dtype: object"
     },
     "metadata": {},
     "execution_count": 39
    }
   ],
   "source": [
    "no_rooms.title"
   ]
  },
  {
   "cell_type": "markdown",
   "metadata": {},
   "source": [
    "The missing room values appear to correspond to lots/land for sale. We will delete these records."
   ]
  },
  {
   "cell_type": "code",
   "execution_count": 40,
   "metadata": {
    "tags": []
   },
   "outputs": [],
   "source": [
    "df = df.drop(no_rooms.index).reset_index()"
   ]
  },
  {
   "cell_type": "code",
   "execution_count": 41,
   "metadata": {
    "tags": []
   },
   "outputs": [
    {
     "output_type": "stream",
     "name": "stdout",
     "text": "<class 'pandas.core.frame.DataFrame'>\nRangeIndex: 5319 entries, 0 to 5318\nColumns: 90 entries, index to powder_rooms\ndtypes: bool(1), float64(26), int64(40), object(23)\nmemory usage: 3.6+ MB\n"
    }
   ],
   "source": [
    "df.info(max_cols=10)"
   ]
  },
  {
   "cell_type": "markdown",
   "metadata": {},
   "source": [
    "## Columns With Many Missing Values\n",
    "\n",
    "To facilitate working with column names we will transform them to lower-case and replace whitespace with underscores"
   ]
  },
  {
   "cell_type": "code",
   "execution_count": 42,
   "metadata": {},
   "outputs": [],
   "source": [
    "df.columns = df.columns.str.replace(\" \", \"_\").str.lower()"
   ]
  },
  {
   "cell_type": "code",
   "execution_count": 43,
   "metadata": {
    "tags": []
   },
   "outputs": [
    {
     "output_type": "stream",
     "name": "stdout",
     "text": "<class 'pandas.core.frame.DataFrame'>\nRangeIndex: 5319 entries, 0 to 5318\nData columns (total 18 columns):\n #   Column                             Non-Null Count  Dtype \n---  ------                             --------------  ----- \n 0   net_area                           2616 non-null   object\n 1   pool                               1330 non-null   object\n 2   additional_features                3026 non-null   object\n 3   gross_area                         654 non-null    object\n 4   building_style                     1963 non-null   object\n 5   lot_area                           1696 non-null   object\n 6   fireplace/stove                    783 non-null    object\n 7   in_basement                        710 non-null    object\n 8   use_of_property                    868 non-null    object\n 9   number_of_units                    868 non-null    object\n 10  residential_units                  833 non-null    object\n 11  potential_gross_revenue            868 non-null    object\n 12  intergenerational                  24 non-null     object\n 13  building_area_(at_ground_level)    205 non-null    object\n 14  available_area                     110 non-null    object\n 15  residential_unit                   35 non-null     object\n 16  zoning                             0 non-null      object\n 17  parking_(excluded_from_the_price)  56 non-null     object\ndtypes: object(18)\nmemory usage: 748.1+ KB\n"
    }
   ],
   "source": [
    "# Columns with less than 3100 values\n",
    "less_than_3100 = df.apply(lambda col: col.notnull().sum() < 3100, axis=0)\n",
    "df.loc[:, less_than_3100].info()"
   ]
  },
  {
   "cell_type": "code",
   "execution_count": 44,
   "metadata": {
    "tags": []
   },
   "outputs": [
    {
     "output_type": "stream",
     "name": "stdout",
     "text": "<class 'pandas.core.frame.DataFrame'>\nRangeIndex: 5319 entries, 0 to 5318\nData columns (total 72 columns):\n #   Column                                   Non-Null Count  Dtype  \n---  ------                                   --------------  -----  \n 0   index                                    5319 non-null   int64  \n 1   title                                    5319 non-null   object \n 2   address                                  5319 non-null   object \n 3   price                                    5319 non-null   int64  \n 4   lat                                      5319 non-null   float64\n 5   long                                     5319 non-null   float64\n 6   restaurants                              5311 non-null   float64\n 7   shopping                                 5313 non-null   float64\n 8   vibrant                                  5311 non-null   float64\n 9   cycling_friendly                         5310 non-null   float64\n 10  car_friendly                             5308 non-null   float64\n 11  historic                                 5302 non-null   float64\n 12  quiet                                    5303 non-null   float64\n 13  elementary_schools                       5315 non-null   float64\n 14  high_schools                             5313 non-null   float64\n 15  parks                                    5319 non-null   int64  \n 16  nightlife                                5306 non-null   float64\n 17  groceries                                5316 non-null   float64\n 18  daycares                                 5314 non-null   float64\n 19  pedestrian_friendly                      5317 non-null   float64\n 20  cafes                                    5310 non-null   float64\n 21  transit_friendly                         5317 non-null   float64\n 22  greenery                                 5308 non-null   float64\n 23  condominium_type                         3460 non-null   object \n 24  year_built                               5319 non-null   object \n 25  parking_(total)                          3533 non-null   object \n 26  population_2016_                         5319 non-null   int64  \n 27  population_variation_between_2011_2016_  5319 non-null   int64  \n 28  population_density_                      5319 non-null   int64  \n 29  unemployment_rate_2016_                  5319 non-null   int64  \n 30  less_than_$50,000_(%)                    5319 non-null   int64  \n 31  between_$50,000_and_$80,000_(%)          5319 non-null   int64  \n 32  between_$80,000_and_$100,000_(%)         5319 non-null   int64  \n 33  between_$100,000_and_$150,000_(%)        5319 non-null   int64  \n 34  more_than_$150,000_(%)                   5319 non-null   int64  \n 35  1-person_households_(%)                  5319 non-null   int64  \n 36  2-person_households_(%)                  5319 non-null   int64  \n 37  3-person_households_(%)                  5319 non-null   int64  \n 38  4-person_households_(%)                  5319 non-null   int64  \n 39  5-person_or_more_households_(%)          5319 non-null   int64  \n 40  couples_without_children_at_home_(%)     5319 non-null   int64  \n 41  couples_with_children_at_home_(%)        5319 non-null   int64  \n 42  single-parent_families_(%)               5319 non-null   int64  \n 43  owners_(%)                               5319 non-null   int64  \n 44  renters_(%)                              5319 non-null   int64  \n 45  before_1960_(%)                          5319 non-null   int64  \n 46  between_1961_and_1980_(%)                5319 non-null   int64  \n 47  between_1981_and_1990_(%)                5319 non-null   int64  \n 48  between_1991_and_2000_(%)                5319 non-null   int64  \n 49  between_2001_and_2010_(%)                5319 non-null   int64  \n 50  between_2011_and_2016_(%)                5319 non-null   int64  \n 51  single-family_homes_(%)                  5319 non-null   int64  \n 52  semi-detached_or_row_houses_(%)          5319 non-null   int64  \n 53  buildings_with_less_than_5_floors_(%)    5319 non-null   int64  \n 54  buildings_with_5_or_more_floors_(%)      5319 non-null   int64  \n 55  mobile_homes_(%)                         5319 non-null   int64  \n 56  university_(%)                           5319 non-null   int64  \n 57  college_(%)                              5319 non-null   int64  \n 58  secondary_(high)_school_(%)              5319 non-null   int64  \n 59  apprentice_or_trade_school_diploma_(%)   5319 non-null   int64  \n 60  no_diploma_(%)                           5319 non-null   int64  \n 61  non-immigrant_population_(%)             5319 non-null   int64  \n 62  immigrant_population_(%)                 5319 non-null   int64  \n 63  french_(%)                               5319 non-null   float64\n 64  english_(%)                              5319 non-null   float64\n 65  others_languages_(%)                     5319 non-null   float64\n 66  walk_score                               5282 non-null   float64\n 67  rooms                                    5319 non-null   float64\n 68  bedrooms                                 5319 non-null   float64\n 69  basement_bedroom                         5319 non-null   bool   \n 70  bathrooms                                5319 non-null   float64\n 71  powder_rooms                             5319 non-null   float64\ndtypes: bool(1), float64(26), int64(40), object(5)\nmemory usage: 2.9+ MB\n"
    }
   ],
   "source": [
    "# Columns with more than 3100 values\n",
    "df.loc[:, [not many_missing for many_missing in less_than_3100]].info(max_cols=75)"
   ]
  },
  {
   "cell_type": "markdown",
   "metadata": {},
   "source": [
    "Since we previously deleted the lots for sale, we will first remove the now redundant `zoning` feature"
   ]
  },
  {
   "cell_type": "code",
   "execution_count": 45,
   "metadata": {},
   "outputs": [],
   "source": [
    "df.drop(\"zoning\", axis=1, inplace=True)"
   ]
  },
  {
   "cell_type": "markdown",
   "metadata": {},
   "source": [
    "### Missing: Area records\n",
    "\n",
    "Next we will inspect the `area` features and see if we can merge some of them together. The goal would be to end up with only one or two features with mostly non-missing values. For this we must reveal the logic behind each area feature. This may then allow us to merge some of them together."
   ]
  },
  {
   "cell_type": "code",
   "execution_count": 46,
   "metadata": {
    "tags": []
   },
   "outputs": [
    {
     "output_type": "stream",
     "name": "stdout",
     "text": "<class 'pandas.core.frame.DataFrame'>\nRangeIndex: 5319 entries, 0 to 5318\nData columns (total 5 columns):\n #   Column                           Non-Null Count  Dtype \n---  ------                           --------------  ----- \n 0   net_area                         2616 non-null   object\n 1   gross_area                       654 non-null    object\n 2   building_area_(at_ground_level)  205 non-null    object\n 3   lot_area                         1696 non-null   object\n 4   available_area                   110 non-null    object\ndtypes: object(5)\nmemory usage: 207.9+ KB\n"
    }
   ],
   "source": [
    "area = [\"net_area\", \"gross_area\", \"building_area_(at_ground_level)\", \"lot_area\", \"available_area\"]\n",
    "df_area = df[area]\n",
    "df_area.info()"
   ]
  },
  {
   "cell_type": "markdown",
   "metadata": {},
   "source": [
    "Before we go any further, we need to clean up the area columns."
   ]
  },
  {
   "cell_type": "code",
   "execution_count": 47,
   "metadata": {},
   "outputs": [
    {
     "output_type": "execute_result",
     "data": {
      "text/plain": "     net_area gross_area building_area lot_area      available_area\n0       1014         NaN           NaN      NaN                 NaN\n1       1249         NaN           NaN      NaN                 NaN\n2        848         NaN           NaN      NaN                 NaN\n3         NaN       621            NaN      NaN                 NaN\n4        586         NaN           NaN      NaN                 NaN\n...       ...        ...           ...      ...                 ...\n5314     552         NaN           NaN      NaN                 NaN\n5315     808         NaN           NaN      NaN                 NaN\n5316    1390         NaN           NaN      NaN                 NaN\n5317    1218         NaN           NaN      NaN                 NaN\n5318      NaN        NaN         1368     2990   From 684  to 1368 \n\n[5319 rows x 5 columns]",
      "text/html": "<div>\n<style scoped>\n    .dataframe tbody tr th:only-of-type {\n        vertical-align: middle;\n    }\n\n    .dataframe tbody tr th {\n        vertical-align: top;\n    }\n\n    .dataframe thead th {\n        text-align: right;\n    }\n</style>\n<table border=\"1\" class=\"dataframe\">\n  <thead>\n    <tr style=\"text-align: right;\">\n      <th></th>\n      <th>net_area</th>\n      <th>gross_area</th>\n      <th>building_area</th>\n      <th>lot_area</th>\n      <th>available_area</th>\n    </tr>\n  </thead>\n  <tbody>\n    <tr>\n      <th>0</th>\n      <td>1014</td>\n      <td>NaN</td>\n      <td>NaN</td>\n      <td>NaN</td>\n      <td>NaN</td>\n    </tr>\n    <tr>\n      <th>1</th>\n      <td>1249</td>\n      <td>NaN</td>\n      <td>NaN</td>\n      <td>NaN</td>\n      <td>NaN</td>\n    </tr>\n    <tr>\n      <th>2</th>\n      <td>848</td>\n      <td>NaN</td>\n      <td>NaN</td>\n      <td>NaN</td>\n      <td>NaN</td>\n    </tr>\n    <tr>\n      <th>3</th>\n      <td>NaN</td>\n      <td>621</td>\n      <td>NaN</td>\n      <td>NaN</td>\n      <td>NaN</td>\n    </tr>\n    <tr>\n      <th>4</th>\n      <td>586</td>\n      <td>NaN</td>\n      <td>NaN</td>\n      <td>NaN</td>\n      <td>NaN</td>\n    </tr>\n    <tr>\n      <th>...</th>\n      <td>...</td>\n      <td>...</td>\n      <td>...</td>\n      <td>...</td>\n      <td>...</td>\n    </tr>\n    <tr>\n      <th>5314</th>\n      <td>552</td>\n      <td>NaN</td>\n      <td>NaN</td>\n      <td>NaN</td>\n      <td>NaN</td>\n    </tr>\n    <tr>\n      <th>5315</th>\n      <td>808</td>\n      <td>NaN</td>\n      <td>NaN</td>\n      <td>NaN</td>\n      <td>NaN</td>\n    </tr>\n    <tr>\n      <th>5316</th>\n      <td>1390</td>\n      <td>NaN</td>\n      <td>NaN</td>\n      <td>NaN</td>\n      <td>NaN</td>\n    </tr>\n    <tr>\n      <th>5317</th>\n      <td>1218</td>\n      <td>NaN</td>\n      <td>NaN</td>\n      <td>NaN</td>\n      <td>NaN</td>\n    </tr>\n    <tr>\n      <th>5318</th>\n      <td>NaN</td>\n      <td>NaN</td>\n      <td>1368</td>\n      <td>2990</td>\n      <td>From 684  to 1368</td>\n    </tr>\n  </tbody>\n</table>\n<p>5319 rows × 5 columns</p>\n</div>"
     },
     "metadata": {},
     "execution_count": 47
    }
   ],
   "source": [
    "# Remove 'sqft' and ',' from area features\n",
    "df_area.replace(regex=\"sqft\", value=\"\", inplace=True)\n",
    "df_area.replace(regex=\",\", value=\"\", inplace=True)\n",
    "# Rename building_area\n",
    "df_area.rename(columns={\"building_area_(at_ground_level)\":\"building_area\"}, inplace=True)\n",
    "df.rename(columns={\"building_area_(at_ground_level)\":\"building_area\"}, inplace=True)\n",
    "df_area"
   ]
  },
  {
   "cell_type": "markdown",
   "metadata": {},
   "source": [
    "To make sense out of all of the different area types we will make a dictionary indicating the number of intersecting records between each area column."
   ]
  },
  {
   "cell_type": "code",
   "execution_count": 48,
   "metadata": {
    "tags": []
   },
   "outputs": [
    {
     "output_type": "stream",
     "name": "stdout",
     "text": "Legend:\n0: net_area\n1: gross_area\n2: building_area\n3: lot_area\n4: available_area\n"
    },
    {
     "output_type": "execute_result",
     "data": {
      "text/plain": "{'00': 2616,\n '01': 0,\n '02': 0,\n '03': 0,\n '04': 0,\n '10': 0,\n '11': 654,\n '12': 0,\n '13': 0,\n '14': 0,\n '20': 0,\n '21': 0,\n '22': 205,\n '23': 198,\n '24': 36,\n '30': 0,\n '31': 0,\n '32': 198,\n '33': 1696,\n '34': 103,\n '40': 0,\n '41': 0,\n '42': 36,\n '43': 103,\n '44': 110}"
     },
     "metadata": {},
     "execution_count": 48
    }
   ],
   "source": [
    "def compute_col_intersections(data_frame):\n",
    "    \"\"\"Computes the number of intersecting records for each \n",
    "    pairwise combination of columns\n",
    "\n",
    "    Returns:\n",
    "    intersections_dict - dictionary with column indices as keys \n",
    "        and the number of intersecting records as values\n",
    "    \"\"\"\n",
    "    intersections_dict = {}\n",
    "    n_cols = data_frame.shape[1]\n",
    "    # Compair all possible combinations of columns\n",
    "    for n in range(n_cols):\n",
    "        col_1 = data_frame.iloc[:,n]\n",
    "        for m in range(n_cols):\n",
    "            col_2 = data_frame.iloc[:,m]\n",
    "            overlap = col_1.notna() & col_2.notna()\n",
    "            # indices of compaired columns as keys: 00, 01, ... \n",
    "            # number of record overlaps as values\n",
    "            intersections_dict[str(n)+str(m)] = overlap.sum()\n",
    "    # Legend\n",
    "    legend = \"\\n\".join([(str(index) + \": \" + str(col_name))\\\n",
    "        for index, col_name in enumerate(data_frame.columns)])\n",
    "    print(\"Legend:\\n\" + legend)\n",
    "    return intersections_dict\n",
    "\n",
    "compute_col_intersections(df_area)"
   ]
  },
  {
   "cell_type": "markdown",
   "metadata": {},
   "source": [
    "Next we will count and visualize the types of listings (Condo, duplex, house, ...) for each area type"
   ]
  },
  {
   "cell_type": "code",
   "execution_count": 49,
   "metadata": {
    "tags": []
   },
   "outputs": [
    {
     "output_type": "execute_result",
     "data": {
      "text/plain": "       area_type                 listing count\n0       net_area          Condo for sale  2572\n1       net_area  Loft / Studio for sale    44\n2     gross_area          Condo for sale   651\n3     gross_area  Loft / Studio for sale     3\n4  building_area         Duplex for sale    87\n5  building_area        Triplex for sale    77\n6  building_area     Quadruplex for sale    22\n7  building_area     Quintuplex for sale    19\n8       lot_area          House for sale   870\n9       lot_area         Duplex for sale   337",
      "text/html": "<div>\n<style scoped>\n    .dataframe tbody tr th:only-of-type {\n        vertical-align: middle;\n    }\n\n    .dataframe tbody tr th {\n        vertical-align: top;\n    }\n\n    .dataframe thead th {\n        text-align: right;\n    }\n</style>\n<table border=\"1\" class=\"dataframe\">\n  <thead>\n    <tr style=\"text-align: right;\">\n      <th></th>\n      <th>area_type</th>\n      <th>listing</th>\n      <th>count</th>\n    </tr>\n  </thead>\n  <tbody>\n    <tr>\n      <th>0</th>\n      <td>net_area</td>\n      <td>Condo for sale</td>\n      <td>2572</td>\n    </tr>\n    <tr>\n      <th>1</th>\n      <td>net_area</td>\n      <td>Loft / Studio for sale</td>\n      <td>44</td>\n    </tr>\n    <tr>\n      <th>2</th>\n      <td>gross_area</td>\n      <td>Condo for sale</td>\n      <td>651</td>\n    </tr>\n    <tr>\n      <th>3</th>\n      <td>gross_area</td>\n      <td>Loft / Studio for sale</td>\n      <td>3</td>\n    </tr>\n    <tr>\n      <th>4</th>\n      <td>building_area</td>\n      <td>Duplex for sale</td>\n      <td>87</td>\n    </tr>\n    <tr>\n      <th>5</th>\n      <td>building_area</td>\n      <td>Triplex for sale</td>\n      <td>77</td>\n    </tr>\n    <tr>\n      <th>6</th>\n      <td>building_area</td>\n      <td>Quadruplex for sale</td>\n      <td>22</td>\n    </tr>\n    <tr>\n      <th>7</th>\n      <td>building_area</td>\n      <td>Quintuplex for sale</td>\n      <td>19</td>\n    </tr>\n    <tr>\n      <th>8</th>\n      <td>lot_area</td>\n      <td>House for sale</td>\n      <td>870</td>\n    </tr>\n    <tr>\n      <th>9</th>\n      <td>lot_area</td>\n      <td>Duplex for sale</td>\n      <td>337</td>\n    </tr>\n  </tbody>\n</table>\n</div>"
     },
     "metadata": {},
     "execution_count": 49
    }
   ],
   "source": [
    "def into_plotly_table(series, area_type: str):\n",
    "    \"\"\"\n",
    "    Transforms the series into a DataFrame conform with a plotly barplot. The \"area_type\" column of the final \n",
    "    table indicates the type of area (net, gross, lot, etc.), the \"listing\" column holds the titles (Condo, Duplex, etc.), \n",
    "    and lastly \"count\" indicates the counts of each listing title of the specified area types.\n",
    "    \n",
    "    Args:\n",
    "    series - value counts of titles for a specific area type\n",
    "    area_type - a string indicating the type of area\n",
    "\n",
    "    Returns:\n",
    "    new_df - data frame with columns \"area_type\"/listing\"/\"count\"\n",
    "    \"\"\"\n",
    "\n",
    "    new_df = pd.DataFrame()\n",
    "    area_type = [area_type for i in range(series.shape[0])]\n",
    "    \n",
    "    # New columns\n",
    "    new_df[\"area_type\"] = pd.Series(area_type)\n",
    "    new_df[\"listing\"] = series.index\n",
    "    new_df[\"count\"] = series.values\n",
    "    return new_df\n",
    "\n",
    "# Table used for plotly visualization\n",
    "visualization_table = pd.DataFrame(columns=[\"area_type\", \"listing\", \"count\"])\n",
    "for area_type in df_area.columns:\n",
    "    area_not_null = df[df_area[area_type].notnull()]\n",
    "    title_counts = area_not_null.title.value_counts()\n",
    "    # Append\n",
    "    visualization_table = visualization_table.append(\\\n",
    "        into_plotly_table(title_counts, area_type),\\\n",
    "            ignore_index=True)\n",
    "visualization_table.head(10)"
   ]
  },
  {
   "cell_type": "code",
   "execution_count": 50,
   "metadata": {},
   "outputs": [
    {
     "output_type": "display_data",
     "data": {
      "application/vnd.plotly.v1+json": {
       "config": {
        "plotlyServerURL": "https://plot.ly"
       },
       "data": [
        {
         "alignmentgroup": "True",
         "hovertemplate": "listing=Condo for sale<br>Area type=%{x}<br>Count=%{y}<extra></extra>",
         "legendgroup": "Condo for sale",
         "marker": {
          "color": "#636efa"
         },
         "name": "Condo for sale",
         "offsetgroup": "Condo for sale",
         "orientation": "v",
         "showlegend": true,
         "textposition": "auto",
         "type": "bar",
         "x": [
          "net_area",
          "gross_area"
         ],
         "xaxis": "x",
         "y": [
          2572,
          651
         ],
         "yaxis": "y"
        },
        {
         "alignmentgroup": "True",
         "hovertemplate": "listing=Loft / Studio for sale<br>Area type=%{x}<br>Count=%{y}<extra></extra>",
         "legendgroup": "Loft / Studio for sale",
         "marker": {
          "color": "#EF553B"
         },
         "name": "Loft / Studio for sale",
         "offsetgroup": "Loft / Studio for sale",
         "orientation": "v",
         "showlegend": true,
         "textposition": "auto",
         "type": "bar",
         "x": [
          "net_area",
          "gross_area"
         ],
         "xaxis": "x",
         "y": [
          44,
          3
         ],
         "yaxis": "y"
        },
        {
         "alignmentgroup": "True",
         "hovertemplate": "listing=Duplex for sale<br>Area type=%{x}<br>Count=%{y}<extra></extra>",
         "legendgroup": "Duplex for sale",
         "marker": {
          "color": "#00cc96"
         },
         "name": "Duplex for sale",
         "offsetgroup": "Duplex for sale",
         "orientation": "v",
         "showlegend": true,
         "textposition": "auto",
         "type": "bar",
         "x": [
          "building_area",
          "lot_area",
          "available_area"
         ],
         "xaxis": "x",
         "y": [
          87,
          337,
          30
         ],
         "yaxis": "y"
        },
        {
         "alignmentgroup": "True",
         "hovertemplate": "listing=Triplex for sale<br>Area type=%{x}<br>Count=%{y}<extra></extra>",
         "legendgroup": "Triplex for sale",
         "marker": {
          "color": "#ab63fa"
         },
         "name": "Triplex for sale",
         "offsetgroup": "Triplex for sale",
         "orientation": "v",
         "showlegend": true,
         "textposition": "auto",
         "type": "bar",
         "x": [
          "building_area",
          "lot_area",
          "available_area"
         ],
         "xaxis": "x",
         "y": [
          77,
          261,
          50
         ],
         "yaxis": "y"
        },
        {
         "alignmentgroup": "True",
         "hovertemplate": "listing=Quadruplex for sale<br>Area type=%{x}<br>Count=%{y}<extra></extra>",
         "legendgroup": "Quadruplex for sale",
         "marker": {
          "color": "#FFA15A"
         },
         "name": "Quadruplex for sale",
         "offsetgroup": "Quadruplex for sale",
         "orientation": "v",
         "showlegend": true,
         "textposition": "auto",
         "type": "bar",
         "x": [
          "building_area",
          "lot_area",
          "available_area"
         ],
         "xaxis": "x",
         "y": [
          22,
          123,
          18
         ],
         "yaxis": "y"
        },
        {
         "alignmentgroup": "True",
         "hovertemplate": "listing=Quintuplex for sale<br>Area type=%{x}<br>Count=%{y}<extra></extra>",
         "legendgroup": "Quintuplex for sale",
         "marker": {
          "color": "#19d3f3"
         },
         "name": "Quintuplex for sale",
         "offsetgroup": "Quintuplex for sale",
         "orientation": "v",
         "showlegend": true,
         "textposition": "auto",
         "type": "bar",
         "x": [
          "building_area",
          "lot_area",
          "available_area"
         ],
         "xaxis": "x",
         "y": [
          19,
          68,
          12
         ],
         "yaxis": "y"
        },
        {
         "alignmentgroup": "True",
         "hovertemplate": "listing=House for sale<br>Area type=%{x}<br>Count=%{y}<extra></extra>",
         "legendgroup": "House for sale",
         "marker": {
          "color": "#FF6692"
         },
         "name": "House for sale",
         "offsetgroup": "House for sale",
         "orientation": "v",
         "showlegend": true,
         "textposition": "auto",
         "type": "bar",
         "x": [
          "lot_area"
         ],
         "xaxis": "x",
         "y": [
          870
         ],
         "yaxis": "y"
        },
        {
         "alignmentgroup": "True",
         "hovertemplate": "listing=Condominium house for sale<br>Area type=%{x}<br>Count=%{y}<extra></extra>",
         "legendgroup": "Condominium house for sale",
         "marker": {
          "color": "#B6E880"
         },
         "name": "Condominium house for sale",
         "offsetgroup": "Condominium house for sale",
         "orientation": "v",
         "showlegend": true,
         "textposition": "auto",
         "type": "bar",
         "x": [
          "lot_area"
         ],
         "xaxis": "x",
         "y": [
          37
         ],
         "yaxis": "y"
        }
       ],
       "layout": {
        "barmode": "relative",
        "legend": {
         "title": {
          "text": "listing"
         },
         "tracegroupgap": 0
        },
        "template": {
         "data": {
          "bar": [
           {
            "error_x": {
             "color": "#2a3f5f"
            },
            "error_y": {
             "color": "#2a3f5f"
            },
            "marker": {
             "line": {
              "color": "#E5ECF6",
              "width": 0.5
             }
            },
            "type": "bar"
           }
          ],
          "barpolar": [
           {
            "marker": {
             "line": {
              "color": "#E5ECF6",
              "width": 0.5
             }
            },
            "type": "barpolar"
           }
          ],
          "carpet": [
           {
            "aaxis": {
             "endlinecolor": "#2a3f5f",
             "gridcolor": "white",
             "linecolor": "white",
             "minorgridcolor": "white",
             "startlinecolor": "#2a3f5f"
            },
            "baxis": {
             "endlinecolor": "#2a3f5f",
             "gridcolor": "white",
             "linecolor": "white",
             "minorgridcolor": "white",
             "startlinecolor": "#2a3f5f"
            },
            "type": "carpet"
           }
          ],
          "choropleth": [
           {
            "colorbar": {
             "outlinewidth": 0,
             "ticks": ""
            },
            "type": "choropleth"
           }
          ],
          "contour": [
           {
            "colorbar": {
             "outlinewidth": 0,
             "ticks": ""
            },
            "colorscale": [
             [
              0,
              "#0d0887"
             ],
             [
              0.1111111111111111,
              "#46039f"
             ],
             [
              0.2222222222222222,
              "#7201a8"
             ],
             [
              0.3333333333333333,
              "#9c179e"
             ],
             [
              0.4444444444444444,
              "#bd3786"
             ],
             [
              0.5555555555555556,
              "#d8576b"
             ],
             [
              0.6666666666666666,
              "#ed7953"
             ],
             [
              0.7777777777777778,
              "#fb9f3a"
             ],
             [
              0.8888888888888888,
              "#fdca26"
             ],
             [
              1,
              "#f0f921"
             ]
            ],
            "type": "contour"
           }
          ],
          "contourcarpet": [
           {
            "colorbar": {
             "outlinewidth": 0,
             "ticks": ""
            },
            "type": "contourcarpet"
           }
          ],
          "heatmap": [
           {
            "colorbar": {
             "outlinewidth": 0,
             "ticks": ""
            },
            "colorscale": [
             [
              0,
              "#0d0887"
             ],
             [
              0.1111111111111111,
              "#46039f"
             ],
             [
              0.2222222222222222,
              "#7201a8"
             ],
             [
              0.3333333333333333,
              "#9c179e"
             ],
             [
              0.4444444444444444,
              "#bd3786"
             ],
             [
              0.5555555555555556,
              "#d8576b"
             ],
             [
              0.6666666666666666,
              "#ed7953"
             ],
             [
              0.7777777777777778,
              "#fb9f3a"
             ],
             [
              0.8888888888888888,
              "#fdca26"
             ],
             [
              1,
              "#f0f921"
             ]
            ],
            "type": "heatmap"
           }
          ],
          "heatmapgl": [
           {
            "colorbar": {
             "outlinewidth": 0,
             "ticks": ""
            },
            "colorscale": [
             [
              0,
              "#0d0887"
             ],
             [
              0.1111111111111111,
              "#46039f"
             ],
             [
              0.2222222222222222,
              "#7201a8"
             ],
             [
              0.3333333333333333,
              "#9c179e"
             ],
             [
              0.4444444444444444,
              "#bd3786"
             ],
             [
              0.5555555555555556,
              "#d8576b"
             ],
             [
              0.6666666666666666,
              "#ed7953"
             ],
             [
              0.7777777777777778,
              "#fb9f3a"
             ],
             [
              0.8888888888888888,
              "#fdca26"
             ],
             [
              1,
              "#f0f921"
             ]
            ],
            "type": "heatmapgl"
           }
          ],
          "histogram": [
           {
            "marker": {
             "colorbar": {
              "outlinewidth": 0,
              "ticks": ""
             }
            },
            "type": "histogram"
           }
          ],
          "histogram2d": [
           {
            "colorbar": {
             "outlinewidth": 0,
             "ticks": ""
            },
            "colorscale": [
             [
              0,
              "#0d0887"
             ],
             [
              0.1111111111111111,
              "#46039f"
             ],
             [
              0.2222222222222222,
              "#7201a8"
             ],
             [
              0.3333333333333333,
              "#9c179e"
             ],
             [
              0.4444444444444444,
              "#bd3786"
             ],
             [
              0.5555555555555556,
              "#d8576b"
             ],
             [
              0.6666666666666666,
              "#ed7953"
             ],
             [
              0.7777777777777778,
              "#fb9f3a"
             ],
             [
              0.8888888888888888,
              "#fdca26"
             ],
             [
              1,
              "#f0f921"
             ]
            ],
            "type": "histogram2d"
           }
          ],
          "histogram2dcontour": [
           {
            "colorbar": {
             "outlinewidth": 0,
             "ticks": ""
            },
            "colorscale": [
             [
              0,
              "#0d0887"
             ],
             [
              0.1111111111111111,
              "#46039f"
             ],
             [
              0.2222222222222222,
              "#7201a8"
             ],
             [
              0.3333333333333333,
              "#9c179e"
             ],
             [
              0.4444444444444444,
              "#bd3786"
             ],
             [
              0.5555555555555556,
              "#d8576b"
             ],
             [
              0.6666666666666666,
              "#ed7953"
             ],
             [
              0.7777777777777778,
              "#fb9f3a"
             ],
             [
              0.8888888888888888,
              "#fdca26"
             ],
             [
              1,
              "#f0f921"
             ]
            ],
            "type": "histogram2dcontour"
           }
          ],
          "mesh3d": [
           {
            "colorbar": {
             "outlinewidth": 0,
             "ticks": ""
            },
            "type": "mesh3d"
           }
          ],
          "parcoords": [
           {
            "line": {
             "colorbar": {
              "outlinewidth": 0,
              "ticks": ""
             }
            },
            "type": "parcoords"
           }
          ],
          "pie": [
           {
            "automargin": true,
            "type": "pie"
           }
          ],
          "scatter": [
           {
            "marker": {
             "colorbar": {
              "outlinewidth": 0,
              "ticks": ""
             }
            },
            "type": "scatter"
           }
          ],
          "scatter3d": [
           {
            "line": {
             "colorbar": {
              "outlinewidth": 0,
              "ticks": ""
             }
            },
            "marker": {
             "colorbar": {
              "outlinewidth": 0,
              "ticks": ""
             }
            },
            "type": "scatter3d"
           }
          ],
          "scattercarpet": [
           {
            "marker": {
             "colorbar": {
              "outlinewidth": 0,
              "ticks": ""
             }
            },
            "type": "scattercarpet"
           }
          ],
          "scattergeo": [
           {
            "marker": {
             "colorbar": {
              "outlinewidth": 0,
              "ticks": ""
             }
            },
            "type": "scattergeo"
           }
          ],
          "scattergl": [
           {
            "marker": {
             "colorbar": {
              "outlinewidth": 0,
              "ticks": ""
             }
            },
            "type": "scattergl"
           }
          ],
          "scattermapbox": [
           {
            "marker": {
             "colorbar": {
              "outlinewidth": 0,
              "ticks": ""
             }
            },
            "type": "scattermapbox"
           }
          ],
          "scatterpolar": [
           {
            "marker": {
             "colorbar": {
              "outlinewidth": 0,
              "ticks": ""
             }
            },
            "type": "scatterpolar"
           }
          ],
          "scatterpolargl": [
           {
            "marker": {
             "colorbar": {
              "outlinewidth": 0,
              "ticks": ""
             }
            },
            "type": "scatterpolargl"
           }
          ],
          "scatterternary": [
           {
            "marker": {
             "colorbar": {
              "outlinewidth": 0,
              "ticks": ""
             }
            },
            "type": "scatterternary"
           }
          ],
          "surface": [
           {
            "colorbar": {
             "outlinewidth": 0,
             "ticks": ""
            },
            "colorscale": [
             [
              0,
              "#0d0887"
             ],
             [
              0.1111111111111111,
              "#46039f"
             ],
             [
              0.2222222222222222,
              "#7201a8"
             ],
             [
              0.3333333333333333,
              "#9c179e"
             ],
             [
              0.4444444444444444,
              "#bd3786"
             ],
             [
              0.5555555555555556,
              "#d8576b"
             ],
             [
              0.6666666666666666,
              "#ed7953"
             ],
             [
              0.7777777777777778,
              "#fb9f3a"
             ],
             [
              0.8888888888888888,
              "#fdca26"
             ],
             [
              1,
              "#f0f921"
             ]
            ],
            "type": "surface"
           }
          ],
          "table": [
           {
            "cells": {
             "fill": {
              "color": "#EBF0F8"
             },
             "line": {
              "color": "white"
             }
            },
            "header": {
             "fill": {
              "color": "#C8D4E3"
             },
             "line": {
              "color": "white"
             }
            },
            "type": "table"
           }
          ]
         },
         "layout": {
          "annotationdefaults": {
           "arrowcolor": "#2a3f5f",
           "arrowhead": 0,
           "arrowwidth": 1
          },
          "coloraxis": {
           "colorbar": {
            "outlinewidth": 0,
            "ticks": ""
           }
          },
          "colorscale": {
           "diverging": [
            [
             0,
             "#8e0152"
            ],
            [
             0.1,
             "#c51b7d"
            ],
            [
             0.2,
             "#de77ae"
            ],
            [
             0.3,
             "#f1b6da"
            ],
            [
             0.4,
             "#fde0ef"
            ],
            [
             0.5,
             "#f7f7f7"
            ],
            [
             0.6,
             "#e6f5d0"
            ],
            [
             0.7,
             "#b8e186"
            ],
            [
             0.8,
             "#7fbc41"
            ],
            [
             0.9,
             "#4d9221"
            ],
            [
             1,
             "#276419"
            ]
           ],
           "sequential": [
            [
             0,
             "#0d0887"
            ],
            [
             0.1111111111111111,
             "#46039f"
            ],
            [
             0.2222222222222222,
             "#7201a8"
            ],
            [
             0.3333333333333333,
             "#9c179e"
            ],
            [
             0.4444444444444444,
             "#bd3786"
            ],
            [
             0.5555555555555556,
             "#d8576b"
            ],
            [
             0.6666666666666666,
             "#ed7953"
            ],
            [
             0.7777777777777778,
             "#fb9f3a"
            ],
            [
             0.8888888888888888,
             "#fdca26"
            ],
            [
             1,
             "#f0f921"
            ]
           ],
           "sequentialminus": [
            [
             0,
             "#0d0887"
            ],
            [
             0.1111111111111111,
             "#46039f"
            ],
            [
             0.2222222222222222,
             "#7201a8"
            ],
            [
             0.3333333333333333,
             "#9c179e"
            ],
            [
             0.4444444444444444,
             "#bd3786"
            ],
            [
             0.5555555555555556,
             "#d8576b"
            ],
            [
             0.6666666666666666,
             "#ed7953"
            ],
            [
             0.7777777777777778,
             "#fb9f3a"
            ],
            [
             0.8888888888888888,
             "#fdca26"
            ],
            [
             1,
             "#f0f921"
            ]
           ]
          },
          "colorway": [
           "#636efa",
           "#EF553B",
           "#00cc96",
           "#ab63fa",
           "#FFA15A",
           "#19d3f3",
           "#FF6692",
           "#B6E880",
           "#FF97FF",
           "#FECB52"
          ],
          "font": {
           "color": "#2a3f5f"
          },
          "geo": {
           "bgcolor": "white",
           "lakecolor": "white",
           "landcolor": "#E5ECF6",
           "showlakes": true,
           "showland": true,
           "subunitcolor": "white"
          },
          "hoverlabel": {
           "align": "left"
          },
          "hovermode": "closest",
          "mapbox": {
           "style": "light"
          },
          "paper_bgcolor": "white",
          "plot_bgcolor": "#E5ECF6",
          "polar": {
           "angularaxis": {
            "gridcolor": "white",
            "linecolor": "white",
            "ticks": ""
           },
           "bgcolor": "#E5ECF6",
           "radialaxis": {
            "gridcolor": "white",
            "linecolor": "white",
            "ticks": ""
           }
          },
          "scene": {
           "xaxis": {
            "backgroundcolor": "#E5ECF6",
            "gridcolor": "white",
            "gridwidth": 2,
            "linecolor": "white",
            "showbackground": true,
            "ticks": "",
            "zerolinecolor": "white"
           },
           "yaxis": {
            "backgroundcolor": "#E5ECF6",
            "gridcolor": "white",
            "gridwidth": 2,
            "linecolor": "white",
            "showbackground": true,
            "ticks": "",
            "zerolinecolor": "white"
           },
           "zaxis": {
            "backgroundcolor": "#E5ECF6",
            "gridcolor": "white",
            "gridwidth": 2,
            "linecolor": "white",
            "showbackground": true,
            "ticks": "",
            "zerolinecolor": "white"
           }
          },
          "shapedefaults": {
           "line": {
            "color": "#2a3f5f"
           }
          },
          "ternary": {
           "aaxis": {
            "gridcolor": "white",
            "linecolor": "white",
            "ticks": ""
           },
           "baxis": {
            "gridcolor": "white",
            "linecolor": "white",
            "ticks": ""
           },
           "bgcolor": "#E5ECF6",
           "caxis": {
            "gridcolor": "white",
            "linecolor": "white",
            "ticks": ""
           }
          },
          "title": {
           "x": 0.05
          },
          "xaxis": {
           "automargin": true,
           "gridcolor": "white",
           "linecolor": "white",
           "ticks": "",
           "title": {
            "standoff": 15
           },
           "zerolinecolor": "white",
           "zerolinewidth": 2
          },
          "yaxis": {
           "automargin": true,
           "gridcolor": "white",
           "linecolor": "white",
           "ticks": "",
           "title": {
            "standoff": 15
           },
           "zerolinecolor": "white",
           "zerolinewidth": 2
          }
         }
        },
        "title": {
         "text": "Counts of building types per area type"
        },
        "xaxis": {
         "anchor": "y",
         "domain": [
          0,
          1
         ],
         "title": {
          "text": "Area type"
         }
        },
        "yaxis": {
         "anchor": "x",
         "domain": [
          0,
          1
         ],
         "title": {
          "text": "Count"
         }
        }
       }
      }
     },
     "metadata": {}
    }
   ],
   "source": [
    "# Visualize\n",
    "fig = px.bar(visualization_table, x=\"area_type\", y=\"count\", color=\"listing\",\\\n",
    "    title=\"Counts of building types per area type\",\n",
    "    labels={'area_type': \"Area type\", \"count\": \"Count\"})\n",
    "fig.show()"
   ]
  },
  {
   "cell_type": "markdown",
   "metadata": {},
   "source": [
    "From this, we can see right away, that `net_area` and `gross_area` are exclusive to condos and lofts. Further, there are no intersections between the two features (listings with both net and gross areas). Since net and gross are essentially synonymous, all of this strongly suggests that these columns should be merged. Condos typically don't have backyards/lawns, net and gross areas therefore probably correspond to areas of total living space and as such might be mergeable with `building_area`. This will need some verification, however.\n",
    "\n",
    "For `available_area`, it remains unclear where this information might best belong or what it signifies. The same set of building types are present for both building_area and available_area: Quintuplex, Quadruplex, Triplex, and Duplex. This may suggest, that building and available area are the same. However, the intersection dictionary shows that some listings have both `available_area` and `building_area` records, which should not be the case if they contain the same information. Inspecting those cases might give further clarification.\n",
    "\n",
    "Lastly, \"House for sale\" is exclusive to `lot_area`. `lot_area` also includes the type of housings found for `available_area`/`building_area`. The intersection dictionary highlights that all three of the remaining columns have intersections which implies that they hold different and therefore unmergeable information. "
   ]
  },
  {
   "cell_type": "markdown",
   "metadata": {},
   "source": [
    "From the intersection dictionary, we know that there are only three column combinations that intersect: 23, 24, and 34.  \n",
    "\n",
    "These corresponds to: \n",
    "\n",
    "`building_area (2) - lot_area (3)`   \n",
    "`building_area (2) - available_area (4)`   \n",
    "`lot_area (3) - available_area (4)`\n",
    "\n",
    "There are large overlap sections between `lot_area` and the remaining two types (`32`: 198; `34`: 104) but comparably little intersection between building and available areas (`24`: 36).  Additionally, almost all of those intersections (34 out of 36) also intersect with `lot_area`.  \n",
    "\n",
    "According to [lawinsider](https://www.lawinsider.com/dictionary/lot-area) lot area is defined as \"the total horizontal area within the lot lines of a lot\". Which would not include any building areas in the third dimension. According to centris, `building_area` is the area at the ground level of the building, which also does not include the third dimension. We can infer from this, that `available_area` likely corresponds to the third dimension within the building.\n",
    "\n",
    "To test this hypothesis we can look at listings with `building_area` but without `available_area` records. What we would expect here is apartments with only a single floor. Secondly, records with both area types should always be larger for `available_area`."
   ]
  },
  {
   "cell_type": "code",
   "execution_count": 51,
   "metadata": {},
   "outputs": [
    {
     "output_type": "execute_result",
     "data": {
      "text/plain": "                                                address                title  \\\n29    5518 - 5522, boulevard Saint-Michel, Montréal ...     Triplex for sale   \n53    4213 - 4215, boulevard Rosemont, Montréal (Ros...      Duplex for sale   \n73    8060 - 8064, boulevard Maurice-Duplessis, Mont...     Triplex for sale   \n101   5270 - 5274, 8e Avenue, Montréal (Rosemont/La ...     Triplex for sale   \n115   5042 - 5046, Avenue Jeanne-d'Arc, Montréal (Ro...     Triplex for sale   \n...                                                 ...                  ...   \n5046  887 - 889, 56e Avenue, Montréal (Lachine), Nei...      Duplex for sale   \n5140  2010 - 2012, Rue Saint-Hubert, Montréal (Ville...      Duplex for sale   \n5152  1848 - 1850, Avenue O'Brien, Montréal (Saint-L...      Duplex for sale   \n5165          8284 - 8286, Rue Dora, Montréal (LaSalle)      Duplex for sale   \n5191  311, Rue Ontario Est, Montréal (Ville-Marie), ...  Quadruplex for sale   \n\n        lot_area building_area available_area  \n29    2,286 sqft      875 sqft            NaN  \n53    2,102 sqft    2,025 sqft            NaN  \n73    4,698 sqft    1,360 sqft            NaN  \n101   1,474 sqft      845 sqft            NaN  \n115   3,124 sqft    1,331 sqft            NaN  \n...          ...           ...            ...  \n5046  2,866 sqft    1,197 sqft            NaN  \n5140  2,134 sqft    1,023 sqft            NaN  \n5152  5,569 sqft    1,400 sqft            NaN  \n5165  2,324 sqft    1,120 sqft            NaN  \n5191  2,915 sqft      970 sqft            NaN  \n\n[169 rows x 5 columns]",
      "text/html": "<div>\n<style scoped>\n    .dataframe tbody tr th:only-of-type {\n        vertical-align: middle;\n    }\n\n    .dataframe tbody tr th {\n        vertical-align: top;\n    }\n\n    .dataframe thead th {\n        text-align: right;\n    }\n</style>\n<table border=\"1\" class=\"dataframe\">\n  <thead>\n    <tr style=\"text-align: right;\">\n      <th></th>\n      <th>address</th>\n      <th>title</th>\n      <th>lot_area</th>\n      <th>building_area</th>\n      <th>available_area</th>\n    </tr>\n  </thead>\n  <tbody>\n    <tr>\n      <th>29</th>\n      <td>5518 - 5522, boulevard Saint-Michel, Montréal ...</td>\n      <td>Triplex for sale</td>\n      <td>2,286 sqft</td>\n      <td>875 sqft</td>\n      <td>NaN</td>\n    </tr>\n    <tr>\n      <th>53</th>\n      <td>4213 - 4215, boulevard Rosemont, Montréal (Ros...</td>\n      <td>Duplex for sale</td>\n      <td>2,102 sqft</td>\n      <td>2,025 sqft</td>\n      <td>NaN</td>\n    </tr>\n    <tr>\n      <th>73</th>\n      <td>8060 - 8064, boulevard Maurice-Duplessis, Mont...</td>\n      <td>Triplex for sale</td>\n      <td>4,698 sqft</td>\n      <td>1,360 sqft</td>\n      <td>NaN</td>\n    </tr>\n    <tr>\n      <th>101</th>\n      <td>5270 - 5274, 8e Avenue, Montréal (Rosemont/La ...</td>\n      <td>Triplex for sale</td>\n      <td>1,474 sqft</td>\n      <td>845 sqft</td>\n      <td>NaN</td>\n    </tr>\n    <tr>\n      <th>115</th>\n      <td>5042 - 5046, Avenue Jeanne-d'Arc, Montréal (Ro...</td>\n      <td>Triplex for sale</td>\n      <td>3,124 sqft</td>\n      <td>1,331 sqft</td>\n      <td>NaN</td>\n    </tr>\n    <tr>\n      <th>...</th>\n      <td>...</td>\n      <td>...</td>\n      <td>...</td>\n      <td>...</td>\n      <td>...</td>\n    </tr>\n    <tr>\n      <th>5046</th>\n      <td>887 - 889, 56e Avenue, Montréal (Lachine), Nei...</td>\n      <td>Duplex for sale</td>\n      <td>2,866 sqft</td>\n      <td>1,197 sqft</td>\n      <td>NaN</td>\n    </tr>\n    <tr>\n      <th>5140</th>\n      <td>2010 - 2012, Rue Saint-Hubert, Montréal (Ville...</td>\n      <td>Duplex for sale</td>\n      <td>2,134 sqft</td>\n      <td>1,023 sqft</td>\n      <td>NaN</td>\n    </tr>\n    <tr>\n      <th>5152</th>\n      <td>1848 - 1850, Avenue O'Brien, Montréal (Saint-L...</td>\n      <td>Duplex for sale</td>\n      <td>5,569 sqft</td>\n      <td>1,400 sqft</td>\n      <td>NaN</td>\n    </tr>\n    <tr>\n      <th>5165</th>\n      <td>8284 - 8286, Rue Dora, Montréal (LaSalle)</td>\n      <td>Duplex for sale</td>\n      <td>2,324 sqft</td>\n      <td>1,120 sqft</td>\n      <td>NaN</td>\n    </tr>\n    <tr>\n      <th>5191</th>\n      <td>311, Rue Ontario Est, Montréal (Ville-Marie), ...</td>\n      <td>Quadruplex for sale</td>\n      <td>2,915 sqft</td>\n      <td>970 sqft</td>\n      <td>NaN</td>\n    </tr>\n  </tbody>\n</table>\n<p>169 rows × 5 columns</p>\n</div>"
     },
     "metadata": {},
     "execution_count": 51
    }
   ],
   "source": [
    "building = df[df.building_area.notnull() & df.available_area.isnull()].\\\n",
    "    loc[:, ['address', 'title', \"lot_area\", \"building_area\", \"available_area\"]]\n",
    "building"
   ]
  },
  {
   "cell_type": "markdown",
   "metadata": {},
   "source": [
    "The first part of the previously stated hypothesis is disproven by the listing at index [5191](https://www.centris.ca/en/4plex~for-sale~montreal-ville-marie/11694040?view=Summary&uc=4), which clearly shows several floors being part of the same apartment. However, there are explenations that are in congruence with the hypothesis. The findings may highlight that some sellers simply don't use the area types as intended or publish incomplete information on area dimensions. The alternative hypothesis would be a different logic to the nomenclature. \n",
    "\n",
    "We will look next at records with all three remaining area types to verify the second part of the hypothesis."
   ]
  },
  {
   "cell_type": "code",
   "execution_count": 52,
   "metadata": {
    "tags": []
   },
   "outputs": [
    {
     "output_type": "stream",
     "name": "stdout",
     "text": "Length of all_area_types: 34\n"
    },
    {
     "output_type": "execute_result",
     "data": {
      "text/plain": "                                                address                title  \\\n64          85 - 87, Avenue Lafleur, Montréal (LaSalle)     Triplex for sale   \n273   511 - 513, Avenue Duluth Est, Montréal (Le Pla...      Duplex for sale   \n566   4585, Rue Saint-Denis, Montréal (Le Plateau-Mo...      Duplex for sale   \n1865  4323 - 4329, Rue de Charleroi, Montréal (Montr...  Quadruplex for sale   \n1873  3055 - 3065, Rue Allard, Montréal (Le Sud-Oues...  Quadruplex for sale   \n\n        lot_area building_area                 available_area  \n64    4,594 sqft    4,592 sqft    From 700 sqft to 1,965 sqft  \n273   1,309 sqft      652 sqft                       839 sqft  \n566   2,090 sqft    1,936 sqft                       968 sqft  \n1865  2,688 sqft    1,093 sqft    From 800 sqft to 1,600 sqft  \n1873  5,627 sqft      214 sqft  From 1,250 sqft to 2,500 sqft  ",
      "text/html": "<div>\n<style scoped>\n    .dataframe tbody tr th:only-of-type {\n        vertical-align: middle;\n    }\n\n    .dataframe tbody tr th {\n        vertical-align: top;\n    }\n\n    .dataframe thead th {\n        text-align: right;\n    }\n</style>\n<table border=\"1\" class=\"dataframe\">\n  <thead>\n    <tr style=\"text-align: right;\">\n      <th></th>\n      <th>address</th>\n      <th>title</th>\n      <th>lot_area</th>\n      <th>building_area</th>\n      <th>available_area</th>\n    </tr>\n  </thead>\n  <tbody>\n    <tr>\n      <th>64</th>\n      <td>85 - 87, Avenue Lafleur, Montréal (LaSalle)</td>\n      <td>Triplex for sale</td>\n      <td>4,594 sqft</td>\n      <td>4,592 sqft</td>\n      <td>From 700 sqft to 1,965 sqft</td>\n    </tr>\n    <tr>\n      <th>273</th>\n      <td>511 - 513, Avenue Duluth Est, Montréal (Le Pla...</td>\n      <td>Duplex for sale</td>\n      <td>1,309 sqft</td>\n      <td>652 sqft</td>\n      <td>839 sqft</td>\n    </tr>\n    <tr>\n      <th>566</th>\n      <td>4585, Rue Saint-Denis, Montréal (Le Plateau-Mo...</td>\n      <td>Duplex for sale</td>\n      <td>2,090 sqft</td>\n      <td>1,936 sqft</td>\n      <td>968 sqft</td>\n    </tr>\n    <tr>\n      <th>1865</th>\n      <td>4323 - 4329, Rue de Charleroi, Montréal (Montr...</td>\n      <td>Quadruplex for sale</td>\n      <td>2,688 sqft</td>\n      <td>1,093 sqft</td>\n      <td>From 800 sqft to 1,600 sqft</td>\n    </tr>\n    <tr>\n      <th>1873</th>\n      <td>3055 - 3065, Rue Allard, Montréal (Le Sud-Oues...</td>\n      <td>Quadruplex for sale</td>\n      <td>5,627 sqft</td>\n      <td>214 sqft</td>\n      <td>From 1,250 sqft to 2,500 sqft</td>\n    </tr>\n  </tbody>\n</table>\n</div>"
     },
     "metadata": {},
     "execution_count": 52
    }
   ],
   "source": [
    "# Listings with non-null records for all three area types\n",
    "all_area_types = df[df.building_area.notnull() & df.lot_area.notnull() & df.available_area.notnull()].\\\n",
    "    loc[:, ['address', 'title', \"lot_area\", \"building_area\", \"available_area\"]]\n",
    "print(\"Length of all_area_types:\", all_area_types.shape[0])\n",
    "all_area_types.head()"
   ]
  },
  {
   "cell_type": "markdown",
   "metadata": {},
   "source": [
    "This appears to disprove the second part of the hypothesis, since most `available_area` records are significantly smaller than corresponding `builing_area` records.\n",
    "\n",
    "However, this could also be explained by `available_area` records referring to only one of multiple apartments. This is underlined by the \"From\" \"to\" records observed in `available_area`."
   ]
  },
  {
   "cell_type": "markdown",
   "metadata": {},
   "source": [
    "Laslty we will look at houses for sale, since it is strictly exclusive to lot_area. The interesting question here is why. From such hard cases, inferences may be easier to draw."
   ]
  },
  {
   "cell_type": "code",
   "execution_count": 53,
   "metadata": {},
   "outputs": [
    {
     "output_type": "execute_result",
     "data": {
      "text/plain": "      index           title  \\\n5292   5393  House for sale   \n5307   5409  House for sale   \n5309   5411  House for sale   \n5311   5413  House for sale   \n5312   5414  House for sale   \n\n                                                address     price        lat  \\\n5292  8, Place De Richelieu, Montréal (Ville-Marie),...   1675000  45.499808   \n5307  12320, Avenue du Beau-Bois, Montréal (Ahuntsic...   2399000  45.520850   \n5309  1450, Rue Redpath-Crescent, Montréal (Ville-Ma...  11900000  45.500692   \n5311  445, Rue Saint-Paul Est, Montréal (Ville-Marie...   1949000  45.510683   \n5312  1035, Rue Lambert-Closse, Montréal (Ville-Mari...   3600000  45.488080   \n\n           long  restaurants  shopping  vibrant  cycling_friendly  ...  \\\n5292 -73.580542         10.0      10.0     10.0               7.0  ...   \n5307 -73.737822          4.0       5.0      2.0               5.0  ...   \n5309 -73.585846         10.0      10.0      7.0               6.0  ...   \n5311 -73.551380         10.0      10.0     10.0               8.0  ...   \n5312 -73.580973         10.0      10.0      9.0               5.0  ...   \n\n      immigrant_population_(%)  french_(%)  english_(%)  others_languages_(%)  \\\n5292                        37        54.0         26.0                  20.0   \n5307                        41        65.0         10.0                  25.0   \n5309                        37        54.0         26.0                  20.0   \n5311                        37        54.0         26.0                  20.0   \n5312                        37        54.0         26.0                  20.0   \n\n                  pool             additional_features  walk_score  \\\n5292               NaN            Basement 6 feet or +        95.0   \n5307  Heated, Inground            Basement 6 feet or +         7.0   \n5309               NaN  Basement 6 feet or +, Elevator        57.0   \n5311               NaN                             NaN        82.0   \n5312               NaN            Basement 6 feet or +        88.0   \n\n      gross_area                     building_style     lot_area  \n5292         NaN       Two or more storey, Attached          NaN  \n5307         NaN       Two or more storey, Detached  12,002 sqft  \n5309         NaN       Two or more storey, Detached  12,400 sqft  \n5311         NaN  Two or more storey, Semi-detached   3,138 sqft  \n5312         NaN  Two or more storey, Semi-detached   2,717 sqft  \n\n[5 rows x 73 columns]",
      "text/html": "<div>\n<style scoped>\n    .dataframe tbody tr th:only-of-type {\n        vertical-align: middle;\n    }\n\n    .dataframe tbody tr th {\n        vertical-align: top;\n    }\n\n    .dataframe thead th {\n        text-align: right;\n    }\n</style>\n<table border=\"1\" class=\"dataframe\">\n  <thead>\n    <tr style=\"text-align: right;\">\n      <th></th>\n      <th>index</th>\n      <th>title</th>\n      <th>address</th>\n      <th>price</th>\n      <th>lat</th>\n      <th>long</th>\n      <th>restaurants</th>\n      <th>shopping</th>\n      <th>vibrant</th>\n      <th>cycling_friendly</th>\n      <th>...</th>\n      <th>immigrant_population_(%)</th>\n      <th>french_(%)</th>\n      <th>english_(%)</th>\n      <th>others_languages_(%)</th>\n      <th>pool</th>\n      <th>additional_features</th>\n      <th>walk_score</th>\n      <th>gross_area</th>\n      <th>building_style</th>\n      <th>lot_area</th>\n    </tr>\n  </thead>\n  <tbody>\n    <tr>\n      <th>5292</th>\n      <td>5393</td>\n      <td>House for sale</td>\n      <td>8, Place De Richelieu, Montréal (Ville-Marie),...</td>\n      <td>1675000</td>\n      <td>45.499808</td>\n      <td>-73.580542</td>\n      <td>10.0</td>\n      <td>10.0</td>\n      <td>10.0</td>\n      <td>7.0</td>\n      <td>...</td>\n      <td>37</td>\n      <td>54.0</td>\n      <td>26.0</td>\n      <td>20.0</td>\n      <td>NaN</td>\n      <td>Basement 6 feet or +</td>\n      <td>95.0</td>\n      <td>NaN</td>\n      <td>Two or more storey, Attached</td>\n      <td>NaN</td>\n    </tr>\n    <tr>\n      <th>5307</th>\n      <td>5409</td>\n      <td>House for sale</td>\n      <td>12320, Avenue du Beau-Bois, Montréal (Ahuntsic...</td>\n      <td>2399000</td>\n      <td>45.520850</td>\n      <td>-73.737822</td>\n      <td>4.0</td>\n      <td>5.0</td>\n      <td>2.0</td>\n      <td>5.0</td>\n      <td>...</td>\n      <td>41</td>\n      <td>65.0</td>\n      <td>10.0</td>\n      <td>25.0</td>\n      <td>Heated, Inground</td>\n      <td>Basement 6 feet or +</td>\n      <td>7.0</td>\n      <td>NaN</td>\n      <td>Two or more storey, Detached</td>\n      <td>12,002 sqft</td>\n    </tr>\n    <tr>\n      <th>5309</th>\n      <td>5411</td>\n      <td>House for sale</td>\n      <td>1450, Rue Redpath-Crescent, Montréal (Ville-Ma...</td>\n      <td>11900000</td>\n      <td>45.500692</td>\n      <td>-73.585846</td>\n      <td>10.0</td>\n      <td>10.0</td>\n      <td>7.0</td>\n      <td>6.0</td>\n      <td>...</td>\n      <td>37</td>\n      <td>54.0</td>\n      <td>26.0</td>\n      <td>20.0</td>\n      <td>NaN</td>\n      <td>Basement 6 feet or +, Elevator</td>\n      <td>57.0</td>\n      <td>NaN</td>\n      <td>Two or more storey, Detached</td>\n      <td>12,400 sqft</td>\n    </tr>\n    <tr>\n      <th>5311</th>\n      <td>5413</td>\n      <td>House for sale</td>\n      <td>445, Rue Saint-Paul Est, Montréal (Ville-Marie...</td>\n      <td>1949000</td>\n      <td>45.510683</td>\n      <td>-73.551380</td>\n      <td>10.0</td>\n      <td>10.0</td>\n      <td>10.0</td>\n      <td>8.0</td>\n      <td>...</td>\n      <td>37</td>\n      <td>54.0</td>\n      <td>26.0</td>\n      <td>20.0</td>\n      <td>NaN</td>\n      <td>NaN</td>\n      <td>82.0</td>\n      <td>NaN</td>\n      <td>Two or more storey, Semi-detached</td>\n      <td>3,138 sqft</td>\n    </tr>\n    <tr>\n      <th>5312</th>\n      <td>5414</td>\n      <td>House for sale</td>\n      <td>1035, Rue Lambert-Closse, Montréal (Ville-Mari...</td>\n      <td>3600000</td>\n      <td>45.488080</td>\n      <td>-73.580973</td>\n      <td>10.0</td>\n      <td>10.0</td>\n      <td>9.0</td>\n      <td>5.0</td>\n      <td>...</td>\n      <td>37</td>\n      <td>54.0</td>\n      <td>26.0</td>\n      <td>20.0</td>\n      <td>NaN</td>\n      <td>Basement 6 feet or +</td>\n      <td>88.0</td>\n      <td>NaN</td>\n      <td>Two or more storey, Semi-detached</td>\n      <td>2,717 sqft</td>\n    </tr>\n  </tbody>\n</table>\n<p>5 rows × 73 columns</p>\n</div>"
     },
     "metadata": {},
     "execution_count": 53
    }
   ],
   "source": [
    "df[df.title == \"House for sale\"].loc[:, :\"lot_area\"].tail()"
   ]
  },
  {
   "cell_type": "markdown",
   "metadata": {},
   "source": [
    "Some of the listings have been inspected and it seems, that lot area does indeed only refer to the lot and information on living space or total area is left out. This has been shown by inspecting listings directly at the site of the real estate broker which in some cases included both area types. The additional information can be accessed through [centris](https://www.centris.ca/en/houses~for-sale~montreal-ville-marie/17877621?view=Summary) by clicking on \"Detailed sheet\" which is a link to the real estate broker.\n",
    "\n",
    "For now we will merge net and gross area into total, and assess the predictive relevancy of the new feature by computing it's correlation to the target."
   ]
  },
  {
   "cell_type": "code",
   "execution_count": 54,
   "metadata": {
    "tags": []
   },
   "outputs": [
    {
     "output_type": "stream",
     "name": "stdout",
     "text": "Remaining missing values after merge of 'net_area' and 'gross_area': 2049\n"
    }
   ],
   "source": [
    "# Merge \"net_area\" and \"gross_area\" -> \"total_area\"\n",
    "total_area = df_area.net_area.astype(float).fillna(0)\\\n",
    "    + df_area.gross_area.astype(float).fillna(0)\n",
    "# Assign to data frame\n",
    "df_area[\"total_area\"] = total_area\n",
    "df[\"total_area\"] = total_area\n",
    "\n",
    "missing = total_area.apply(lambda x: x == 0)\n",
    "print(\"Remaining missing values after merge of 'net_area' and 'gross_area':\", missing.sum())"
   ]
  },
  {
   "cell_type": "code",
   "execution_count": 55,
   "metadata": {},
   "outputs": [],
   "source": [
    "# Remove net and gross area\n",
    "df.drop([\"net_area\", \"gross_area\"], axis=1, inplace=True)"
   ]
  },
  {
   "cell_type": "code",
   "execution_count": 56,
   "metadata": {},
   "outputs": [
    {
     "output_type": "execute_result",
     "data": {
      "text/plain": "               price  total_area     rooms  bedrooms  bathrooms\nprice       1.000000    0.767119  0.292747  0.360214   0.546347\ntotal_area  0.767119    1.000000  0.571117  0.655277   0.653259\nrooms       0.292747    0.571117  1.000000  0.637752   0.480505\nbedrooms    0.360214    0.655277  0.637752  1.000000   0.535566\nbathrooms   0.546347    0.653259  0.480505  0.535566   1.000000",
      "text/html": "<div>\n<style scoped>\n    .dataframe tbody tr th:only-of-type {\n        vertical-align: middle;\n    }\n\n    .dataframe tbody tr th {\n        vertical-align: top;\n    }\n\n    .dataframe thead th {\n        text-align: right;\n    }\n</style>\n<table border=\"1\" class=\"dataframe\">\n  <thead>\n    <tr style=\"text-align: right;\">\n      <th></th>\n      <th>price</th>\n      <th>total_area</th>\n      <th>rooms</th>\n      <th>bedrooms</th>\n      <th>bathrooms</th>\n    </tr>\n  </thead>\n  <tbody>\n    <tr>\n      <th>price</th>\n      <td>1.000000</td>\n      <td>0.767119</td>\n      <td>0.292747</td>\n      <td>0.360214</td>\n      <td>0.546347</td>\n    </tr>\n    <tr>\n      <th>total_area</th>\n      <td>0.767119</td>\n      <td>1.000000</td>\n      <td>0.571117</td>\n      <td>0.655277</td>\n      <td>0.653259</td>\n    </tr>\n    <tr>\n      <th>rooms</th>\n      <td>0.292747</td>\n      <td>0.571117</td>\n      <td>1.000000</td>\n      <td>0.637752</td>\n      <td>0.480505</td>\n    </tr>\n    <tr>\n      <th>bedrooms</th>\n      <td>0.360214</td>\n      <td>0.655277</td>\n      <td>0.637752</td>\n      <td>1.000000</td>\n      <td>0.535566</td>\n    </tr>\n    <tr>\n      <th>bathrooms</th>\n      <td>0.546347</td>\n      <td>0.653259</td>\n      <td>0.480505</td>\n      <td>0.535566</td>\n      <td>1.000000</td>\n    </tr>\n  </tbody>\n</table>\n</div>"
     },
     "metadata": {},
     "execution_count": 56
    }
   ],
   "source": [
    "# Correlation between non-zero total_area and price \n",
    "corr_mat = df[df.total_area > 100].loc[:, [\"price\", \"total_area\", \"rooms\", \"bedrooms\", \"bathrooms\"]].corr()\n",
    "corr_mat"
   ]
  },
  {
   "cell_type": "markdown",
   "metadata": {},
   "source": [
    "From this we can see that `total_area` correlates very well with price, much better than any of the room features. This warrants further attempts to substitute missing total area values. "
   ]
  },
  {
   "cell_type": "code",
   "execution_count": 57,
   "metadata": {},
   "outputs": [
    {
     "output_type": "execute_result",
     "data": {
      "text/plain": "          lot_area     price\nlot_area  1.000000  0.281742\nprice     0.281742  1.000000",
      "text/html": "<div>\n<style scoped>\n    .dataframe tbody tr th:only-of-type {\n        vertical-align: middle;\n    }\n\n    .dataframe tbody tr th {\n        vertical-align: top;\n    }\n\n    .dataframe thead th {\n        text-align: right;\n    }\n</style>\n<table border=\"1\" class=\"dataframe\">\n  <thead>\n    <tr style=\"text-align: right;\">\n      <th></th>\n      <th>lot_area</th>\n      <th>price</th>\n    </tr>\n  </thead>\n  <tbody>\n    <tr>\n      <th>lot_area</th>\n      <td>1.000000</td>\n      <td>0.281742</td>\n    </tr>\n    <tr>\n      <th>price</th>\n      <td>0.281742</td>\n      <td>1.000000</td>\n    </tr>\n  </tbody>\n</table>\n</div>"
     },
     "metadata": {},
     "execution_count": 57
    }
   ],
   "source": [
    "# Correlation of lot_area with price\n",
    "lot_area = df_area.lot_area.fillna(0).astype(\"int\")\n",
    "pd.concat([lot_area[lot_area > 50], df.price[lot_area > 50]], axis=1).corr()"
   ]
  },
  {
   "cell_type": "markdown",
   "metadata": {},
   "source": [
    "### Total area imputation\n",
    "\n",
    "Lot area does not correlate well with price, we will therefore focus on `total_area`. Since no clear link could be established between remaining area types, a different approach will be attempted. We will try to predict total area by regressing the number of rooms onto total_area. With such a model we can then impute missing values. We will also test this model against a linear regression that includes price, since price would be expected to strongly correlate with size. However, since price is also the target of the final model this may not be the best approach. This is particularly critical because about 40% of values will need to be replaced.\n",
    "\n",
    "One problem with this approach is that the data is not missing at random. Only condos have data on `total_area` as seen from the plotly figure. Imputing by regression in this case will therefore assume that the trends and correlations observed for condos don't differ for other building types. Unfortunately, it seems that this assumption cannot be verified due to the complete lack of information about total area for building types other than condos."
   ]
  },
  {
   "cell_type": "code",
   "execution_count": 58,
   "metadata": {},
   "outputs": [
    {
     "output_type": "execute_result",
     "data": {
      "text/plain": "                                                address     price  total_area\n474   1220, Rue Crescent, apt. 608, Montréal (Ville-...    550000         1.0\n2357  1400, Rue de la Montagne, apt. PH-1801, Montré...  15435000      6910.0\n2835  1414, Rue Chomedey, apt. 706, Montréal (Ville-...    629000        72.0\n3077  1450, boulevard René-Lévesque Ouest, apt. 1904...    598895        58.0\n3134  14399, boulevard Gouin Ouest, apt. 906, Montré...    424000        80.0\n4467  265, Avenue du Mont-Royal Ouest, apt. 200, Mon...   4399000      6306.0\n5096  10438, boulevard Gouin Ouest, apt. 103, Montré...    351700        99.0\n5105  1000, Rue de la Commune Est, apt. PH 904, Mont...   7300000      6900.0",
      "text/html": "<div>\n<style scoped>\n    .dataframe tbody tr th:only-of-type {\n        vertical-align: middle;\n    }\n\n    .dataframe tbody tr th {\n        vertical-align: top;\n    }\n\n    .dataframe thead th {\n        text-align: right;\n    }\n</style>\n<table border=\"1\" class=\"dataframe\">\n  <thead>\n    <tr style=\"text-align: right;\">\n      <th></th>\n      <th>address</th>\n      <th>price</th>\n      <th>total_area</th>\n    </tr>\n  </thead>\n  <tbody>\n    <tr>\n      <th>474</th>\n      <td>1220, Rue Crescent, apt. 608, Montréal (Ville-...</td>\n      <td>550000</td>\n      <td>1.0</td>\n    </tr>\n    <tr>\n      <th>2357</th>\n      <td>1400, Rue de la Montagne, apt. PH-1801, Montré...</td>\n      <td>15435000</td>\n      <td>6910.0</td>\n    </tr>\n    <tr>\n      <th>2835</th>\n      <td>1414, Rue Chomedey, apt. 706, Montréal (Ville-...</td>\n      <td>629000</td>\n      <td>72.0</td>\n    </tr>\n    <tr>\n      <th>3077</th>\n      <td>1450, boulevard René-Lévesque Ouest, apt. 1904...</td>\n      <td>598895</td>\n      <td>58.0</td>\n    </tr>\n    <tr>\n      <th>3134</th>\n      <td>14399, boulevard Gouin Ouest, apt. 906, Montré...</td>\n      <td>424000</td>\n      <td>80.0</td>\n    </tr>\n    <tr>\n      <th>4467</th>\n      <td>265, Avenue du Mont-Royal Ouest, apt. 200, Mon...</td>\n      <td>4399000</td>\n      <td>6306.0</td>\n    </tr>\n    <tr>\n      <th>5096</th>\n      <td>10438, boulevard Gouin Ouest, apt. 103, Montré...</td>\n      <td>351700</td>\n      <td>99.0</td>\n    </tr>\n    <tr>\n      <th>5105</th>\n      <td>1000, Rue de la Commune Est, apt. PH 904, Mont...</td>\n      <td>7300000</td>\n      <td>6900.0</td>\n    </tr>\n  </tbody>\n</table>\n</div>"
     },
     "metadata": {},
     "execution_count": 58
    }
   ],
   "source": [
    "# Total area outliers different from 0\n",
    "df[((df.total_area <= 100) & (df.total_area > 0)) | (df.total_area > 6000)].loc[:, ['address', 'price', 'total_area']]"
   ]
  },
  {
   "cell_type": "markdown",
   "metadata": {},
   "source": [
    "With exception of the record with a total area of 1.0, the other values appear to be legitimate after inspecting the corresponding listings on centris. We will exclude the outlier together with the 0 values from the training data."
   ]
  },
  {
   "cell_type": "code",
   "execution_count": 59,
   "metadata": {
    "tags": []
   },
   "outputs": [],
   "source": [
    "# Slice including price\n",
    "rooms_and_price = df.loc[:, ['price', 'rooms',\\\n",
    "        'bedrooms', 'bathrooms',\\\n",
    "        'powder_rooms', 'total_area']]\\\n",
    "                [total_area > 1]\n",
    " # Slice excluding price\n",
    "rooms = df.loc[:, ['rooms',\\\n",
    "        'bedrooms', 'bathrooms',\\\n",
    "        'powder_rooms', 'total_area']]\\\n",
    "                [total_area > 1]"
   ]
  },
  {
   "cell_type": "markdown",
   "metadata": {},
   "source": [
    "We will use total_area as the target for a linear regression. We will compair the performance of two models, one including price, the other one not. "
   ]
  },
  {
   "cell_type": "code",
   "execution_count": 60,
   "metadata": {},
   "outputs": [
    {
     "output_type": "display_data",
     "data": {
      "text/plain": "<Figure size 288x216 with 2 Axes>",
      "image/png": "[encoded data removed]"
     },
     "metadata": {
      "image/png": {
       "width": 329,
       "height": 251
      }
     }
    }
   ],
   "source": [
    "# Configure plot\n",
    "%config InlineBackend.figure_format='retina'\n",
    "sns.set()\n",
    "plt.rcParams['figure.figsize'] = (4, 3) # size in inches \n",
    "plt.rcParams['axes.labelpad'] = 10\n",
    "sns.set_style('darkgrid')\n",
    "\n",
    "# Correlation heatmap\n",
    "ax = sns.heatmap(rooms_and_price.corr(), cmap=sns.cubehelix_palette(20, light=0.95, dark=0.15))\n",
    "ax.xaxis.tick_top()\n",
    "ax.set_xticklabels(ax.get_xticklabels(), rotation=45)\n",
    "\n",
    "# Save fig\n",
    "plt.savefig('figures/total_area_corr_matrix.png', bbox_inches='tight', dpi=300)"
   ]
  },
  {
   "cell_type": "markdown",
   "metadata": {},
   "source": [
    "From the heatmap we can see that `price` correlates best with `total_area`, followed by `bedrooms` and `bathrooms`."
   ]
  },
  {
   "cell_type": "code",
   "execution_count": 61,
   "metadata": {},
   "outputs": [],
   "source": [
    "# imports for regression\n",
    "from sklearn.model_selection import train_test_split\n",
    "from sklearn.metrics import mean_squared_error, r2_score\n",
    "from sklearn.linear_model import LinearRegression\n",
    "lin_mod_price = LinearRegression()\n",
    "lin_mod_no_price = LinearRegression()"
   ]
  },
  {
   "cell_type": "code",
   "execution_count": 62,
   "metadata": {},
   "outputs": [
    {
     "output_type": "execute_result",
     "data": {
      "text/plain": "LinearRegression()"
     },
     "metadata": {},
     "execution_count": 62
    }
   ],
   "source": [
    "# Model including price\n",
    "X = rooms_and_price.loc[:, : 'powder_rooms']\n",
    "y = rooms_and_price[\"total_area\"]\n",
    "X_train_price, X_test_price, y_train_price, y_test_price = train_test_split(X, y, test_size = 0.2, random_state=42)\n",
    "# Fit model to training data \n",
    "lin_mod_price.fit(X_train_price, y_train_price)\n",
    "\n",
    "# Model without price\n",
    "X = rooms.loc[:, : 'powder_rooms']\n",
    "y = rooms[\"total_area\"]\n",
    "X_train, X_test, y_train, y_test = train_test_split(X, y, test_size = 0.2, random_state=42)\n",
    "# Fit model to training data \n",
    "lin_mod_no_price.fit(X_train, y_train)"
   ]
  },
  {
   "cell_type": "code",
   "execution_count": 63,
   "metadata": {
    "tags": []
   },
   "outputs": [
    {
     "output_type": "stream",
     "name": "stdout",
     "text": "Model with price:\nRMSE: 300.9966499011587\nR2: 0.7887043821912865\n\nModel without price:\nRMSE: 390.23910062458515\nR2: 0.6448361702696629\n"
    }
   ],
   "source": [
    "# Predict test sample with price\n",
    "pred_price = lin_mod_price.predict(X_test_price)\n",
    "# RMSE\n",
    "test_rmse = np.sqrt(mean_squared_error(y_test_price, pred_price))\n",
    "# R2\n",
    "test_r2 = r2_score(y_test_price, pred_price)\n",
    "print(\"Model with price:\")\n",
    "print(\"RMSE:\", test_rmse)\n",
    "print(\"R2:\", test_r2)\n",
    "\n",
    "# Predict test sample without price\n",
    "pred = lin_mod_no_price.predict(X_test)\n",
    "# RMSE\n",
    "test_rmse = np.sqrt(mean_squared_error(y_test, pred))\n",
    "# R2\n",
    "test_r2 = r2_score(y_test, pred)\n",
    "print(\"\\nModel without price:\")\n",
    "print(\"RMSE:\", test_rmse)\n",
    "print(\"R2:\", test_r2)"
   ]
  },
  {
   "cell_type": "markdown",
   "metadata": {},
   "source": [
    "Including price gives a significant boost to the fit of the model, but the model without price still performs relatively well."
   ]
  },
  {
   "cell_type": "code",
   "execution_count": 64,
   "metadata": {},
   "outputs": [
    {
     "output_type": "display_data",
     "data": {
      "text/plain": "<Figure size 576x360 with 4 Axes>",
      "image/png": "[encoded data removed]"
     },
     "metadata": {
      "image/png": {
       "width": 520,
       "height": 343
      }
     }
    }
   ],
   "source": [
    "# Configure plot size\n",
    "plt.rcParams['figure.figsize'] = (8, 5) # size in inches \n",
    "# Regression and residual plots\n",
    "fig, ax = plt.subplots(2,2)\n",
    "plt.subplots_adjust(wspace=0.5, hspace=1)\n",
    "# Model with price data \n",
    "sns.regplot(y_test_price, pred_price, ax=ax[0, 0], scatter_kws={'alpha':0.4})\n",
    "sns.residplot(y_test_price, pred_price, ax=ax[0, 1], scatter_kws={'alpha':0.4})\n",
    "# Model without price data \n",
    "sns.regplot(y_test, pred, ax=ax[1, 0], scatter_kws={'alpha':0.4})\n",
    "sns.residplot(y_test, pred, ax=ax[1, 1], scatter_kws={'alpha':0.4})\n",
    "# Axis parameters\n",
    "ax[0, 0].set(title='Linear regression plot (price included)', ylabel=\"Predicted\", xlabel=\"Total area\")\n",
    "ax[0, 1].set(title='Residual plot (price included)', xlabel=\"Total area\")\n",
    "ax[1, 0].set(title='Linear regression plot', ylabel=\"Predicted\", xlabel=\"Total area\")\n",
    "ax[1, 1].set(title='Residual plot', xlabel=\"Total area\")\n",
    "plt.savefig('figures/total_area_prediction.png', bbox_inches='tight', dpi=300)"
   ]
  },
  {
   "cell_type": "markdown",
   "metadata": {},
   "source": [
    "The model is best suited for total areas below 4000 sqft but performs quite well in general. It seems unlikely that removing outliers will have a significant improvement on either model. We will next brake down further contrast the peroformance of the two models."
   ]
  },
  {
   "cell_type": "code",
   "execution_count": 65,
   "metadata": {
    "tags": []
   },
   "outputs": [],
   "source": [
    "replace_df = df[df.total_area <= 1]\n",
    "with_price = replace_df.loc[:,\\\n",
    "        ['price', 'rooms',\\\n",
    "        'bedrooms','bathrooms',\\\n",
    "        'powder_rooms']\\\n",
    "            ]\n",
    "\n",
    "without_price = replace_df.loc[:,\\\n",
    "        ['rooms',\\\n",
    "        'bedrooms','bathrooms',\\\n",
    "        'powder_rooms']\\\n",
    "            ]"
   ]
  },
  {
   "cell_type": "code",
   "execution_count": 66,
   "metadata": {},
   "outputs": [],
   "source": [
    "replacement_from_price = lin_mod_price.predict(with_price)\n",
    "replacement_without_price = lin_mod_no_price.predict(without_price)"
   ]
  },
  {
   "cell_type": "code",
   "execution_count": 67,
   "metadata": {},
   "outputs": [],
   "source": [
    "# Replace with model based on room data and price\n",
    "new_total_area = df.total_area.copy()\n",
    "new_total_area[new_total_area <= 1] = replacement_from_price\n",
    "df[\"new_area_from_price\"] = new_total_area\n",
    "\n",
    "# Replace with model based on room data only\n",
    "new_total_area = df.total_area.copy()\n",
    "new_total_area[new_total_area <= 1] = replacement_without_price\n",
    "df[\"new_area_from_rooms\"] = new_total_area"
   ]
  },
  {
   "cell_type": "code",
   "execution_count": 68,
   "metadata": {},
   "outputs": [
    {
     "output_type": "execute_result",
     "data": {
      "text/plain": "         price  new_area_from_price  new_area_from_rooms\n5       698000          1537.141985          1899.934662\n7      1725000          2016.260110          1931.265462\n8       619000          1846.636849          2229.642812\n9       679000          1490.779393          1868.603863\n10      569750           655.611199           556.062868\n...        ...                  ...                  ...\n5307   2399000          3239.640220          3087.983888\n5309  11900000          8212.588474          4752.944423\n5311   1949000          2626.623579          2695.614140\n5312   3600000          3609.940026          3196.075503\n5318    499000           854.031477           791.778619\n\n[2050 rows x 3 columns]",
      "text/html": "<div>\n<style scoped>\n    .dataframe tbody tr th:only-of-type {\n        vertical-align: middle;\n    }\n\n    .dataframe tbody tr th {\n        vertical-align: top;\n    }\n\n    .dataframe thead th {\n        text-align: right;\n    }\n</style>\n<table border=\"1\" class=\"dataframe\">\n  <thead>\n    <tr style=\"text-align: right;\">\n      <th></th>\n      <th>price</th>\n      <th>new_area_from_price</th>\n      <th>new_area_from_rooms</th>\n    </tr>\n  </thead>\n  <tbody>\n    <tr>\n      <th>5</th>\n      <td>698000</td>\n      <td>1537.141985</td>\n      <td>1899.934662</td>\n    </tr>\n    <tr>\n      <th>7</th>\n      <td>1725000</td>\n      <td>2016.260110</td>\n      <td>1931.265462</td>\n    </tr>\n    <tr>\n      <th>8</th>\n      <td>619000</td>\n      <td>1846.636849</td>\n      <td>2229.642812</td>\n    </tr>\n    <tr>\n      <th>9</th>\n      <td>679000</td>\n      <td>1490.779393</td>\n      <td>1868.603863</td>\n    </tr>\n    <tr>\n      <th>10</th>\n      <td>569750</td>\n      <td>655.611199</td>\n      <td>556.062868</td>\n    </tr>\n    <tr>\n      <th>...</th>\n      <td>...</td>\n      <td>...</td>\n      <td>...</td>\n    </tr>\n    <tr>\n      <th>5307</th>\n      <td>2399000</td>\n      <td>3239.640220</td>\n      <td>3087.983888</td>\n    </tr>\n    <tr>\n      <th>5309</th>\n      <td>11900000</td>\n      <td>8212.588474</td>\n      <td>4752.944423</td>\n    </tr>\n    <tr>\n      <th>5311</th>\n      <td>1949000</td>\n      <td>2626.623579</td>\n      <td>2695.614140</td>\n    </tr>\n    <tr>\n      <th>5312</th>\n      <td>3600000</td>\n      <td>3609.940026</td>\n      <td>3196.075503</td>\n    </tr>\n    <tr>\n      <th>5318</th>\n      <td>499000</td>\n      <td>854.031477</td>\n      <td>791.778619</td>\n    </tr>\n  </tbody>\n</table>\n<p>2050 rows × 3 columns</p>\n</div>"
     },
     "metadata": {},
     "execution_count": 68
    }
   ],
   "source": [
    "# Subsection of price and new area columns\n",
    "compair = df.loc[:, [\"price\", \"new_area_from_price\", \"new_area_from_rooms\"]]\n",
    "compair[df.total_area <= 1]"
   ]
  },
  {
   "cell_type": "markdown",
   "metadata": {},
   "source": [
    "2050 values have been replace in `total_area`\n"
   ]
  },
  {
   "cell_type": "code",
   "execution_count": 69,
   "metadata": {},
   "outputs": [
    {
     "output_type": "execute_result",
     "data": {
      "text/plain": "                        price\nprice                1.000000\nnew_area_from_price  0.789416\nnew_area_from_rooms  0.614602",
      "text/html": "<div>\n<style scoped>\n    .dataframe tbody tr th:only-of-type {\n        vertical-align: middle;\n    }\n\n    .dataframe tbody tr th {\n        vertical-align: top;\n    }\n\n    .dataframe thead th {\n        text-align: right;\n    }\n</style>\n<table border=\"1\" class=\"dataframe\">\n  <thead>\n    <tr style=\"text-align: right;\">\n      <th></th>\n      <th>price</th>\n    </tr>\n  </thead>\n  <tbody>\n    <tr>\n      <th>price</th>\n      <td>1.000000</td>\n    </tr>\n    <tr>\n      <th>new_area_from_price</th>\n      <td>0.789416</td>\n    </tr>\n    <tr>\n      <th>new_area_from_rooms</th>\n      <td>0.614602</td>\n    </tr>\n  </tbody>\n</table>\n</div>"
     },
     "metadata": {},
     "execution_count": 69
    }
   ],
   "source": [
    "# Correlation of values that were not imputed\n",
    "compair.corr()[['price']]"
   ]
  },
  {
   "cell_type": "code",
   "execution_count": 70,
   "metadata": {},
   "outputs": [
    {
     "output_type": "execute_result",
     "data": {
      "text/plain": "                        price\nprice                1.000000\nnew_area_from_price  0.817373\nnew_area_from_rooms  0.474608",
      "text/html": "<div>\n<style scoped>\n    .dataframe tbody tr th:only-of-type {\n        vertical-align: middle;\n    }\n\n    .dataframe tbody tr th {\n        vertical-align: top;\n    }\n\n    .dataframe thead th {\n        text-align: right;\n    }\n</style>\n<table border=\"1\" class=\"dataframe\">\n  <thead>\n    <tr style=\"text-align: right;\">\n      <th></th>\n      <th>price</th>\n    </tr>\n  </thead>\n  <tbody>\n    <tr>\n      <th>price</th>\n      <td>1.000000</td>\n    </tr>\n    <tr>\n      <th>new_area_from_price</th>\n      <td>0.817373</td>\n    </tr>\n    <tr>\n      <th>new_area_from_rooms</th>\n      <td>0.474608</td>\n    </tr>\n  </tbody>\n</table>\n</div>"
     },
     "metadata": {},
     "execution_count": 70
    }
   ],
   "source": [
    " # Correlation of imputed values only\n",
    " compair[df.total_area <= 1].corr()[[\"price\"]]"
   ]
  },
  {
   "cell_type": "markdown",
   "metadata": {},
   "source": [
    "From the above comparison we can see that the model based on only rooms performs significantly worse when correlating only the imputed records, whereas the model that included price performs better. To some extent this was expected since we engineered a correlation into the imputed values.  \n",
    "\n",
    "But this striking differential leads to suggest that condos don't exhibit the same trends and correlation as other housing types. Consequently, we will focus on condos and loft for the rest of the analysis, which make up the majority of the data."
   ]
  },
  {
   "cell_type": "code",
   "execution_count": 71,
   "metadata": {},
   "outputs": [
    {
     "output_type": "execute_result",
     "data": {
      "text/plain": "Condo for sale            3222\nLoft / Studio for sale      47\nName: title, dtype: int64"
     },
     "metadata": {},
     "execution_count": 71
    }
   ],
   "source": [
    "# Condos only\n",
    "condos = df[total_area > 1].copy()\n",
    "condos.reset_index(drop=True, inplace=True)\n",
    "condos.title.value_counts()"
   ]
  },
  {
   "cell_type": "markdown",
   "metadata": {},
   "source": [
    "### Missing: additional_features"
   ]
  },
  {
   "cell_type": "code",
   "execution_count": 72,
   "metadata": {
    "tags": []
   },
   "outputs": [
    {
     "output_type": "stream",
     "name": "stdout",
     "text": "<class 'pandas.core.frame.DataFrame'>\nRangeIndex: 3269 entries, 0 to 3268\nData columns (total 16 columns):\n #   Column                             Non-Null Count  Dtype \n---  ------                             --------------  ----- \n 0   parking_(total)                    1992 non-null   object\n 1   pool                               1107 non-null   object\n 2   additional_features                1785 non-null   object\n 3   building_style                     0 non-null      object\n 4   lot_area                           0 non-null      object\n 5   fireplace/stove                    288 non-null    object\n 6   in_basement                        199 non-null    object\n 7   use_of_property                    0 non-null      object\n 8   number_of_units                    0 non-null      object\n 9   residential_units                  0 non-null      object\n 10  potential_gross_revenue            0 non-null      object\n 11  intergenerational                  0 non-null      object\n 12  building_area                      0 non-null      object\n 13  available_area                     0 non-null      object\n 14  residential_unit                   0 non-null      object\n 15  parking_(excluded_from_the_price)  54 non-null     object\ndtypes: object(16)\nmemory usage: 408.8+ KB\n"
    }
   ],
   "source": [
    "# Columns with less than 3100 values\n",
    "less_than_3100 = condos.apply(lambda col: col.notnull().sum() < 3100, axis=0)\n",
    "condos.loc[:, less_than_3100].info()"
   ]
  },
  {
   "cell_type": "code",
   "execution_count": 73,
   "metadata": {},
   "outputs": [
    {
     "output_type": "execute_result",
     "data": {
      "text/plain": "Elevator                                                                                        870\nAdapted for reduced mobility, Elevator                                                          504\nBasement 6 feet or +                                                                            118\nLocated on a fleuve (river), Elevator                                                            34\nLocated on a fleuve (river), Adapted for reduced mobility, Elevator                              27\nBasement 6 feet or +, Elevator                                                                   25\nElevator, EV charging station                                                                    19\nAdapted for reduced mobility                                                                     19\nLocated on a fleuve (river), Navigable body of water, Adapted for reduced mobility, Elevator     15\nLocated on a canal, Elevator                                                                     15\nBasement 6 feet or +, Elevator, EV charging station                                              12\nLocated on a fleuve (river), Navigable body of water, Elevator                                   10\nNavigable body of water, Basement 6 feet or +, Adapted for reduced mobility, Elevator            10\nBasement 6 feet or +, Adapted for reduced mobility, Elevator                                      7\nLocated on a fleuve (river)                                                                       6\nName: additional_features, dtype: int64"
     },
     "metadata": {},
     "execution_count": 73
    }
   ],
   "source": [
    "condos.additional_features[condos.additional_features.notnull()].value_counts()[:15]"
   ]
  },
  {
   "cell_type": "markdown",
   "metadata": {},
   "source": [
    "From this, the most valuable information might be proximity to the river. We will check how many values correspond to this."
   ]
  },
  {
   "cell_type": "code",
   "execution_count": 74,
   "metadata": {
    "tags": []
   },
   "outputs": [
    {
     "output_type": "stream",
     "name": "stdout",
     "text": "Listings with proximity to river: 134\n\nRiver-price correlation all records:\n"
    },
    {
     "output_type": "execute_result",
     "data": {
      "text/plain": "            river_prox     price\nriver_prox    1.000000  0.052568\nprice         0.052568  1.000000",
      "text/html": "<div>\n<style scoped>\n    .dataframe tbody tr th:only-of-type {\n        vertical-align: middle;\n    }\n\n    .dataframe tbody tr th {\n        vertical-align: top;\n    }\n\n    .dataframe thead th {\n        text-align: right;\n    }\n</style>\n<table border=\"1\" class=\"dataframe\">\n  <thead>\n    <tr style=\"text-align: right;\">\n      <th></th>\n      <th>river_prox</th>\n      <th>price</th>\n    </tr>\n  </thead>\n  <tbody>\n    <tr>\n      <th>river_prox</th>\n      <td>1.000000</td>\n      <td>0.052568</td>\n    </tr>\n    <tr>\n      <th>price</th>\n      <td>0.052568</td>\n      <td>1.000000</td>\n    </tr>\n  </tbody>\n</table>\n</div>"
     },
     "metadata": {},
     "execution_count": 74
    }
   ],
   "source": [
    "river_proximity = condos.additional_features.apply(lambda x: re.search(\"[Rr]iver\", str(x)))\n",
    "river_proximity = pd.Series(river_proximity).astype(\"bool\")\n",
    "river_proximity.rename(\"river_prox\", inplace=True)\n",
    "print(\"Listings with proximity to river:\", river_proximity.sum())\n",
    "# River proximity and price\n",
    "river_and_price = pd.concat([river_proximity, condos.price], axis=1)\n",
    "print(\"\\nRiver-price correlation all records:\")\n",
    "river_and_price.corr()"
   ]
  },
  {
   "cell_type": "code",
   "execution_count": 75,
   "metadata": {},
   "outputs": [
    {
     "output_type": "execute_result",
     "data": {
      "text/plain": "            river_prox     price\nriver_prox    1.000000  0.122587\nprice         0.122587  1.000000",
      "text/html": "<div>\n<style scoped>\n    .dataframe tbody tr th:only-of-type {\n        vertical-align: middle;\n    }\n\n    .dataframe tbody tr th {\n        vertical-align: top;\n    }\n\n    .dataframe thead th {\n        text-align: right;\n    }\n</style>\n<table border=\"1\" class=\"dataframe\">\n  <thead>\n    <tr style=\"text-align: right;\">\n      <th></th>\n      <th>river_prox</th>\n      <th>price</th>\n    </tr>\n  </thead>\n  <tbody>\n    <tr>\n      <th>river_prox</th>\n      <td>1.000000</td>\n      <td>0.122587</td>\n    </tr>\n    <tr>\n      <th>price</th>\n      <td>0.122587</td>\n      <td>1.000000</td>\n    </tr>\n  </tbody>\n</table>\n</div>"
     },
     "metadata": {},
     "execution_count": 75
    }
   ],
   "source": [
    "river_and_price.corr(method=\"spearman\")"
   ]
  },
  {
   "cell_type": "markdown",
   "metadata": {},
   "source": [
    "The data is too unbalanced with too little of a correlation with price to be useful in a linear regression. We will next create a balanced subset and reevaluate its correlation with price."
   ]
  },
  {
   "cell_type": "code",
   "execution_count": 76,
   "metadata": {
    "tags": []
   },
   "outputs": [
    {
     "output_type": "stream",
     "name": "stdout",
     "text": "\nRiver-price correlation with random 50:50 sub-set (Pearson)\n"
    },
    {
     "output_type": "execute_result",
     "data": {
      "text/plain": "            river_prox     price\nriver_prox    1.000000  0.235771\nprice         0.235771  1.000000",
      "text/html": "<div>\n<style scoped>\n    .dataframe tbody tr th:only-of-type {\n        vertical-align: middle;\n    }\n\n    .dataframe tbody tr th {\n        vertical-align: top;\n    }\n\n    .dataframe thead th {\n        text-align: right;\n    }\n</style>\n<table border=\"1\" class=\"dataframe\">\n  <thead>\n    <tr style=\"text-align: right;\">\n      <th></th>\n      <th>river_prox</th>\n      <th>price</th>\n    </tr>\n  </thead>\n  <tbody>\n    <tr>\n      <th>river_prox</th>\n      <td>1.000000</td>\n      <td>0.235771</td>\n    </tr>\n    <tr>\n      <th>price</th>\n      <td>0.235771</td>\n      <td>1.000000</td>\n    </tr>\n  </tbody>\n</table>\n</div>"
     },
     "metadata": {},
     "execution_count": 76
    }
   ],
   "source": [
    "def generate_50_50_slice(first_half, data):\n",
    "    \"\"\"Returns a data frame of elements found in \"first_half\" suplemented with a random\n",
    "    collection of elements from \"data\" of the same length as \"first_half\". \n",
    "    \n",
    "    Args:\n",
    "    first_half : Series object of elementsS found in \"data\"\n",
    "    data : Series object from which the remaining elements are drawn\n",
    "    \n",
    "    Returns:\n",
    "    merge : data frame that contains firs_half and records of equal number selected \n",
    "        at random from \"data\"\n",
    "    \"\"\"\n",
    "    # Random records without river proximity of equal length to \"river_proximity\"\n",
    "    remainder = pd.DataFrame()\n",
    "    count = 0\n",
    "    index = 0\n",
    "    while count <= len(first_half):\n",
    "        # New index to create random subset   \n",
    "        index = random.choice(data.index)\n",
    "        # Only elements found neither in firs_half nor remainder\n",
    "        if index not in first_half.index\\\n",
    "            and index not in remainder.index:\n",
    "            # New record to append\n",
    "            column_name = first_half.name\n",
    "            value = data.iloc[index]\n",
    "            new_record = pd.DataFrame({0: value}, index=[index])\n",
    "            #Append\n",
    "            remainder = pd.concat([remainder, new_record])\n",
    "            count += 1\n",
    "    # Merge dataframes \n",
    "    merge = pd.concat([first_half, remainder])\n",
    "    merge.columns = [column_name]\n",
    "    return merge\n",
    "\n",
    "# Only records with river proximity\n",
    "proximity = river_proximity[river_proximity == True]\n",
    "# 50:50 slice of \"river proximity\"/\"no river proximity\"\n",
    "prox = generate_50_50_slice(proximity, river_proximity)\n",
    "mat = pd.concat([prox, condos.loc[prox.index, \"price\"]], axis=1)\n",
    "\n",
    "# Correlation of river proximity with price \n",
    "print(\"\\nRiver-price correlation with random 50:50 sub-set (Pearson)\")\n",
    "mat.corr()"
   ]
  },
  {
   "cell_type": "code",
   "execution_count": 77,
   "metadata": {
    "tags": []
   },
   "outputs": [
    {
     "output_type": "stream",
     "name": "stdout",
     "text": "\nRiver-price correlation with random 50:50 sub-set (Spearman)\n"
    },
    {
     "output_type": "execute_result",
     "data": {
      "text/plain": "            river_prox     price\nriver_prox    1.000000  0.312286\nprice         0.312286  1.000000",
      "text/html": "<div>\n<style scoped>\n    .dataframe tbody tr th:only-of-type {\n        vertical-align: middle;\n    }\n\n    .dataframe tbody tr th {\n        vertical-align: top;\n    }\n\n    .dataframe thead th {\n        text-align: right;\n    }\n</style>\n<table border=\"1\" class=\"dataframe\">\n  <thead>\n    <tr style=\"text-align: right;\">\n      <th></th>\n      <th>river_prox</th>\n      <th>price</th>\n    </tr>\n  </thead>\n  <tbody>\n    <tr>\n      <th>river_prox</th>\n      <td>1.000000</td>\n      <td>0.312286</td>\n    </tr>\n    <tr>\n      <th>price</th>\n      <td>0.312286</td>\n      <td>1.000000</td>\n    </tr>\n  </tbody>\n</table>\n</div>"
     },
     "metadata": {},
     "execution_count": 77
    }
   ],
   "source": [
    "print(\"\\nRiver-price correlation with random 50:50 sub-set (Spearman)\")\n",
    "mat.corr(method=\"spearman\")"
   ]
  },
  {
   "cell_type": "markdown",
   "metadata": {},
   "source": [
    "The correlation is still low but more interesting, we will keep the information as a seperate categorical feature for other potential models."
   ]
  },
  {
   "cell_type": "code",
   "execution_count": 78,
   "metadata": {
    "tags": []
   },
   "outputs": [
    {
     "output_type": "stream",
     "name": "stdout",
     "text": "<class 'pandas.core.frame.DataFrame'>\nRangeIndex: 3269 entries, 0 to 3268\nData columns (total 90 columns):\n #   Column                                   Non-Null Count  Dtype  \n---  ------                                   --------------  -----  \n 0   index                                    3269 non-null   int64  \n 1   title                                    3269 non-null   object \n 2   address                                  3269 non-null   object \n 3   price                                    3269 non-null   int64  \n 4   lat                                      3269 non-null   float64\n 5   long                                     3269 non-null   float64\n 6   restaurants                              3263 non-null   float64\n 7   shopping                                 3265 non-null   float64\n 8   vibrant                                  3264 non-null   float64\n 9   cycling_friendly                         3263 non-null   float64\n 10  car_friendly                             3262 non-null   float64\n 11  historic                                 3258 non-null   float64\n 12  quiet                                    3256 non-null   float64\n 13  elementary_schools                       3266 non-null   float64\n 14  high_schools                             3265 non-null   float64\n 15  parks                                    3269 non-null   int64  \n 16  nightlife                                3261 non-null   float64\n 17  groceries                                3267 non-null   float64\n 18  daycares                                 3265 non-null   float64\n 19  pedestrian_friendly                      3267 non-null   float64\n 20  cafes                                    3264 non-null   float64\n 21  transit_friendly                         3268 non-null   float64\n 22  greenery                                 3260 non-null   float64\n 23  condominium_type                         3269 non-null   object \n 24  year_built                               3269 non-null   object \n 25  parking_(total)                          1992 non-null   object \n 26  population_2016_                         3269 non-null   int64  \n 27  population_variation_between_2011_2016_  3269 non-null   int64  \n 28  population_density_                      3269 non-null   int64  \n 29  unemployment_rate_2016_                  3269 non-null   int64  \n 30  less_than_$50,000_(%)                    3269 non-null   int64  \n 31  between_$50,000_and_$80,000_(%)          3269 non-null   int64  \n 32  between_$80,000_and_$100,000_(%)         3269 non-null   int64  \n 33  between_$100,000_and_$150,000_(%)        3269 non-null   int64  \n 34  more_than_$150,000_(%)                   3269 non-null   int64  \n 35  1-person_households_(%)                  3269 non-null   int64  \n 36  2-person_households_(%)                  3269 non-null   int64  \n 37  3-person_households_(%)                  3269 non-null   int64  \n 38  4-person_households_(%)                  3269 non-null   int64  \n 39  5-person_or_more_households_(%)          3269 non-null   int64  \n 40  couples_without_children_at_home_(%)     3269 non-null   int64  \n 41  couples_with_children_at_home_(%)        3269 non-null   int64  \n 42  single-parent_families_(%)               3269 non-null   int64  \n 43  owners_(%)                               3269 non-null   int64  \n 44  renters_(%)                              3269 non-null   int64  \n 45  before_1960_(%)                          3269 non-null   int64  \n 46  between_1961_and_1980_(%)                3269 non-null   int64  \n 47  between_1981_and_1990_(%)                3269 non-null   int64  \n 48  between_1991_and_2000_(%)                3269 non-null   int64  \n 49  between_2001_and_2010_(%)                3269 non-null   int64  \n 50  between_2011_and_2016_(%)                3269 non-null   int64  \n 51  single-family_homes_(%)                  3269 non-null   int64  \n 52  semi-detached_or_row_houses_(%)          3269 non-null   int64  \n 53  buildings_with_less_than_5_floors_(%)    3269 non-null   int64  \n 54  buildings_with_5_or_more_floors_(%)      3269 non-null   int64  \n 55  mobile_homes_(%)                         3269 non-null   int64  \n 56  university_(%)                           3269 non-null   int64  \n 57  college_(%)                              3269 non-null   int64  \n 58  secondary_(high)_school_(%)              3269 non-null   int64  \n 59  apprentice_or_trade_school_diploma_(%)   3269 non-null   int64  \n 60  no_diploma_(%)                           3269 non-null   int64  \n 61  non-immigrant_population_(%)             3269 non-null   int64  \n 62  immigrant_population_(%)                 3269 non-null   int64  \n 63  french_(%)                               3269 non-null   float64\n 64  english_(%)                              3269 non-null   float64\n 65  others_languages_(%)                     3269 non-null   float64\n 66  pool                                     1107 non-null   object \n 67  walk_score                               3259 non-null   float64\n 68  building_style                           0 non-null      object \n 69  lot_area                                 0 non-null      object \n 70  fireplace/stove                          288 non-null    object \n 71  in_basement                              199 non-null    object \n 72  use_of_property                          0 non-null      object \n 73  number_of_units                          0 non-null      object \n 74  residential_units                        0 non-null      object \n 75  potential_gross_revenue                  0 non-null      object \n 76  intergenerational                        0 non-null      object \n 77  building_area                            0 non-null      object \n 78  available_area                           0 non-null      object \n 79  residential_unit                         0 non-null      object \n 80  parking_(excluded_from_the_price)        54 non-null     object \n 81  rooms                                    3269 non-null   float64\n 82  bedrooms                                 3269 non-null   float64\n 83  basement_bedroom                         3269 non-null   bool   \n 84  bathrooms                                3269 non-null   float64\n 85  powder_rooms                             3269 non-null   float64\n 86  total_area                               3269 non-null   float64\n 87  new_area_from_price                      3269 non-null   float64\n 88  new_area_from_rooms                      3269 non-null   float64\n 89  river_proximity                          3269 non-null   bool   \ndtypes: bool(2), float64(29), int64(40), object(19)\nmemory usage: 2.2+ MB\n"
    }
   ],
   "source": [
    "# Add river_poximity feature\n",
    "condos[\"river_proximity\"] = river_proximity\n",
    "condos.drop(\"additional_features\", axis=1, inplace=True)\n",
    "condos.info()"
   ]
  },
  {
   "cell_type": "markdown",
   "metadata": {},
   "source": [
    "Next we will remove some irrelevant seeming features with very high numbers of missing records for condos."
   ]
  },
  {
   "cell_type": "code",
   "execution_count": 79,
   "metadata": {
    "tags": []
   },
   "outputs": [
    {
     "output_type": "stream",
     "name": "stdout",
     "text": "<class 'pandas.core.frame.DataFrame'>\nRangeIndex: 3269 entries, 0 to 3268\nData columns (total 19 columns):\n #   Column               Non-Null Count  Dtype  \n---  ------               --------------  -----  \n 0   restaurants          3263 non-null   float64\n 1   shopping             3265 non-null   float64\n 2   vibrant              3264 non-null   float64\n 3   cycling_friendly     3263 non-null   float64\n 4   car_friendly         3262 non-null   float64\n 5   historic             3258 non-null   float64\n 6   quiet                3256 non-null   float64\n 7   elementary_schools   3266 non-null   float64\n 8   high_schools         3265 non-null   float64\n 9   nightlife            3261 non-null   float64\n 10  groceries            3267 non-null   float64\n 11  daycares             3265 non-null   float64\n 12  pedestrian_friendly  3267 non-null   float64\n 13  cafes                3264 non-null   float64\n 14  transit_friendly     3268 non-null   float64\n 15  greenery             3260 non-null   float64\n 16  parking_(total)      1992 non-null   object \n 17  pool                 1107 non-null   object \n 18  walk_score           3259 non-null   float64\ndtypes: float64(17), object(2)\nmemory usage: 485.4+ KB\n"
    }
   ],
   "source": [
    "# Remove columns with less than 700 records \n",
    "condos.dropna(\"columns\", thresh=700, inplace=True)\n",
    "\n",
    "# Slice containing 1+ missing values\n",
    "condos.loc[:, condos.notnull().sum() < 3269].info()"
   ]
  },
  {
   "cell_type": "markdown",
   "metadata": {},
   "source": [
    "### Missing: pool records"
   ]
  },
  {
   "cell_type": "code",
   "execution_count": 80,
   "metadata": {},
   "outputs": [
    {
     "output_type": "display_data",
     "data": {
      "text/plain": "<Figure size 576x216 with 1 Axes>",
      "image/png": "[encoded data removed]"
     },
     "metadata": {
      "image/png": {
       "width": 491,
       "height": 277
      }
     }
    }
   ],
   "source": [
    "# Count of different pool types\n",
    "plt.figure(figsize=(8,3))\n",
    "plt.bar(condos.pool.value_counts().index,\\\n",
    "        condos.pool.value_counts().values)\n",
    "\n",
    "plt.xticks(rotation=45, fontsize=6)\n",
    "plt.show()"
   ]
  },
  {
   "cell_type": "code",
   "execution_count": 81,
   "metadata": {},
   "outputs": [
    {
     "output_type": "execute_result",
     "data": {
      "text/plain": "          has_pool     price\nhas_pool  1.000000  0.192002\nprice     0.192002  1.000000",
      "text/html": "<div>\n<style scoped>\n    .dataframe tbody tr th:only-of-type {\n        vertical-align: middle;\n    }\n\n    .dataframe tbody tr th {\n        vertical-align: top;\n    }\n\n    .dataframe thead th {\n        text-align: right;\n    }\n</style>\n<table border=\"1\" class=\"dataframe\">\n  <thead>\n    <tr style=\"text-align: right;\">\n      <th></th>\n      <th>has_pool</th>\n      <th>price</th>\n    </tr>\n  </thead>\n  <tbody>\n    <tr>\n      <th>has_pool</th>\n      <td>1.000000</td>\n      <td>0.192002</td>\n    </tr>\n    <tr>\n      <th>price</th>\n      <td>0.192002</td>\n      <td>1.000000</td>\n    </tr>\n  </tbody>\n</table>\n</div>"
     },
     "metadata": {},
     "execution_count": 81
    }
   ],
   "source": [
    "# boolean pool records (has pool/no pool) correlation to price\n",
    "has_pool = condos.pool.notnull()\n",
    "pool_and_price = pd.concat([has_pool, condos.price], axis=1)\n",
    "pool_and_price.columns = [\"has_pool\", \"price\"]\n",
    "# Pearson\n",
    "pool_and_price.corr()"
   ]
  },
  {
   "cell_type": "code",
   "execution_count": 82,
   "metadata": {},
   "outputs": [
    {
     "output_type": "execute_result",
     "data": {
      "text/plain": "          has_pool     price\nhas_pool  1.000000  0.257394\nprice     0.257394  1.000000",
      "text/html": "<div>\n<style scoped>\n    .dataframe tbody tr th:only-of-type {\n        vertical-align: middle;\n    }\n\n    .dataframe tbody tr th {\n        vertical-align: top;\n    }\n\n    .dataframe thead th {\n        text-align: right;\n    }\n</style>\n<table border=\"1\" class=\"dataframe\">\n  <thead>\n    <tr style=\"text-align: right;\">\n      <th></th>\n      <th>has_pool</th>\n      <th>price</th>\n    </tr>\n  </thead>\n  <tbody>\n    <tr>\n      <th>has_pool</th>\n      <td>1.000000</td>\n      <td>0.257394</td>\n    </tr>\n    <tr>\n      <th>price</th>\n      <td>0.257394</td>\n      <td>1.000000</td>\n    </tr>\n  </tbody>\n</table>\n</div>"
     },
     "metadata": {},
     "execution_count": 82
    }
   ],
   "source": [
    "# Spearman\n",
    "pool_and_price.corr(method='spearman')"
   ]
  },
  {
   "cell_type": "code",
   "execution_count": 83,
   "metadata": {},
   "outputs": [
    {
     "output_type": "execute_result",
     "data": {
      "text/plain": "<AxesSubplot:xlabel='has_pool', ylabel='log_price'>"
     },
     "metadata": {},
     "execution_count": 83
    },
    {
     "output_type": "display_data",
     "data": {
      "text/plain": "<Figure size 216x144 with 1 Axes>",
      "image/png": "[encoded data removed]"
     },
     "metadata": {
      "image/png": {
       "width": 220,
       "height": 165
      }
     }
    }
   ],
   "source": [
    "# boxplot of has_pool to log transformed price\n",
    "plt.figure(figsize=(3,2))\n",
    "pool_and_price[\"log_price\"] = pool_and_price.price.transform(np.log10)\n",
    "sns.boxplot(data=pool_and_price, x=\"has_pool\", y=\"log_price\")"
   ]
  },
  {
   "cell_type": "markdown",
   "metadata": {},
   "source": [
    "The relationship seems not particularly strong but we will keep a feature of the boolean values just in case."
   ]
  },
  {
   "cell_type": "code",
   "execution_count": 84,
   "metadata": {
    "tags": []
   },
   "outputs": [
    {
     "output_type": "stream",
     "name": "stdout",
     "text": "<class 'pandas.core.frame.DataFrame'>\nRangeIndex: 3269 entries, 0 to 3268\nData columns (total 18 columns):\n #   Column               Non-Null Count  Dtype  \n---  ------               --------------  -----  \n 0   restaurants          3263 non-null   float64\n 1   shopping             3265 non-null   float64\n 2   vibrant              3264 non-null   float64\n 3   cycling_friendly     3263 non-null   float64\n 4   car_friendly         3262 non-null   float64\n 5   historic             3258 non-null   float64\n 6   quiet                3256 non-null   float64\n 7   elementary_schools   3266 non-null   float64\n 8   high_schools         3265 non-null   float64\n 9   nightlife            3261 non-null   float64\n 10  groceries            3267 non-null   float64\n 11  daycares             3265 non-null   float64\n 12  pedestrian_friendly  3267 non-null   float64\n 13  cafes                3264 non-null   float64\n 14  transit_friendly     3268 non-null   float64\n 15  greenery             3260 non-null   float64\n 16  parking_(total)      1992 non-null   object \n 17  walk_score           3259 non-null   float64\ndtypes: float64(17), object(1)\nmemory usage: 459.8+ KB\n"
    }
   ],
   "source": [
    "# Has pool\n",
    "condos['has_pool'] = has_pool\n",
    "# Drop old pool feature\n",
    "condos.drop(\"pool\", axis=1, inplace=True)\n",
    "\n",
    "# Slice containing 1+ missing values\n",
    "condos.loc[:, condos.notnull().sum() < 3269].info()"
   ]
  },
  {
   "cell_type": "markdown",
   "metadata": {},
   "source": [
    "## Missing: parking records"
   ]
  },
  {
   "cell_type": "code",
   "execution_count": 85,
   "metadata": {},
   "outputs": [
    {
     "output_type": "execute_result",
     "data": {
      "text/plain": "Garage (1)                  1293\nGarage (2)                   295\nDriveway (1)                 275\nDriveway (1), Garage (1)      46\nGarage (3)                    22\nDriveway (2)                  16\nGarage (4)                     9\nCarport (1)                    6\nDriveway (1), Garage (2)       5\nGarage (5)                     3\nGarage (24)                    2\nDriveway (2), Garage (1)       2\nDriveway (3), Garage (1)       1\nGarage (37)                    1\nDriveway (120)                 1\nDriveway (3)                   1\nGarage (117)                   1\nGarage (277)                   1\nGarage (81)                    1\nGarage (17)                    1\nGarage (29)                    1\nCarport (2)                    1\nDriveway (4), Garage (2)       1\nCarport (1), Garage (1)        1\nDriveway (33)                  1\nGarage (263)                   1\nCarport (26), Garage (1)       1\nGarage (52)                    1\nGarage (26)                    1\nGarage (70)                    1\nName: parking_(total), dtype: int64"
     },
     "metadata": {},
     "execution_count": 85
    }
   ],
   "source": [
    "condos[\"parking_(total)\"].value_counts()"
   ]
  },
  {
   "cell_type": "markdown",
   "metadata": {},
   "source": [
    "First, we will need to transform this to a numeric feature. Either indicating the number of available parkings or a boolean feature for whether parking is available."
   ]
  },
  {
   "cell_type": "code",
   "execution_count": 86,
   "metadata": {
    "tags": []
   },
   "outputs": [],
   "source": [
    "def get_n_parking(row):\n",
    "    \"\"\"\n",
    "    Extracts the numbers of available parking spots\n",
    "    regardless of parking type.\n",
    "    \"\"\"\n",
    "    try:\n",
    "        parking = re.findall(\"\\d+\", row)\n",
    "    except:\n",
    "        parking = [0]\n",
    "    n_parking = 0\n",
    "    for n in parking:\n",
    "        n_parking += float(n)\n",
    "    return n_parking\n",
    "\n",
    "condos[\"n_parking\"] = condos[\"parking_(total)\"].apply(lambda row: get_n_parking(row))"
   ]
  },
  {
   "cell_type": "code",
   "execution_count": 87,
   "metadata": {},
   "outputs": [
    {
     "output_type": "execute_result",
     "data": {
      "text/plain": "              price  n_parking\nprice      1.000000   0.022033\nn_parking  0.022033   1.000000",
      "text/html": "<div>\n<style scoped>\n    .dataframe tbody tr th:only-of-type {\n        vertical-align: middle;\n    }\n\n    .dataframe tbody tr th {\n        vertical-align: top;\n    }\n\n    .dataframe thead th {\n        text-align: right;\n    }\n</style>\n<table border=\"1\" class=\"dataframe\">\n  <thead>\n    <tr style=\"text-align: right;\">\n      <th></th>\n      <th>price</th>\n      <th>n_parking</th>\n    </tr>\n  </thead>\n  <tbody>\n    <tr>\n      <th>price</th>\n      <td>1.000000</td>\n      <td>0.022033</td>\n    </tr>\n    <tr>\n      <th>n_parking</th>\n      <td>0.022033</td>\n      <td>1.000000</td>\n    </tr>\n  </tbody>\n</table>\n</div>"
     },
     "metadata": {},
     "execution_count": 87
    }
   ],
   "source": [
    "pd.concat([condos.price, condos.n_parking], axis=1).corr()"
   ]
  },
  {
   "cell_type": "code",
   "execution_count": 88,
   "metadata": {},
   "outputs": [
    {
     "output_type": "execute_result",
     "data": {
      "text/plain": "           n_parking     price\nn_parking   1.000000  0.020346\nprice       0.020346  1.000000",
      "text/html": "<div>\n<style scoped>\n    .dataframe tbody tr th:only-of-type {\n        vertical-align: middle;\n    }\n\n    .dataframe tbody tr th {\n        vertical-align: top;\n    }\n\n    .dataframe thead th {\n        text-align: right;\n    }\n</style>\n<table border=\"1\" class=\"dataframe\">\n  <thead>\n    <tr style=\"text-align: right;\">\n      <th></th>\n      <th>n_parking</th>\n      <th>price</th>\n    </tr>\n  </thead>\n  <tbody>\n    <tr>\n      <th>n_parking</th>\n      <td>1.000000</td>\n      <td>0.020346</td>\n    </tr>\n    <tr>\n      <th>price</th>\n      <td>0.020346</td>\n      <td>1.000000</td>\n    </tr>\n  </tbody>\n</table>\n</div>"
     },
     "metadata": {},
     "execution_count": 88
    }
   ],
   "source": [
    "# 50:50 correlation of the number of available parking and price\n",
    "parking = condos.n_parking.copy()\n",
    "parking_50_50 = generate_50_50_slice(parking[parking == True], parking)\n",
    "# Add price to corresponding records\n",
    "parking_and_price = pd.concat([parking_50_50, condos.loc[parking_50_50.index, \"price\"]], axis=1)\n",
    "# Pearson\n",
    "parking_and_price.corr()"
   ]
  },
  {
   "cell_type": "code",
   "execution_count": 89,
   "metadata": {},
   "outputs": [
    {
     "output_type": "execute_result",
     "data": {
      "text/plain": "           n_parking     price\nn_parking   1.000000  0.320408\nprice       0.320408  1.000000",
      "text/html": "<div>\n<style scoped>\n    .dataframe tbody tr th:only-of-type {\n        vertical-align: middle;\n    }\n\n    .dataframe tbody tr th {\n        vertical-align: top;\n    }\n\n    .dataframe thead th {\n        text-align: right;\n    }\n</style>\n<table border=\"1\" class=\"dataframe\">\n  <thead>\n    <tr style=\"text-align: right;\">\n      <th></th>\n      <th>n_parking</th>\n      <th>price</th>\n    </tr>\n  </thead>\n  <tbody>\n    <tr>\n      <th>n_parking</th>\n      <td>1.000000</td>\n      <td>0.320408</td>\n    </tr>\n    <tr>\n      <th>price</th>\n      <td>0.320408</td>\n      <td>1.000000</td>\n    </tr>\n  </tbody>\n</table>\n</div>"
     },
     "metadata": {},
     "execution_count": 89
    }
   ],
   "source": [
    "# Spearman\n",
    "parking_and_price.corr(method='spearman')"
   ]
  },
  {
   "cell_type": "code",
   "execution_count": 90,
   "metadata": {
    "tags": []
   },
   "outputs": [
    {
     "output_type": "stream",
     "name": "stdout",
     "text": "Count of number of parking spots:\n"
    },
    {
     "output_type": "execute_result",
     "data": {
      "text/plain": "n_parking\n1.0          1574\n0.0          1185\n2.0           335\n3.0            27\n4.0             9\n5.0             3\n24.0            2\n26.0            1\n6.0             1\n17.0            1\ndtype: int64"
     },
     "metadata": {},
     "execution_count": 90
    }
   ],
   "source": [
    "# Outliers \n",
    "print(\"Count of number of parking spots:\")\n",
    "parking_and_price[[\"n_parking\"]].value_counts().head(10)"
   ]
  },
  {
   "cell_type": "code",
   "execution_count": 91,
   "metadata": {},
   "outputs": [
    {
     "output_type": "execute_result",
     "data": {
      "text/plain": "{0: nan,\n 1: nan,\n 2: 0.05370444654044896,\n 3: 0.2677355339788373,\n 4: 0.30442212666560026,\n 5: 0.3309725614966678,\n 6: 0.34433609209697974,\n 7: 0.3408169294747501,\n 8: 0.3408169294747501,\n 9: 0.3408169294747501,\n 10: 0.3408169294747501,\n 11: 0.3408169294747501,\n 12: 0.3408169294747501,\n 13: 0.3408169294747501,\n 14: 0.3408169294747501,\n 15: 0.3408169294747501,\n 16: 0.3408169294747501,\n 17: 0.3408169294747501,\n 18: 0.31267702862658203,\n 19: 0.31267702862658203,\n 20: 0.31267702862658203,\n 21: 0.31267702862658203,\n 22: 0.31267702862658203,\n 23: 0.31267702862658203,\n 24: 0.31267702862658203,\n 25: 0.24551384847748794,\n 26: 0.24551384847748794,\n 27: 0.2203177371781882,\n 28: 0.1992341858018222,\n 29: 0.1992341858018222}"
     },
     "metadata": {},
     "execution_count": 91
    }
   ],
   "source": [
    "correlations = {}\n",
    "# Coefficients after removing number of parkings larger than n\n",
    "for n in range(30):\n",
    "    removed_outliers = parking_and_price[parking_and_price[\"n_parking\"] < n]\n",
    "    park_price_corr = removed_outliers.corr().iloc[1,0]\n",
    "    correlations[n] = park_price_corr\n",
    "correlations"
   ]
  },
  {
   "cell_type": "markdown",
   "metadata": {},
   "source": [
    "Correlation is highest after removing parkings with numbers above 6. We will therefore transform any values above 6 into 6 as the maximum number of available parking spots and reevaluate the correlation"
   ]
  },
  {
   "cell_type": "code",
   "execution_count": 92,
   "metadata": {},
   "outputs": [
    {
     "output_type": "execute_result",
     "data": {
      "text/plain": "           n_parking     price\nn_parking   1.000000  0.276595\nprice       0.276595  1.000000",
      "text/html": "<div>\n<style scoped>\n    .dataframe tbody tr th:only-of-type {\n        vertical-align: middle;\n    }\n\n    .dataframe tbody tr th {\n        vertical-align: top;\n    }\n\n    .dataframe thead th {\n        text-align: right;\n    }\n</style>\n<table border=\"1\" class=\"dataframe\">\n  <thead>\n    <tr style=\"text-align: right;\">\n      <th></th>\n      <th>n_parking</th>\n      <th>price</th>\n    </tr>\n  </thead>\n  <tbody>\n    <tr>\n      <th>n_parking</th>\n      <td>1.000000</td>\n      <td>0.276595</td>\n    </tr>\n    <tr>\n      <th>price</th>\n      <td>0.276595</td>\n      <td>1.000000</td>\n    </tr>\n  </tbody>\n</table>\n</div>"
     },
     "metadata": {},
     "execution_count": 92
    }
   ],
   "source": [
    "# Correlation after assigning value of 6 to outliers\n",
    "parking_and_price[parking_and_price[\"n_parking\"] > 6] = 6\n",
    "parking_and_price.corr()"
   ]
  },
  {
   "cell_type": "code",
   "execution_count": 93,
   "metadata": {},
   "outputs": [
    {
     "output_type": "execute_result",
     "data": {
      "text/plain": "Text(0.5, 0, 'Number of parking spots')"
     },
     "metadata": {},
     "execution_count": 93
    },
    {
     "output_type": "display_data",
     "data": {
      "text/plain": "<Figure size 216x288 with 1 Axes>",
      "image/png": "[encoded data removed]"
     },
     "metadata": {
      "image/png": {
       "width": 230,
       "height": 284
      }
     }
    }
   ],
   "source": [
    "# Plot of price vs. number of parking spots\n",
    "plt.figure(figsize=(3,4))\n",
    "plt.scatter(parking_and_price[\"n_parking\"], parking_and_price.price)\n",
    "plt.ylabel('Condo price')\n",
    "plt.xlabel('Number of parking spots')"
   ]
  },
  {
   "cell_type": "markdown",
   "metadata": {},
   "source": [
    "From the figure we can see that values assigned to 6 parking spots have low prices condo prices associated with them. Better results would be achieved by either deleting the values or assigning them to 0. We will next assess correlation of a boolean parking features."
   ]
  },
  {
   "cell_type": "code",
   "execution_count": 94,
   "metadata": {},
   "outputs": [
    {
     "output_type": "execute_result",
     "data": {
      "text/plain": "                price\nn_parking    0.306200\nprice        1.000000\nhas_parking  0.235319",
      "text/html": "<div>\n<style scoped>\n    .dataframe tbody tr th:only-of-type {\n        vertical-align: middle;\n    }\n\n    .dataframe tbody tr th {\n        vertical-align: top;\n    }\n\n    .dataframe thead th {\n        text-align: right;\n    }\n</style>\n<table border=\"1\" class=\"dataframe\">\n  <thead>\n    <tr style=\"text-align: right;\">\n      <th></th>\n      <th>price</th>\n    </tr>\n  </thead>\n  <tbody>\n    <tr>\n      <th>n_parking</th>\n      <td>0.306200</td>\n    </tr>\n    <tr>\n      <th>price</th>\n      <td>1.000000</td>\n    </tr>\n    <tr>\n      <th>has_parking</th>\n      <td>0.235319</td>\n    </tr>\n  </tbody>\n</table>\n</div>"
     },
     "metadata": {},
     "execution_count": 94
    }
   ],
   "source": [
    "# Boolean has parking feature\n",
    "parking_and_price[\"has_parking\"] = parking_and_price.n_parking.apply(lambda row: row != 0)\n",
    "parking_and_price.corr(method='spearman')[['price']]"
   ]
  },
  {
   "cell_type": "markdown",
   "metadata": {},
   "source": [
    "Lastly we will extract a boolean feature that indicates available garage parking only since this would be expected to have the largest effect on the price of a condo. Driveway parking is usually not included in the buying price."
   ]
  },
  {
   "cell_type": "code",
   "execution_count": 95,
   "metadata": {},
   "outputs": [
    {
     "output_type": "execute_result",
     "data": {
      "text/plain": "                price\nn_parking    0.306200\nprice        1.000000\nhas_parking  0.235319\nhas_garage   0.319893",
      "text/html": "<div>\n<style scoped>\n    .dataframe tbody tr th:only-of-type {\n        vertical-align: middle;\n    }\n\n    .dataframe tbody tr th {\n        vertical-align: top;\n    }\n\n    .dataframe thead th {\n        text-align: right;\n    }\n</style>\n<table border=\"1\" class=\"dataframe\">\n  <thead>\n    <tr style=\"text-align: right;\">\n      <th></th>\n      <th>price</th>\n    </tr>\n  </thead>\n  <tbody>\n    <tr>\n      <th>n_parking</th>\n      <td>0.306200</td>\n    </tr>\n    <tr>\n      <th>price</th>\n      <td>1.000000</td>\n    </tr>\n    <tr>\n      <th>has_parking</th>\n      <td>0.235319</td>\n    </tr>\n    <tr>\n      <th>has_garage</th>\n      <td>0.319893</td>\n    </tr>\n  </tbody>\n</table>\n</div>"
     },
     "metadata": {},
     "execution_count": 95
    }
   ],
   "source": [
    "has_garage = condos[\"parking_(total)\"].apply(lambda row: \"Garage\" in str(row)) # convert np.nan to string\n",
    "parking_and_price[\"has_garage\"] = has_garage\n",
    "parking_and_price.corr(method='spearman')[['price']]"
   ]
  },
  {
   "cell_type": "markdown",
   "metadata": {},
   "source": [
    "From this we can tell that the best results are achieved by focusing on available garage spots only which also makes sense. We will therefore chose this feature for further analysis."
   ]
  },
  {
   "cell_type": "code",
   "execution_count": 96,
   "metadata": {
    "tags": []
   },
   "outputs": [
    {
     "output_type": "stream",
     "name": "stdout",
     "text": "<class 'pandas.core.frame.DataFrame'>\nRangeIndex: 3269 entries, 0 to 3268\nData columns (total 18 columns):\n #   Column               Non-Null Count  Dtype  \n---  ------               --------------  -----  \n 0   restaurants          3263 non-null   float64\n 1   shopping             3265 non-null   float64\n 2   vibrant              3264 non-null   float64\n 3   cycling_friendly     3263 non-null   float64\n 4   car_friendly         3262 non-null   float64\n 5   historic             3258 non-null   float64\n 6   quiet                3256 non-null   float64\n 7   elementary_schools   3266 non-null   float64\n 8   high_schools         3265 non-null   float64\n 9   nightlife            3261 non-null   float64\n 10  groceries            3267 non-null   float64\n 11  daycares             3265 non-null   float64\n 12  pedestrian_friendly  3267 non-null   float64\n 13  cafes                3264 non-null   float64\n 14  transit_friendly     3268 non-null   float64\n 15  greenery             3260 non-null   float64\n 16  walk_score           3259 non-null   float64\n 17  has_garage           3149 non-null   object \ndtypes: float64(17), object(1)\nmemory usage: 459.8+ KB\n"
    }
   ],
   "source": [
    "condos[\"has_garage\"] = parking_and_price[\"has_garage\"]\n",
    "condos.drop(\"parking_(total)\", axis=1, inplace=True)\n",
    "\n",
    "# Slice containing 1+ missing values\n",
    "condos.loc[:, condos.notnull().sum() < 3269].info()"
   ]
  },
  {
   "cell_type": "markdown",
   "metadata": {},
   "source": [
    "No, we still need to deal with missing values which have been ignored by the transformation."
   ]
  },
  {
   "cell_type": "code",
   "execution_count": 97,
   "metadata": {
    "tags": []
   },
   "outputs": [
    {
     "output_type": "stream",
     "name": "stdout",
     "text": "Records missing: 120\n"
    },
    {
     "output_type": "execute_result",
     "data": {
      "text/plain": "      index           title  \\\n3173   5290  Condo for sale   \n3185   5305  Condo for sale   \n3248   5390  Condo for sale   \n3254   5401  Condo for sale   \n3257   5404  Condo for sale   \n\n                                                address    price        lat  \\\n3173  150, Chemin de la Pointe-Sud, apt. 1105, Montr...   735000  45.448943   \n3185  1545, Avenue du Docteur-Penfield, apt. 1001-02...  1825000  45.497811   \n3248  1420, boulevard Mont-Royal, apt. 660, Montréal...  2590000  45.511363   \n3254  1420, boulevard Mont-Royal, apt. 360, Montréal...  3159150  45.511408   \n3257  1420, boulevard Mont-Royal, apt. 357, Montréal...  1644285  45.511415   \n\n           long  restaurants  shopping  vibrant  cycling_friendly  ...  \\\n3173 -73.552303          3.0       3.0      1.0               7.0  ...   \n3185 -73.585959         10.0      10.0     10.0               6.0  ...   \n3248 -73.607121         10.0      10.0      7.0               5.0  ...   \n3254 -73.607142         10.0      10.0      7.0               5.0  ...   \n3257 -73.607207         10.0      10.0      7.0               5.0  ...   \n\n      basement_bedroom  bathrooms  powder_rooms  total_area  \\\n3173             False        2.0           0.0      1114.0   \n3185             False        3.0           0.0      2246.0   \n3248             False        3.0           1.0      2540.0   \n3254             False        3.0           1.0      3232.0   \n3257             False        2.0           1.0      1660.0   \n\n      new_area_from_price  new_area_from_rooms  river_proximity  has_pool  \\\n3173               1114.0               1114.0            False     False   \n3185               2246.0               2246.0            False      True   \n3248               2540.0               2540.0            False     False   \n3254               3232.0               3232.0            False     False   \n3257               1660.0               1660.0            False     False   \n\n      n_parking  has_garage  \n3173        2.0         NaN  \n3185        2.0         NaN  \n3248        0.0         NaN  \n3254        0.0         NaN  \n3257        0.0         NaN  \n\n[5 rows x 78 columns]",
      "text/html": "<div>\n<style scoped>\n    .dataframe tbody tr th:only-of-type {\n        vertical-align: middle;\n    }\n\n    .dataframe tbody tr th {\n        vertical-align: top;\n    }\n\n    .dataframe thead th {\n        text-align: right;\n    }\n</style>\n<table border=\"1\" class=\"dataframe\">\n  <thead>\n    <tr style=\"text-align: right;\">\n      <th></th>\n      <th>index</th>\n      <th>title</th>\n      <th>address</th>\n      <th>price</th>\n      <th>lat</th>\n      <th>long</th>\n      <th>restaurants</th>\n      <th>shopping</th>\n      <th>vibrant</th>\n      <th>cycling_friendly</th>\n      <th>...</th>\n      <th>basement_bedroom</th>\n      <th>bathrooms</th>\n      <th>powder_rooms</th>\n      <th>total_area</th>\n      <th>new_area_from_price</th>\n      <th>new_area_from_rooms</th>\n      <th>river_proximity</th>\n      <th>has_pool</th>\n      <th>n_parking</th>\n      <th>has_garage</th>\n    </tr>\n  </thead>\n  <tbody>\n    <tr>\n      <th>3173</th>\n      <td>5290</td>\n      <td>Condo for sale</td>\n      <td>150, Chemin de la Pointe-Sud, apt. 1105, Montr...</td>\n      <td>735000</td>\n      <td>45.448943</td>\n      <td>-73.552303</td>\n      <td>3.0</td>\n      <td>3.0</td>\n      <td>1.0</td>\n      <td>7.0</td>\n      <td>...</td>\n      <td>False</td>\n      <td>2.0</td>\n      <td>0.0</td>\n      <td>1114.0</td>\n      <td>1114.0</td>\n      <td>1114.0</td>\n      <td>False</td>\n      <td>False</td>\n      <td>2.0</td>\n      <td>NaN</td>\n    </tr>\n    <tr>\n      <th>3185</th>\n      <td>5305</td>\n      <td>Condo for sale</td>\n      <td>1545, Avenue du Docteur-Penfield, apt. 1001-02...</td>\n      <td>1825000</td>\n      <td>45.497811</td>\n      <td>-73.585959</td>\n      <td>10.0</td>\n      <td>10.0</td>\n      <td>10.0</td>\n      <td>6.0</td>\n      <td>...</td>\n      <td>False</td>\n      <td>3.0</td>\n      <td>0.0</td>\n      <td>2246.0</td>\n      <td>2246.0</td>\n      <td>2246.0</td>\n      <td>False</td>\n      <td>True</td>\n      <td>2.0</td>\n      <td>NaN</td>\n    </tr>\n    <tr>\n      <th>3248</th>\n      <td>5390</td>\n      <td>Condo for sale</td>\n      <td>1420, boulevard Mont-Royal, apt. 660, Montréal...</td>\n      <td>2590000</td>\n      <td>45.511363</td>\n      <td>-73.607121</td>\n      <td>10.0</td>\n      <td>10.0</td>\n      <td>7.0</td>\n      <td>5.0</td>\n      <td>...</td>\n      <td>False</td>\n      <td>3.0</td>\n      <td>1.0</td>\n      <td>2540.0</td>\n      <td>2540.0</td>\n      <td>2540.0</td>\n      <td>False</td>\n      <td>False</td>\n      <td>0.0</td>\n      <td>NaN</td>\n    </tr>\n    <tr>\n      <th>3254</th>\n      <td>5401</td>\n      <td>Condo for sale</td>\n      <td>1420, boulevard Mont-Royal, apt. 360, Montréal...</td>\n      <td>3159150</td>\n      <td>45.511408</td>\n      <td>-73.607142</td>\n      <td>10.0</td>\n      <td>10.0</td>\n      <td>7.0</td>\n      <td>5.0</td>\n      <td>...</td>\n      <td>False</td>\n      <td>3.0</td>\n      <td>1.0</td>\n      <td>3232.0</td>\n      <td>3232.0</td>\n      <td>3232.0</td>\n      <td>False</td>\n      <td>False</td>\n      <td>0.0</td>\n      <td>NaN</td>\n    </tr>\n    <tr>\n      <th>3257</th>\n      <td>5404</td>\n      <td>Condo for sale</td>\n      <td>1420, boulevard Mont-Royal, apt. 357, Montréal...</td>\n      <td>1644285</td>\n      <td>45.511415</td>\n      <td>-73.607207</td>\n      <td>10.0</td>\n      <td>10.0</td>\n      <td>7.0</td>\n      <td>5.0</td>\n      <td>...</td>\n      <td>False</td>\n      <td>2.0</td>\n      <td>1.0</td>\n      <td>1660.0</td>\n      <td>1660.0</td>\n      <td>1660.0</td>\n      <td>False</td>\n      <td>False</td>\n      <td>0.0</td>\n      <td>NaN</td>\n    </tr>\n  </tbody>\n</table>\n<p>5 rows × 78 columns</p>\n</div>"
     },
     "metadata": {},
     "execution_count": 97
    }
   ],
   "source": [
    "# Missing parking data\n",
    "print(\"Records missing:\", condos.has_garage.isnull().sum())\n",
    "condos[condos.has_garage.isnull()].tail()"
   ]
  },
  {
   "cell_type": "markdown",
   "metadata": {},
   "source": [
    "It seems like there are several listings at the address `303, boulevard Saint-Joseph`. We will inspect if the data on parking is consistent for all of them."
   ]
  },
  {
   "cell_type": "code",
   "execution_count": 98,
   "metadata": {},
   "outputs": [
    {
     "output_type": "execute_result",
     "data": {
      "text/plain": "2643    False\n2670    False\n2671    False\n2672    False\n2673    False\n2674    False\n2675    False\n2676    False\n2678      NaN\n3197    False\n3198    False\n3199    False\n3200    False\n3201    False\n3202    False\n3203    False\n3204    False\n3205    False\n3206    False\n3207    False\n3208    False\n3209    False\n3210    False\n3211    False\n3212    False\n3213    False\n3214    False\n3215    False\n3216    False\n3217    False\n3218    False\n3219    False\nName: has_garage, dtype: object"
     },
     "metadata": {},
     "execution_count": 98
    }
   ],
   "source": [
    "condos[condos.address.apply(lambda row: \"303, boulevard Saint-Joseph\" in row)].has_garage"
   ]
  },
  {
   "cell_type": "markdown",
   "metadata": {},
   "source": [
    "All parking records for the same address are either false or missing. This suggests that missing values correspond to listings without available parking. We will therefore transform missing values into False by simply changeing the type of the feature to boolean."
   ]
  },
  {
   "cell_type": "code",
   "execution_count": 99,
   "metadata": {
    "tags": []
   },
   "outputs": [
    {
     "output_type": "stream",
     "name": "stdout",
     "text": "<class 'pandas.core.frame.DataFrame'>\nRangeIndex: 3269 entries, 0 to 3268\nData columns (total 17 columns):\n #   Column               Non-Null Count  Dtype  \n---  ------               --------------  -----  \n 0   restaurants          3263 non-null   float64\n 1   shopping             3265 non-null   float64\n 2   vibrant              3264 non-null   float64\n 3   cycling_friendly     3263 non-null   float64\n 4   car_friendly         3262 non-null   float64\n 5   historic             3258 non-null   float64\n 6   quiet                3256 non-null   float64\n 7   elementary_schools   3266 non-null   float64\n 8   high_schools         3265 non-null   float64\n 9   nightlife            3261 non-null   float64\n 10  groceries            3267 non-null   float64\n 11  daycares             3265 non-null   float64\n 12  pedestrian_friendly  3267 non-null   float64\n 13  cafes                3264 non-null   float64\n 14  transit_friendly     3268 non-null   float64\n 15  greenery             3260 non-null   float64\n 16  walk_score           3259 non-null   float64\ndtypes: float64(17)\nmemory usage: 434.3 KB\n"
    }
   ],
   "source": [
    "condos.has_garage = condos.has_garage.astype('bool')\n",
    "\n",
    "# Slice containing 1+ missing values\n",
    "condos.loc[:, condos.notnull().sum() < 3269].info()"
   ]
  },
  {
   "cell_type": "markdown",
   "metadata": {},
   "source": [
    "### Missing: walk_score records"
   ]
  },
  {
   "cell_type": "code",
   "execution_count": 100,
   "metadata": {},
   "outputs": [
    {
     "output_type": "execute_result",
     "data": {
      "text/plain": "     index           title                                            address  \\\n0        0  Condo for sale  5050, Rue Bannantyne, apt. 203, Montréal (Verd...   \n1        1  Condo for sale  201, Chemin de la Pointe-Sud, apt. 216, Montré...   \n9       15  Condo for sale      240, Rue Lyette, apt. 304, Montréal (LaSalle)   \n11      17  Condo for sale      240, Rue Lyette, apt. 302, Montréal (LaSalle)   \n17      30  Condo for sale  299, Rue de la Rotonde, apt. 204, Montréal (Ve...   \n33      56  Condo for sale  6300, Place Northcrest, apt. 6D, Montréal (Côt...   \n36      61  Condo for sale  6644, Avenue Somerled, apt. 403, Montréal (Côt...   \n42      70  Condo for sale  4721, Rue Rivard, Montréal (Le Plateau-Mont-Ro...   \n521    848  Condo for sale  12416, Rue Trefflé-Berthiaume, Montréal (Riviè...   \n947   1506  Condo for sale  12459, Rue Trefflé-Berthiaume, Montréal (Riviè...   \n\n       price        lat       long  restaurants  shopping  vibrant  \\\n0     409000  45.456079 -73.575949          7.0       8.0      5.0   \n1     680000  45.449347 -73.553327          3.0       3.0      1.0   \n9     324000  45.430631 -73.665644          5.0       5.0      3.0   \n11    324000  45.430631 -73.665644          5.0       5.0      3.0   \n17    528000  45.473050 -73.538448          6.0       5.0      3.0   \n33   1459000  45.512260 -73.622631          9.0      10.0      5.0   \n36    330000  45.465814 -73.639518          7.0       7.0      5.0   \n42    499000  45.525829 -73.584964         10.0      10.0     10.0   \n521   329000  45.673748 -73.532910          2.0       2.0      0.0   \n947   229000  45.674380 -73.533376          2.0       2.0      0.0   \n\n     cycling_friendly  ...  basement_bedroom  bathrooms  powder_rooms  \\\n0                 9.0  ...             False        1.0           0.0   \n1                 7.0  ...             False        2.0           0.0   \n9                 8.0  ...             False        1.0           0.0   \n11                8.0  ...             False        1.0           0.0   \n17                5.0  ...             False        1.0           1.0   \n33                5.0  ...             False        2.0           0.0   \n36                7.0  ...             False        1.0           1.0   \n42               10.0  ...             False        1.0           1.0   \n521               5.0  ...             False        1.0           0.0   \n947               5.0  ...             False        1.0           0.0   \n\n     total_area  new_area_from_price  new_area_from_rooms  river_proximity  \\\n0        1014.0               1014.0               1014.0            False   \n1        1249.0               1249.0               1249.0            False   \n9         861.0                861.0                861.0            False   \n11        871.0                871.0                871.0            False   \n17       1043.0               1043.0               1043.0             True   \n33       2121.0               2121.0               2121.0            False   \n36        794.0                794.0                794.0            False   \n42       1086.0               1086.0               1086.0            False   \n521      1189.0               1189.0               1189.0            False   \n947       875.0                875.0                875.0            False   \n\n     has_pool  n_parking  has_garage  \n0       False        1.0        True  \n1        True        2.0        True  \n9       False        1.0        True  \n11      False        1.0        True  \n17       True        1.0        True  \n33       True        2.0        True  \n36      False        1.0        True  \n42      False        0.0       False  \n521     False        1.0        True  \n947     False        1.0       False  \n\n[10 rows x 78 columns]",
      "text/html": "<div>\n<style scoped>\n    .dataframe tbody tr th:only-of-type {\n        vertical-align: middle;\n    }\n\n    .dataframe tbody tr th {\n        vertical-align: top;\n    }\n\n    .dataframe thead th {\n        text-align: right;\n    }\n</style>\n<table border=\"1\" class=\"dataframe\">\n  <thead>\n    <tr style=\"text-align: right;\">\n      <th></th>\n      <th>index</th>\n      <th>title</th>\n      <th>address</th>\n      <th>price</th>\n      <th>lat</th>\n      <th>long</th>\n      <th>restaurants</th>\n      <th>shopping</th>\n      <th>vibrant</th>\n      <th>cycling_friendly</th>\n      <th>...</th>\n      <th>basement_bedroom</th>\n      <th>bathrooms</th>\n      <th>powder_rooms</th>\n      <th>total_area</th>\n      <th>new_area_from_price</th>\n      <th>new_area_from_rooms</th>\n      <th>river_proximity</th>\n      <th>has_pool</th>\n      <th>n_parking</th>\n      <th>has_garage</th>\n    </tr>\n  </thead>\n  <tbody>\n    <tr>\n      <th>0</th>\n      <td>0</td>\n      <td>Condo for sale</td>\n      <td>5050, Rue Bannantyne, apt. 203, Montréal (Verd...</td>\n      <td>409000</td>\n      <td>45.456079</td>\n      <td>-73.575949</td>\n      <td>7.0</td>\n      <td>8.0</td>\n      <td>5.0</td>\n      <td>9.0</td>\n      <td>...</td>\n      <td>False</td>\n      <td>1.0</td>\n      <td>0.0</td>\n      <td>1014.0</td>\n      <td>1014.0</td>\n      <td>1014.0</td>\n      <td>False</td>\n      <td>False</td>\n      <td>1.0</td>\n      <td>True</td>\n    </tr>\n    <tr>\n      <th>1</th>\n      <td>1</td>\n      <td>Condo for sale</td>\n      <td>201, Chemin de la Pointe-Sud, apt. 216, Montré...</td>\n      <td>680000</td>\n      <td>45.449347</td>\n      <td>-73.553327</td>\n      <td>3.0</td>\n      <td>3.0</td>\n      <td>1.0</td>\n      <td>7.0</td>\n      <td>...</td>\n      <td>False</td>\n      <td>2.0</td>\n      <td>0.0</td>\n      <td>1249.0</td>\n      <td>1249.0</td>\n      <td>1249.0</td>\n      <td>False</td>\n      <td>True</td>\n      <td>2.0</td>\n      <td>True</td>\n    </tr>\n    <tr>\n      <th>9</th>\n      <td>15</td>\n      <td>Condo for sale</td>\n      <td>240, Rue Lyette, apt. 304, Montréal (LaSalle)</td>\n      <td>324000</td>\n      <td>45.430631</td>\n      <td>-73.665644</td>\n      <td>5.0</td>\n      <td>5.0</td>\n      <td>3.0</td>\n      <td>8.0</td>\n      <td>...</td>\n      <td>False</td>\n      <td>1.0</td>\n      <td>0.0</td>\n      <td>861.0</td>\n      <td>861.0</td>\n      <td>861.0</td>\n      <td>False</td>\n      <td>False</td>\n      <td>1.0</td>\n      <td>True</td>\n    </tr>\n    <tr>\n      <th>11</th>\n      <td>17</td>\n      <td>Condo for sale</td>\n      <td>240, Rue Lyette, apt. 302, Montréal (LaSalle)</td>\n      <td>324000</td>\n      <td>45.430631</td>\n      <td>-73.665644</td>\n      <td>5.0</td>\n      <td>5.0</td>\n      <td>3.0</td>\n      <td>8.0</td>\n      <td>...</td>\n      <td>False</td>\n      <td>1.0</td>\n      <td>0.0</td>\n      <td>871.0</td>\n      <td>871.0</td>\n      <td>871.0</td>\n      <td>False</td>\n      <td>False</td>\n      <td>1.0</td>\n      <td>True</td>\n    </tr>\n    <tr>\n      <th>17</th>\n      <td>30</td>\n      <td>Condo for sale</td>\n      <td>299, Rue de la Rotonde, apt. 204, Montréal (Ve...</td>\n      <td>528000</td>\n      <td>45.473050</td>\n      <td>-73.538448</td>\n      <td>6.0</td>\n      <td>5.0</td>\n      <td>3.0</td>\n      <td>5.0</td>\n      <td>...</td>\n      <td>False</td>\n      <td>1.0</td>\n      <td>1.0</td>\n      <td>1043.0</td>\n      <td>1043.0</td>\n      <td>1043.0</td>\n      <td>True</td>\n      <td>True</td>\n      <td>1.0</td>\n      <td>True</td>\n    </tr>\n    <tr>\n      <th>33</th>\n      <td>56</td>\n      <td>Condo for sale</td>\n      <td>6300, Place Northcrest, apt. 6D, Montréal (Côt...</td>\n      <td>1459000</td>\n      <td>45.512260</td>\n      <td>-73.622631</td>\n      <td>9.0</td>\n      <td>10.0</td>\n      <td>5.0</td>\n      <td>5.0</td>\n      <td>...</td>\n      <td>False</td>\n      <td>2.0</td>\n      <td>0.0</td>\n      <td>2121.0</td>\n      <td>2121.0</td>\n      <td>2121.0</td>\n      <td>False</td>\n      <td>True</td>\n      <td>2.0</td>\n      <td>True</td>\n    </tr>\n    <tr>\n      <th>36</th>\n      <td>61</td>\n      <td>Condo for sale</td>\n      <td>6644, Avenue Somerled, apt. 403, Montréal (Côt...</td>\n      <td>330000</td>\n      <td>45.465814</td>\n      <td>-73.639518</td>\n      <td>7.0</td>\n      <td>7.0</td>\n      <td>5.0</td>\n      <td>7.0</td>\n      <td>...</td>\n      <td>False</td>\n      <td>1.0</td>\n      <td>1.0</td>\n      <td>794.0</td>\n      <td>794.0</td>\n      <td>794.0</td>\n      <td>False</td>\n      <td>False</td>\n      <td>1.0</td>\n      <td>True</td>\n    </tr>\n    <tr>\n      <th>42</th>\n      <td>70</td>\n      <td>Condo for sale</td>\n      <td>4721, Rue Rivard, Montréal (Le Plateau-Mont-Ro...</td>\n      <td>499000</td>\n      <td>45.525829</td>\n      <td>-73.584964</td>\n      <td>10.0</td>\n      <td>10.0</td>\n      <td>10.0</td>\n      <td>10.0</td>\n      <td>...</td>\n      <td>False</td>\n      <td>1.0</td>\n      <td>1.0</td>\n      <td>1086.0</td>\n      <td>1086.0</td>\n      <td>1086.0</td>\n      <td>False</td>\n      <td>False</td>\n      <td>0.0</td>\n      <td>False</td>\n    </tr>\n    <tr>\n      <th>521</th>\n      <td>848</td>\n      <td>Condo for sale</td>\n      <td>12416, Rue Trefflé-Berthiaume, Montréal (Riviè...</td>\n      <td>329000</td>\n      <td>45.673748</td>\n      <td>-73.532910</td>\n      <td>2.0</td>\n      <td>2.0</td>\n      <td>0.0</td>\n      <td>5.0</td>\n      <td>...</td>\n      <td>False</td>\n      <td>1.0</td>\n      <td>0.0</td>\n      <td>1189.0</td>\n      <td>1189.0</td>\n      <td>1189.0</td>\n      <td>False</td>\n      <td>False</td>\n      <td>1.0</td>\n      <td>True</td>\n    </tr>\n    <tr>\n      <th>947</th>\n      <td>1506</td>\n      <td>Condo for sale</td>\n      <td>12459, Rue Trefflé-Berthiaume, Montréal (Riviè...</td>\n      <td>229000</td>\n      <td>45.674380</td>\n      <td>-73.533376</td>\n      <td>2.0</td>\n      <td>2.0</td>\n      <td>0.0</td>\n      <td>5.0</td>\n      <td>...</td>\n      <td>False</td>\n      <td>1.0</td>\n      <td>0.0</td>\n      <td>875.0</td>\n      <td>875.0</td>\n      <td>875.0</td>\n      <td>False</td>\n      <td>False</td>\n      <td>1.0</td>\n      <td>False</td>\n    </tr>\n  </tbody>\n</table>\n<p>10 rows × 78 columns</p>\n</div>"
     },
     "metadata": {},
     "execution_count": 100
    }
   ],
   "source": [
    "missing_score = condos[condos.walk_score.isnull()]\n",
    "missing_score"
   ]
  },
  {
   "cell_type": "code",
   "execution_count": 101,
   "metadata": {},
   "outputs": [
    {
     "output_type": "execute_result",
     "data": {
      "text/plain": "1        NaN\n1154    11.0\n1821    11.0\n2050    11.0\n2230    14.0\nName: walk_score, dtype: float64"
     },
     "metadata": {},
     "execution_count": 101
    }
   ],
   "source": [
    "# Records with address: \"201, Chemin de la Pointe-Sud\"\n",
    "condos[condos.address.apply(lambda row: \"201, Chemin de la Pointe-Sud, \" in row)].walk_score\n"
   ]
  },
  {
   "cell_type": "markdown",
   "metadata": {},
   "source": [
    "As we can see, the walk score has been omitted for only one of the apartments within the same building. We will use this information to replace the missing values."
   ]
  },
  {
   "cell_type": "code",
   "execution_count": 102,
   "metadata": {
    "tags": []
   },
   "outputs": [
    {
     "output_type": "stream",
     "name": "stdout",
     "text": "Original Address:\n5050, Rue Bannantyne, apt. 203, Montréal (Verdun/Île-des-Soeurs), Neighbourhood Verdun\nMode is nan\nUsing min instead: nan\nSearching for walk score at nearby addresses\nStreet number difference: 110\nWalk score at street number 5050 replaced by walk score found at number 4940\nReplacement: 80.0\n---------------------------------------------------------------------------\nOriginal Address:\n201, Chemin de la Pointe-Sud, apt. 216, Montréal (Verdun/Île-des-Soeurs), Neighbourhood Île-des-Soeurs\nReplacement: 11.0\n---------------------------------------------------------------------------\nOriginal Address:\n240, Rue Lyette, apt. 304, Montréal (LaSalle)\nReplacement: 31.0\n---------------------------------------------------------------------------\nOriginal Address:\n240, Rue Lyette, apt. 302, Montréal (LaSalle)\nReplacement: 31.0\n---------------------------------------------------------------------------\nOriginal Address:\n299, Rue de la Rotonde, apt. 204, Montréal (Verdun/Île-des-Soeurs), Neighbourhood Île-des-Soeurs\nReplacement: 35.0\n---------------------------------------------------------------------------\nOriginal Address:\n6300, Place Northcrest, apt. 6D, Montréal (Côte-des-Neiges/Notre-Dame-de-Grâce), Neighbourhood Côte-des-Neiges\nReplacement: 55.0\n---------------------------------------------------------------------------\nOriginal Address:\n6644, Avenue Somerled, apt. 403, Montréal (Côte-des-Neiges/Notre-Dame-de-Grâce), Neighbourhood Notre-Dame-de-Grâce\nMode is nan\nUsing min instead: nan\nSearching for walk score at nearby addresses\nMinimum street number difference too large: 680\nReplacement: nan\n---------------------------------------------------------------------------\nOriginal Address:\n4721, Rue Rivard, Montréal (Le Plateau-Mont-Royal), Neighbourhood Le Plateau-Mont-Royal\nMode is nan\nUsing min instead: nan\nSearching for walk score at nearby addresses\nStreet number difference: 83\nWalk score at street number 4721 replaced by walk score found at number 4804\nReplacement: 95.0\n---------------------------------------------------------------------------\nOriginal Address:\n12416, Rue Trefflé-Berthiaume, Montréal (Rivière-des-Prairies/Pointe-aux-Trembles), Neighbourhood Rivière-des-Prairies\nMode is nan\nUsing min instead: nan\nSearching for walk score at nearby addresses\nStreet number difference: 12\nWalk score at street number 12416 replaced by walk score found at number 12404\nNo replacement found!\nStreet number difference: 13\nWalk score at street number 12416 replaced by walk score found at number 12403\nNo replacement found!\nStreet number difference: 43\nWalk score at street number 12416 replaced by walk score found at number 12459\nNo replacement found!\nReplacement: nan\n---------------------------------------------------------------------------\nOriginal Address:\n12459, Rue Trefflé-Berthiaume, Montréal (Rivière-des-Prairies/Pointe-aux-Trembles), Neighbourhood Rivière-des-Prairies\nMode is nan\nUsing min instead: nan\nSearching for walk score at nearby addresses\nStreet number difference: 43\nWalk score at street number 12459 replaced by walk score found at number 12416\nNo replacement found!\nStreet number difference: 55\nWalk score at street number 12459 replaced by walk score found at number 12404\nNo replacement found!\nStreet number difference: 56\nWalk score at street number 12459 replaced by walk score found at number 12403\nNo replacement found!\nReplacement: nan\n---------------------------------------------------------------------------\n"
    }
   ],
   "source": [
    "# Walk score imputation\n",
    "new_walk_scores = []\n",
    "for address in missing_score.address:\n",
    "    print(\"Original Address:\")\n",
    "    print(address)\n",
    "    # Address root of record to impute\n",
    "    address_of_interest = re.search(\"\\d+,[\\sa-zA-Z]+\", address).group()\n",
    "    # Walk scores from records with same address as address_of_interest\n",
    "    replacement_array = condos[condos.address.apply(lambda row: address_of_interest in row)].walk_score\n",
    "    # Select most common walk score\n",
    "    replacement = float(stats.mode(replacement_array.values).mode)\n",
    "    # Most common value is \"nan\"\n",
    "    if str(replacement) == \"nan\":\n",
    "        print(\"Mode is nan\")\n",
    "        # Try min instead of mode\n",
    "        replacement = float(min(replacement_array.values))\n",
    "        print(\"Using min instead:\", replacement)\n",
    "\n",
    "    # Exact address either not found or has also missing walk score\n",
    "    # -> Search for street name instead of exact address\n",
    "    if replacement_array.isnull().all():\n",
    "        \n",
    "        print(\"Searching for walk score at nearby addresses\")\n",
    "        # Street name\n",
    "        street_name = re.search(\"[a-zA-Z\\s]+\", address).group()\n",
    "        # Street number \n",
    "        street_number = int(re.search(\"\\d+\", address).group())\n",
    "\n",
    "        # Search for street name in entire data frame\n",
    "        replacement_data = df[df.address.apply(lambda row: street_name in row)]\n",
    "        # Extract street numbers \n",
    "        replacements = replacement_data.address.apply(lambda address: int(re.search(\"\\d+\", address).group()))\n",
    "        # Tuple of street number differences and corresponding street number \n",
    "        replacements_diff = [(np.absolute(replacement - street_number), replacement)\\\n",
    "            for replacement in replacements\\\n",
    "            if np.absolute(replacement - street_number) > 0]\n",
    "        replacements_diff.sort()\n",
    "\n",
    "        replacement_found = False\n",
    "        # If minimum difference in street number small\n",
    "        for diff in replacements_diff:\n",
    "            if diff[0] < 200:\n",
    "                # replacement_address = str(diff[1]) + \",\" + street_name\n",
    "                replacement_address = replacement_data[\\\n",
    "                    replacement_data.address.apply(\\\n",
    "                    lambda row: str(diff[1]) in row)]\\\n",
    "                    .address.values[0]\n",
    "                print(\"Street number difference:\", str(diff[0]))\n",
    "                print(\"Walk score at street number\", street_number, \"replaced by walk score found at number\", diff[1])\n",
    "                replacement = float(df[df.address.apply(lambda row: replacement_address in row)].walk_score)\n",
    "                \n",
    "                # Replacement not nan\n",
    "                if str(replacement) != \"nan\":\n",
    "                    break\n",
    "                else:\n",
    "                    print(\"No replacement found!\")\n",
    "            else:\n",
    "                print(\"Minimum street number difference too large:\", diff[0])\n",
    "                replacement = np.nan\n",
    "                break\n",
    "    print(\"Replacement:\", replacement)\n",
    "    print(\"-\" * 75)\n",
    "    new_walk_scores.append(replacement)"
   ]
  },
  {
   "cell_type": "code",
   "execution_count": 103,
   "metadata": {
    "tags": []
   },
   "outputs": [
    {
     "output_type": "execute_result",
     "data": {
      "text/plain": "0      80.0\n1      11.0\n9      31.0\n11     31.0\n17     35.0\n33     55.0\n36      NaN\n42     95.0\n521     NaN\n947     NaN\ndtype: float64"
     },
     "metadata": {},
     "execution_count": 103
    }
   ],
   "source": [
    "new_walk_scores = pd.Series(new_walk_scores)\n",
    "# Adjust indices to missing records\n",
    "new_walk_scores.index = condos[condos.walk_score.isnull()].index\n",
    "new_walk_scores"
   ]
  },
  {
   "cell_type": "markdown",
   "metadata": {},
   "source": [
    "3 values couldn't be replaced. We will keep them for now but might remove them entirely later."
   ]
  },
  {
   "cell_type": "code",
   "execution_count": 104,
   "metadata": {
    "tags": []
   },
   "outputs": [
    {
     "output_type": "stream",
     "name": "stdout",
     "text": "<class 'pandas.core.frame.DataFrame'>\nRangeIndex: 3269 entries, 0 to 3268\nData columns (total 17 columns):\n #   Column               Non-Null Count  Dtype  \n---  ------               --------------  -----  \n 0   restaurants          3263 non-null   float64\n 1   shopping             3265 non-null   float64\n 2   vibrant              3264 non-null   float64\n 3   cycling_friendly     3263 non-null   float64\n 4   car_friendly         3262 non-null   float64\n 5   historic             3258 non-null   float64\n 6   quiet                3256 non-null   float64\n 7   elementary_schools   3266 non-null   float64\n 8   high_schools         3265 non-null   float64\n 9   nightlife            3261 non-null   float64\n 10  groceries            3267 non-null   float64\n 11  daycares             3265 non-null   float64\n 12  pedestrian_friendly  3267 non-null   float64\n 13  cafes                3264 non-null   float64\n 14  transit_friendly     3268 non-null   float64\n 15  greenery             3260 non-null   float64\n 16  walk_score           3266 non-null   float64\ndtypes: float64(17)\nmemory usage: 434.3 KB\n"
    }
   ],
   "source": [
    "# Replace\n",
    "condos.loc[condos.walk_score.isnull(), \"walk_score\"] = new_walk_scores\n",
    "\n",
    "# Slice containing 1+ missing values\n",
    "condos.loc[:, condos.notnull().sum() < 3269].info()"
   ]
  },
  {
   "cell_type": "markdown",
   "metadata": {},
   "source": [
    "The remaining missing values are all neighbourhood indicators. We will inspect listings on centris to evaluate how we can replace records. Should there be no discernible indication on how to proceed, we will simply delete the missing records, since there are only a few left.  \n",
    "\n",
    "### Missing: Neighbourhood indicators"
   ]
  },
  {
   "cell_type": "code",
   "execution_count": 105,
   "metadata": {
    "tags": []
   },
   "outputs": [
    {
     "output_type": "stream",
     "name": "stdout",
     "text": "<class 'pandas.core.frame.DataFrame'>\nInt64Index: 3248 entries, 0 to 3268\nData columns (total 78 columns):\n #   Column                                   Non-Null Count  Dtype  \n---  ------                                   --------------  -----  \n 0   index                                    3248 non-null   int64  \n 1   title                                    3248 non-null   object \n 2   address                                  3248 non-null   object \n 3   price                                    3248 non-null   int64  \n 4   lat                                      3248 non-null   float64\n 5   long                                     3248 non-null   float64\n 6   restaurants                              3248 non-null   float64\n 7   shopping                                 3248 non-null   float64\n 8   vibrant                                  3248 non-null   float64\n 9   cycling_friendly                         3248 non-null   float64\n 10  car_friendly                             3248 non-null   float64\n 11  historic                                 3248 non-null   float64\n 12  quiet                                    3248 non-null   float64\n 13  elementary_schools                       3248 non-null   float64\n 14  high_schools                             3248 non-null   float64\n 15  parks                                    3248 non-null   int64  \n 16  nightlife                                3248 non-null   float64\n 17  groceries                                3248 non-null   float64\n 18  daycares                                 3248 non-null   float64\n 19  pedestrian_friendly                      3248 non-null   float64\n 20  cafes                                    3248 non-null   float64\n 21  transit_friendly                         3248 non-null   float64\n 22  greenery                                 3248 non-null   float64\n 23  condominium_type                         3248 non-null   object \n 24  year_built                               3248 non-null   object \n 25  population_2016_                         3248 non-null   int64  \n 26  population_variation_between_2011_2016_  3248 non-null   int64  \n 27  population_density_                      3248 non-null   int64  \n 28  unemployment_rate_2016_                  3248 non-null   int64  \n 29  less_than_$50,000_(%)                    3248 non-null   int64  \n 30  between_$50,000_and_$80,000_(%)          3248 non-null   int64  \n 31  between_$80,000_and_$100,000_(%)         3248 non-null   int64  \n 32  between_$100,000_and_$150,000_(%)        3248 non-null   int64  \n 33  more_than_$150,000_(%)                   3248 non-null   int64  \n 34  1-person_households_(%)                  3248 non-null   int64  \n 35  2-person_households_(%)                  3248 non-null   int64  \n 36  3-person_households_(%)                  3248 non-null   int64  \n 37  4-person_households_(%)                  3248 non-null   int64  \n 38  5-person_or_more_households_(%)          3248 non-null   int64  \n 39  couples_without_children_at_home_(%)     3248 non-null   int64  \n 40  couples_with_children_at_home_(%)        3248 non-null   int64  \n 41  single-parent_families_(%)               3248 non-null   int64  \n 42  owners_(%)                               3248 non-null   int64  \n 43  renters_(%)                              3248 non-null   int64  \n 44  before_1960_(%)                          3248 non-null   int64  \n 45  between_1961_and_1980_(%)                3248 non-null   int64  \n 46  between_1981_and_1990_(%)                3248 non-null   int64  \n 47  between_1991_and_2000_(%)                3248 non-null   int64  \n 48  between_2001_and_2010_(%)                3248 non-null   int64  \n 49  between_2011_and_2016_(%)                3248 non-null   int64  \n 50  single-family_homes_(%)                  3248 non-null   int64  \n 51  semi-detached_or_row_houses_(%)          3248 non-null   int64  \n 52  buildings_with_less_than_5_floors_(%)    3248 non-null   int64  \n 53  buildings_with_5_or_more_floors_(%)      3248 non-null   int64  \n 54  mobile_homes_(%)                         3248 non-null   int64  \n 55  university_(%)                           3248 non-null   int64  \n 56  college_(%)                              3248 non-null   int64  \n 57  secondary_(high)_school_(%)              3248 non-null   int64  \n 58  apprentice_or_trade_school_diploma_(%)   3248 non-null   int64  \n 59  no_diploma_(%)                           3248 non-null   int64  \n 60  non-immigrant_population_(%)             3248 non-null   int64  \n 61  immigrant_population_(%)                 3248 non-null   int64  \n 62  french_(%)                               3248 non-null   float64\n 63  english_(%)                              3248 non-null   float64\n 64  others_languages_(%)                     3248 non-null   float64\n 65  walk_score                               3248 non-null   float64\n 66  rooms                                    3248 non-null   float64\n 67  bedrooms                                 3248 non-null   float64\n 68  basement_bedroom                         3248 non-null   bool   \n 69  bathrooms                                3248 non-null   float64\n 70  powder_rooms                             3248 non-null   float64\n 71  total_area                               3248 non-null   float64\n 72  new_area_from_price                      3248 non-null   float64\n 73  new_area_from_rooms                      3248 non-null   float64\n 74  river_proximity                          3248 non-null   bool   \n 75  has_pool                                 3248 non-null   bool   \n 76  n_parking                                3248 non-null   float64\n 77  has_garage                               3248 non-null   bool   \ndtypes: bool(4), float64(30), int64(40), object(4)\nmemory usage: 1.9+ MB\n"
    }
   ],
   "source": [
    "condos_final = condos.dropna(axis=0)\n",
    "condos_final.info()"
   ]
  },
  {
   "source": [
    "### Condominium type"
   ],
   "cell_type": "markdown",
   "metadata": {}
  },
  {
   "cell_type": "code",
   "execution_count": 106,
   "metadata": {},
   "outputs": [
    {
     "output_type": "execute_result",
     "data": {
      "text/plain": "Divided      2964\nUndivided     284\nName: condominium_type, dtype: int64"
     },
     "metadata": {},
     "execution_count": 106
    }
   ],
   "source": [
    " condos_final.condominium_type.value_counts()"
   ]
  },
  {
   "cell_type": "code",
   "execution_count": 107,
   "metadata": {},
   "outputs": [],
   "source": [
    "condos_final[\"is_devided\"] =\\\n",
    "    condos_final.condominium_type.apply(lambda x: 1 if x == \"Divided\" else 0)"
   ]
  },
  {
   "cell_type": "code",
   "execution_count": 108,
   "metadata": {},
   "outputs": [
    {
     "output_type": "execute_result",
     "data": {
      "text/plain": "1    2964\n0     284\nName: is_devided, dtype: int64"
     },
     "metadata": {},
     "execution_count": 108
    }
   ],
   "source": [
    "condos_final.drop(\"condominium_type\", axis=1, inplace=True)\n",
    "condos_final.is_devided.value_counts()"
   ]
  },
  {
   "cell_type": "code",
   "execution_count": 109,
   "metadata": {},
   "outputs": [
    {
     "output_type": "execute_result",
     "data": {
      "text/plain": "            is_devided     price\nis_devided    1.000000 -0.036215\nprice        -0.036215  1.000000",
      "text/html": "<div>\n<style scoped>\n    .dataframe tbody tr th:only-of-type {\n        vertical-align: middle;\n    }\n\n    .dataframe tbody tr th {\n        vertical-align: top;\n    }\n\n    .dataframe thead th {\n        text-align: right;\n    }\n</style>\n<table border=\"1\" class=\"dataframe\">\n  <thead>\n    <tr style=\"text-align: right;\">\n      <th></th>\n      <th>is_devided</th>\n      <th>price</th>\n    </tr>\n  </thead>\n  <tbody>\n    <tr>\n      <th>is_devided</th>\n      <td>1.000000</td>\n      <td>-0.036215</td>\n    </tr>\n    <tr>\n      <th>price</th>\n      <td>-0.036215</td>\n      <td>1.000000</td>\n    </tr>\n  </tbody>\n</table>\n</div>"
     },
     "metadata": {},
     "execution_count": 109
    }
   ],
   "source": [
    "# temporary table for correlation\n",
    "df_corr = condos_final[[\"is_devided\", \"price\"]]\n",
    "df_corr.corr(method=\"spearman\")"
   ]
  },
  {
   "source": [
    "Due to the low correlation with price we will drop the feature"
   ],
   "cell_type": "markdown",
   "metadata": {}
  },
  {
   "cell_type": "code",
   "execution_count": 110,
   "metadata": {},
   "outputs": [
    {
     "output_type": "execute_result",
     "data": {
      "text/plain": "      index           title  \\\n0         0  Condo for sale   \n1         1  Condo for sale   \n2         2  Condo for sale   \n3         3  Condo for sale   \n4         4  Condo for sale   \n...     ...             ...   \n3243   5417  Condo for sale   \n3244   5418  Condo for sale   \n3245   5419  Condo for sale   \n3246   5420  Condo for sale   \n3247   5421  Condo for sale   \n\n                                                address    price        lat  \\\n0     5050, Rue Bannantyne, apt. 203, Montréal (Verd...   409000  45.456079   \n1     201, Chemin de la Pointe-Sud, apt. 216, Montré...   680000  45.449347   \n2     8800, Rue Verville, apt. 101, Montréal (Ahunts...   283000  45.536589   \n3     185, Rue du Séminaire, apt. 605, Montréal (Le ...   339000  45.490915   \n4      7075, Rue Bombardier, apt. 108, Montréal (Anjou)   177800  45.606186   \n...                                                 ...      ...        ...   \n3243  4850, Chemin de la Côte-Saint-Luc, apt. PH2, M...  1450000  45.483519   \n3244  4500, Chemin de la Côte-des-Neiges, apt. 701, ...   279000  45.495407   \n3245  2301, Rue Saint-Patrick, apt. B509, Montréal (...   599000  45.481674   \n3246  2301, Rue Saint-Patrick, apt. B215, Montréal (...  1050000  45.481674   \n3247  2365, Rue Saint-Patrick, apt. 602A, Montréal (...  1100000  45.481674   \n\n           long  restaurants  shopping  vibrant  cycling_friendly  ...  \\\n0    -73.575949          7.0       8.0      5.0               9.0  ...   \n1    -73.553327          3.0       3.0      1.0               7.0  ...   \n2    -73.646590          8.0      10.0      5.0               3.0  ...   \n3    -73.560779         10.0      10.0      9.0               9.0  ...   \n4    -73.588353          6.0       7.0      3.0               4.0  ...   \n...         ...          ...       ...      ...               ...  ...   \n3243 -73.616499          9.0       9.0      5.0               2.0  ...   \n3244 -73.606735         10.0      10.0      5.0               8.0  ...   \n3245 -73.569046         10.0      10.0      7.0              10.0  ...   \n3246 -73.569046         10.0      10.0      7.0              10.0  ...   \n3247 -73.569046         10.0      10.0      7.0              10.0  ...   \n\n      basement_bedroom  bathrooms  powder_rooms  total_area  \\\n0                False        1.0           0.0      1014.0   \n1                False        2.0           0.0      1249.0   \n2                False        1.0           0.0       848.0   \n3                False        1.0           0.0       621.0   \n4                False        1.0           0.0       586.0   \n...                ...        ...           ...         ...   \n3243             False        2.0           1.0      2265.0   \n3244             False        1.0           0.0       552.0   \n3245             False        1.0           0.0       808.0   \n3246             False        2.0           0.0      1390.0   \n3247             False        2.0           0.0      1218.0   \n\n      new_area_from_price  new_area_from_rooms  river_proximity  has_pool  \\\n0                  1014.0               1014.0            False     False   \n1                  1249.0               1249.0            False      True   \n2                   848.0                848.0            False     False   \n3                   621.0                621.0            False      True   \n4                   586.0                586.0            False     False   \n...                   ...                  ...              ...       ...   \n3243               2265.0               2265.0            False     False   \n3244                552.0                552.0            False     False   \n3245                808.0                808.0            False     False   \n3246               1390.0               1390.0            False     False   \n3247               1218.0               1218.0            False     False   \n\n      n_parking  has_garage  \n0           1.0        True  \n1           2.0        True  \n2           1.0        True  \n3           0.0       False  \n4           1.0       False  \n...         ...         ...  \n3243        0.0       False  \n3244        1.0        True  \n3245        0.0       False  \n3246        2.0        True  \n3247        1.0        True  \n\n[3248 rows x 77 columns]",
      "text/html": "<div>\n<style scoped>\n    .dataframe tbody tr th:only-of-type {\n        vertical-align: middle;\n    }\n\n    .dataframe tbody tr th {\n        vertical-align: top;\n    }\n\n    .dataframe thead th {\n        text-align: right;\n    }\n</style>\n<table border=\"1\" class=\"dataframe\">\n  <thead>\n    <tr style=\"text-align: right;\">\n      <th></th>\n      <th>index</th>\n      <th>title</th>\n      <th>address</th>\n      <th>price</th>\n      <th>lat</th>\n      <th>long</th>\n      <th>restaurants</th>\n      <th>shopping</th>\n      <th>vibrant</th>\n      <th>cycling_friendly</th>\n      <th>...</th>\n      <th>basement_bedroom</th>\n      <th>bathrooms</th>\n      <th>powder_rooms</th>\n      <th>total_area</th>\n      <th>new_area_from_price</th>\n      <th>new_area_from_rooms</th>\n      <th>river_proximity</th>\n      <th>has_pool</th>\n      <th>n_parking</th>\n      <th>has_garage</th>\n    </tr>\n  </thead>\n  <tbody>\n    <tr>\n      <th>0</th>\n      <td>0</td>\n      <td>Condo for sale</td>\n      <td>5050, Rue Bannantyne, apt. 203, Montréal (Verd...</td>\n      <td>409000</td>\n      <td>45.456079</td>\n      <td>-73.575949</td>\n      <td>7.0</td>\n      <td>8.0</td>\n      <td>5.0</td>\n      <td>9.0</td>\n      <td>...</td>\n      <td>False</td>\n      <td>1.0</td>\n      <td>0.0</td>\n      <td>1014.0</td>\n      <td>1014.0</td>\n      <td>1014.0</td>\n      <td>False</td>\n      <td>False</td>\n      <td>1.0</td>\n      <td>True</td>\n    </tr>\n    <tr>\n      <th>1</th>\n      <td>1</td>\n      <td>Condo for sale</td>\n      <td>201, Chemin de la Pointe-Sud, apt. 216, Montré...</td>\n      <td>680000</td>\n      <td>45.449347</td>\n      <td>-73.553327</td>\n      <td>3.0</td>\n      <td>3.0</td>\n      <td>1.0</td>\n      <td>7.0</td>\n      <td>...</td>\n      <td>False</td>\n      <td>2.0</td>\n      <td>0.0</td>\n      <td>1249.0</td>\n      <td>1249.0</td>\n      <td>1249.0</td>\n      <td>False</td>\n      <td>True</td>\n      <td>2.0</td>\n      <td>True</td>\n    </tr>\n    <tr>\n      <th>2</th>\n      <td>2</td>\n      <td>Condo for sale</td>\n      <td>8800, Rue Verville, apt. 101, Montréal (Ahunts...</td>\n      <td>283000</td>\n      <td>45.536589</td>\n      <td>-73.646590</td>\n      <td>8.0</td>\n      <td>10.0</td>\n      <td>5.0</td>\n      <td>3.0</td>\n      <td>...</td>\n      <td>False</td>\n      <td>1.0</td>\n      <td>0.0</td>\n      <td>848.0</td>\n      <td>848.0</td>\n      <td>848.0</td>\n      <td>False</td>\n      <td>False</td>\n      <td>1.0</td>\n      <td>True</td>\n    </tr>\n    <tr>\n      <th>3</th>\n      <td>3</td>\n      <td>Condo for sale</td>\n      <td>185, Rue du Séminaire, apt. 605, Montréal (Le ...</td>\n      <td>339000</td>\n      <td>45.490915</td>\n      <td>-73.560779</td>\n      <td>10.0</td>\n      <td>10.0</td>\n      <td>9.0</td>\n      <td>9.0</td>\n      <td>...</td>\n      <td>False</td>\n      <td>1.0</td>\n      <td>0.0</td>\n      <td>621.0</td>\n      <td>621.0</td>\n      <td>621.0</td>\n      <td>False</td>\n      <td>True</td>\n      <td>0.0</td>\n      <td>False</td>\n    </tr>\n    <tr>\n      <th>4</th>\n      <td>4</td>\n      <td>Condo for sale</td>\n      <td>7075, Rue Bombardier, apt. 108, Montréal (Anjou)</td>\n      <td>177800</td>\n      <td>45.606186</td>\n      <td>-73.588353</td>\n      <td>6.0</td>\n      <td>7.0</td>\n      <td>3.0</td>\n      <td>4.0</td>\n      <td>...</td>\n      <td>False</td>\n      <td>1.0</td>\n      <td>0.0</td>\n      <td>586.0</td>\n      <td>586.0</td>\n      <td>586.0</td>\n      <td>False</td>\n      <td>False</td>\n      <td>1.0</td>\n      <td>False</td>\n    </tr>\n    <tr>\n      <th>...</th>\n      <td>...</td>\n      <td>...</td>\n      <td>...</td>\n      <td>...</td>\n      <td>...</td>\n      <td>...</td>\n      <td>...</td>\n      <td>...</td>\n      <td>...</td>\n      <td>...</td>\n      <td>...</td>\n      <td>...</td>\n      <td>...</td>\n      <td>...</td>\n      <td>...</td>\n      <td>...</td>\n      <td>...</td>\n      <td>...</td>\n      <td>...</td>\n      <td>...</td>\n      <td>...</td>\n    </tr>\n    <tr>\n      <th>3243</th>\n      <td>5417</td>\n      <td>Condo for sale</td>\n      <td>4850, Chemin de la Côte-Saint-Luc, apt. PH2, M...</td>\n      <td>1450000</td>\n      <td>45.483519</td>\n      <td>-73.616499</td>\n      <td>9.0</td>\n      <td>9.0</td>\n      <td>5.0</td>\n      <td>2.0</td>\n      <td>...</td>\n      <td>False</td>\n      <td>2.0</td>\n      <td>1.0</td>\n      <td>2265.0</td>\n      <td>2265.0</td>\n      <td>2265.0</td>\n      <td>False</td>\n      <td>False</td>\n      <td>0.0</td>\n      <td>False</td>\n    </tr>\n    <tr>\n      <th>3244</th>\n      <td>5418</td>\n      <td>Condo for sale</td>\n      <td>4500, Chemin de la Côte-des-Neiges, apt. 701, ...</td>\n      <td>279000</td>\n      <td>45.495407</td>\n      <td>-73.606735</td>\n      <td>10.0</td>\n      <td>10.0</td>\n      <td>5.0</td>\n      <td>8.0</td>\n      <td>...</td>\n      <td>False</td>\n      <td>1.0</td>\n      <td>0.0</td>\n      <td>552.0</td>\n      <td>552.0</td>\n      <td>552.0</td>\n      <td>False</td>\n      <td>False</td>\n      <td>1.0</td>\n      <td>True</td>\n    </tr>\n    <tr>\n      <th>3245</th>\n      <td>5419</td>\n      <td>Condo for sale</td>\n      <td>2301, Rue Saint-Patrick, apt. B509, Montréal (...</td>\n      <td>599000</td>\n      <td>45.481674</td>\n      <td>-73.569046</td>\n      <td>10.0</td>\n      <td>10.0</td>\n      <td>7.0</td>\n      <td>10.0</td>\n      <td>...</td>\n      <td>False</td>\n      <td>1.0</td>\n      <td>0.0</td>\n      <td>808.0</td>\n      <td>808.0</td>\n      <td>808.0</td>\n      <td>False</td>\n      <td>False</td>\n      <td>0.0</td>\n      <td>False</td>\n    </tr>\n    <tr>\n      <th>3246</th>\n      <td>5420</td>\n      <td>Condo for sale</td>\n      <td>2301, Rue Saint-Patrick, apt. B215, Montréal (...</td>\n      <td>1050000</td>\n      <td>45.481674</td>\n      <td>-73.569046</td>\n      <td>10.0</td>\n      <td>10.0</td>\n      <td>7.0</td>\n      <td>10.0</td>\n      <td>...</td>\n      <td>False</td>\n      <td>2.0</td>\n      <td>0.0</td>\n      <td>1390.0</td>\n      <td>1390.0</td>\n      <td>1390.0</td>\n      <td>False</td>\n      <td>False</td>\n      <td>2.0</td>\n      <td>True</td>\n    </tr>\n    <tr>\n      <th>3247</th>\n      <td>5421</td>\n      <td>Condo for sale</td>\n      <td>2365, Rue Saint-Patrick, apt. 602A, Montréal (...</td>\n      <td>1100000</td>\n      <td>45.481674</td>\n      <td>-73.569046</td>\n      <td>10.0</td>\n      <td>10.0</td>\n      <td>7.0</td>\n      <td>10.0</td>\n      <td>...</td>\n      <td>False</td>\n      <td>2.0</td>\n      <td>0.0</td>\n      <td>1218.0</td>\n      <td>1218.0</td>\n      <td>1218.0</td>\n      <td>False</td>\n      <td>False</td>\n      <td>1.0</td>\n      <td>True</td>\n    </tr>\n  </tbody>\n</table>\n<p>3248 rows × 77 columns</p>\n</div>"
     },
     "metadata": {},
     "execution_count": 110
    }
   ],
   "source": [
    "condos_final.drop(\"is_devided\", axis=1, inplace=True)\n",
    "condos_final.reset_index(drop=True)"
   ]
  },
  {
   "source": [
    "### Year Built"
   ],
   "cell_type": "markdown",
   "metadata": {}
  },
  {
   "cell_type": "code",
   "execution_count": 111,
   "metadata": {},
   "outputs": [
    {
     "output_type": "execute_result",
     "data": {
      "text/plain": "To be built, New    247\n2019                147\n2013                145\n2016                141\n2014                141\n                   ... \n1968                  1\n1915, Century         1\n1999, Century         1\n1880, Century         1\n1873, Historic        1\nName: year_built, Length: 199, dtype: int64"
     },
     "metadata": {},
     "execution_count": 111
    }
   ],
   "source": [
    "condos_final.year_built.value_counts()"
   ]
  },
  {
   "cell_type": "code",
   "execution_count": 112,
   "metadata": {},
   "outputs": [
    {
     "output_type": "execute_result",
     "data": {
      "text/plain": "0                     2695\nTo be built            247\nUnder construction     102\n New                    62\n Historic               53\nUnknown age             45\n Century                27\n Being converted        17\nName: year_built, dtype: int64"
     },
     "metadata": {},
     "execution_count": 112
    }
   ],
   "source": [
    "# Additional information on buildings\n",
    "old_buildings = condos_final.year_built.\\\n",
    "    apply(lambda x: re.search(\"[a-zA-Z\\s]+\", x).group() if bool(re.search(\"[a-zA-Z]+\", x)) else 0)\n",
    "old_buildings.value_counts()"
   ]
  },
  {
   "source": [
    "With historic buildings, the linear relatoinship between age and value would be expected to be lost. Both very new and very old buildings are expected to exhibit a value increase as result of age. We will therefor test the correlation of the entire age data as well as that of historic buildings removed with price."
   ],
   "cell_type": "markdown",
   "metadata": {}
  },
  {
   "cell_type": "code",
   "execution_count": 113,
   "metadata": {},
   "outputs": [],
   "source": [
    "year_built = condos_final.year_built.\\\n",
    "    apply(lambda x: re.search(\"\\d+\", x).group() if bool(re.search(\"\\d+\", x)) else np.nan)  "
   ]
  },
  {
   "cell_type": "code",
   "execution_count": 114,
   "metadata": {},
   "outputs": [
    {
     "output_type": "execute_result",
     "data": {
      "text/plain": "3174    2018\n2689    2016\n2085    2015\n2877    2015\n1535    2015\n1545    2015\n327     2015\n2423    2014\n2428    2013\n334     2006\n1062    2005\n1695    2005\n2219    2003\n223     1999\n2680    1999\n3187    1999\n1824    1995\n203     1989\n2048    1981\n2373    1967\n2739    1931\n396     1929\n3134    1929\n151     1929\n2340    1929\nName: year_built, dtype: object"
     },
     "metadata": {},
     "execution_count": 114
    }
   ],
   "source": [
    "# Indecies of historic buildings\n",
    "index_historic = old_buildings[(old_buildings == \" Historic\") | (old_buildings == \" Century\")].index\n",
    "\n",
    "# Age of historic/century condos\n",
    "historic_ages = year_built[index_historic]\n",
    "historic_ages.sort_values(ascending=False).head(25)"
   ]
  },
  {
   "source": [
    "It is unclear why several new buildings are labeled as historic. From the list, 1931 seems like a reasonable cutoff."
   ],
   "cell_type": "markdown",
   "metadata": {}
  },
  {
   "cell_type": "code",
   "execution_count": 115,
   "metadata": {
    "tags": []
   },
   "outputs": [],
   "source": [
    "# Update year_build column\n",
    "condos_final[\"year_built\"] = year_built.astype(\"float\")\n",
    "# Remove buildings older than 1931\n",
    "new_condos = condos_final[condos_final[\"year_built\"] > 1931].copy()\n",
    "# Older buildings included\n",
    "all_condo_ages = condos_final.copy()\n",
    "# Drop missing\n",
    "new_condos.dropna(axis=0, inplace=True)\n",
    "all_condo_ages.dropna(axis=0, inplace=True)"
   ]
  },
  {
   "cell_type": "code",
   "execution_count": 116,
   "metadata": {},
   "outputs": [
    {
     "output_type": "execute_result",
     "data": {
      "text/plain": "               price  year_built\nprice       1.000000    0.190398\nyear_built  0.190398    1.000000",
      "text/html": "<div>\n<style scoped>\n    .dataframe tbody tr th:only-of-type {\n        vertical-align: middle;\n    }\n\n    .dataframe tbody tr th {\n        vertical-align: top;\n    }\n\n    .dataframe thead th {\n        text-align: right;\n    }\n</style>\n<table border=\"1\" class=\"dataframe\">\n  <thead>\n    <tr style=\"text-align: right;\">\n      <th></th>\n      <th>price</th>\n      <th>year_built</th>\n    </tr>\n  </thead>\n  <tbody>\n    <tr>\n      <th>price</th>\n      <td>1.000000</td>\n      <td>0.190398</td>\n    </tr>\n    <tr>\n      <th>year_built</th>\n      <td>0.190398</td>\n      <td>1.000000</td>\n    </tr>\n  </tbody>\n</table>\n</div>"
     },
     "metadata": {},
     "execution_count": 116
    }
   ],
   "source": [
    "new_condos[[\"price\", \"year_built\"]].corr(method=\"spearman\")"
   ]
  },
  {
   "cell_type": "code",
   "execution_count": 117,
   "metadata": {},
   "outputs": [
    {
     "output_type": "execute_result",
     "data": {
      "text/plain": "               price  year_built\nprice       1.000000    0.037667\nyear_built  0.037667    1.000000",
      "text/html": "<div>\n<style scoped>\n    .dataframe tbody tr th:only-of-type {\n        vertical-align: middle;\n    }\n\n    .dataframe tbody tr th {\n        vertical-align: top;\n    }\n\n    .dataframe thead th {\n        text-align: right;\n    }\n</style>\n<table border=\"1\" class=\"dataframe\">\n  <thead>\n    <tr style=\"text-align: right;\">\n      <th></th>\n      <th>price</th>\n      <th>year_built</th>\n    </tr>\n  </thead>\n  <tbody>\n    <tr>\n      <th>price</th>\n      <td>1.000000</td>\n      <td>0.037667</td>\n    </tr>\n    <tr>\n      <th>year_built</th>\n      <td>0.037667</td>\n      <td>1.000000</td>\n    </tr>\n  </tbody>\n</table>\n</div>"
     },
     "metadata": {},
     "execution_count": 117
    }
   ],
   "source": [
    "all_condo_ages[[\"price\", \"year_built\"]].corr(method=\"spearman\")"
   ]
  },
  {
   "cell_type": "code",
   "execution_count": 118,
   "metadata": {},
   "outputs": [
    {
     "output_type": "execute_result",
     "data": {
      "text/plain": "394"
     },
     "metadata": {},
     "execution_count": 118
    }
   ],
   "source": [
    "condos_final[\"year_built\"].isnull().sum()"
   ]
  },
  {
   "cell_type": "code",
   "execution_count": 119,
   "metadata": {
    "tags": []
   },
   "outputs": [],
   "source": [
    "condos_final.dropna(axis=0, inplace=True)"
   ]
  },
  {
   "source": [
    "Neither options appear to correlate very well with price, we will therefore drop the feature"
   ],
   "cell_type": "markdown",
   "metadata": {}
  },
  {
   "cell_type": "code",
   "execution_count": 120,
   "metadata": {},
   "outputs": [],
   "source": [
    "#condos_final.drop(\"year_built\", axis=1, inplace=True)"
   ]
  },
  {
   "source": [
    "### Redundant features"
   ],
   "cell_type": "markdown",
   "metadata": {}
  },
  {
   "cell_type": "code",
   "execution_count": 121,
   "metadata": {
    "tags": []
   },
   "outputs": [
    {
     "output_type": "stream",
     "name": "stdout",
     "text": "<class 'pandas.core.frame.DataFrame'>\nInt64Index: 2854 entries, 0 to 3268\nData columns (total 63 columns):\n #   Column                                   Non-Null Count  Dtype  \n---  ------                                   --------------  -----  \n 0   index                                    2854 non-null   int64  \n 1   title                                    2854 non-null   object \n 2   address                                  2854 non-null   object \n 3   price                                    2854 non-null   int64  \n 4   lat                                      2854 non-null   float64\n 5   long                                     2854 non-null   float64\n 6   restaurants                              2854 non-null   float64\n 7   shopping                                 2854 non-null   float64\n 8   vibrant                                  2854 non-null   float64\n 9   cycling_friendly                         2854 non-null   float64\n 10  car_friendly                             2854 non-null   float64\n 11  historic                                 2854 non-null   float64\n 12  quiet                                    2854 non-null   float64\n 13  elementary_schools                       2854 non-null   float64\n 14  high_schools                             2854 non-null   float64\n 15  parks                                    2854 non-null   int64  \n 16  nightlife                                2854 non-null   float64\n 17  groceries                                2854 non-null   float64\n 18  daycares                                 2854 non-null   float64\n 19  pedestrian_friendly                      2854 non-null   float64\n 20  cafes                                    2854 non-null   float64\n 21  transit_friendly                         2854 non-null   float64\n 22  greenery                                 2854 non-null   float64\n 23  year_built                               2854 non-null   float64\n 24  population_variation_between_2011_2016_  2854 non-null   int64  \n 25  population_density_                      2854 non-null   int64  \n 26  unemployment_rate_2016_                  2854 non-null   int64  \n 27  less_than_$50,000_(%)                    2854 non-null   int64  \n 28  between_$50,000_and_$80,000_(%)          2854 non-null   int64  \n 29  between_$80,000_and_$100,000_(%)         2854 non-null   int64  \n 30  between_$100,000_and_$150,000_(%)        2854 non-null   int64  \n 31  1-person_households_(%)                  2854 non-null   int64  \n 32  2-person_households_(%)                  2854 non-null   int64  \n 33  3-person_households_(%)                  2854 non-null   int64  \n 34  4-person_households_(%)                  2854 non-null   int64  \n 35  couples_without_children_at_home_(%)     2854 non-null   int64  \n 36  couples_with_children_at_home_(%)        2854 non-null   int64  \n 37  owners_(%)                               2854 non-null   int64  \n 38  before_1960_(%)                          2854 non-null   int64  \n 39  between_1961_and_1980_(%)                2854 non-null   int64  \n 40  between_1981_and_1990_(%)                2854 non-null   int64  \n 41  between_1991_and_2000_(%)                2854 non-null   int64  \n 42  between_2001_and_2010_(%)                2854 non-null   int64  \n 43  single-family_homes_(%)                  2854 non-null   int64  \n 44  semi-detached_or_row_houses_(%)          2854 non-null   int64  \n 45  buildings_with_less_than_5_floors_(%)    2854 non-null   int64  \n 46  buildings_with_5_or_more_floors_(%)      2854 non-null   int64  \n 47  university_(%)                           2854 non-null   int64  \n 48  college_(%)                              2854 non-null   int64  \n 49  secondary_(high)_school_(%)              2854 non-null   int64  \n 50  apprentice_or_trade_school_diploma_(%)   2854 non-null   int64  \n 51  non-immigrant_population_(%)             2854 non-null   int64  \n 52  french_(%)                               2854 non-null   float64\n 53  english_(%)                              2854 non-null   float64\n 54  walk_score                               2854 non-null   float64\n 55  rooms                                    2854 non-null   float64\n 56  bedrooms                                 2854 non-null   float64\n 57  bathrooms                                2854 non-null   float64\n 58  powder_rooms                             2854 non-null   float64\n 59  total_area                               2854 non-null   float64\n 60  river_proximity                          2854 non-null   bool   \n 61  has_pool                                 2854 non-null   bool   \n 62  has_garage                               2854 non-null   bool   \ndtypes: bool(3), float64(27), int64(31), object(2)\nmemory usage: 1.3+ MB\n"
    }
   ],
   "source": [
    "# Drop redundant features to avoide multicolinearity\n",
    "final_drop =[\"n_parking\", \"new_area_from_rooms\", \"new_area_from_price\", \"basement_bedroom\",\\\n",
    "\"others_languages_(%)\", \"immigrant_population_(%)\", \"no_diploma_(%)\", \"mobile_homes_(%)\",\\\n",
    "    \"between_2011_and_2016_(%)\", \"renters_(%)\", \"single-parent_families_(%)\", \"5-person_or_more_households_(%)\",\\\n",
    "        \"more_than_$150,000_(%)\", \"population_2016_\"]\n",
    "condos_final.drop(final_drop, axis=1, inplace=True)\n",
    "condos_final.dropna(inplace=True)\n",
    "condos_final.info()"
   ]
  },
  {
   "source": [
    "### Price outliers"
   ],
   "cell_type": "markdown",
   "metadata": {}
  },
  {
   "cell_type": "code",
   "execution_count": 122,
   "metadata": {
    "tags": []
   },
   "outputs": [
    {
     "output_type": "stream",
     "name": "stdout",
     "text": "1465    15435000\n1464    13435000\n492      9500000\n1497     8990000\n3181     8500000\n3122     7300000\n1542     7190000\n3036     6950000\n1534     6900000\n1499     6790000\nName: price, dtype: int64\n4       177800\n930     175500\n1250    175000\n202     174000\n3129    169000\n1110    159000\n2848    155000\n8       139000\n1425    139000\n417     129900\nName: price, dtype: int64\n"
    }
   ],
   "source": [
    "# Price outliers\n",
    "print(condos_final.price.sort_values(ascending=False).head(10))\n",
    "print(condos_final.price.sort_values(ascending=False).tail(10))"
   ]
  },
  {
   "cell_type": "code",
   "execution_count": 123,
   "metadata": {},
   "outputs": [],
   "source": [
    "# Remove outliers based on previous residual plot in visualizations.ipynb\n",
    "condos_final = condos_final[condos_final.price < 1200000]\n",
    "condos_final.reset_index(inplace=True, drop=True)"
   ]
  },
  {
   "cell_type": "code",
   "execution_count": 124,
   "metadata": {
    "tags": []
   },
   "outputs": [
    {
     "output_type": "stream",
     "name": "stdout",
     "text": "<class 'pandas.core.frame.DataFrame'>\nRangeIndex: 2678 entries, 0 to 2677\nData columns (total 21 columns):\n #   Column                   Non-Null Count  Dtype  \n---  ------                   --------------  -----  \n 0   address                  2678 non-null   object \n 1   lat                      2678 non-null   float64\n 2   long                     2678 non-null   float64\n 3   price                    2678 non-null   int64  \n 4   total_area               2678 non-null   float64\n 5   restaurants              2678 non-null   float64\n 6   vibrant                  2678 non-null   float64\n 7   cycling_friendly         2678 non-null   float64\n 8   historic                 2678 non-null   float64\n 9   parks                    2678 non-null   int64  \n 10  groceries                2678 non-null   float64\n 11  pedestrian_friendly      2678 non-null   float64\n 12  transit_friendly         2678 non-null   float64\n 13  greenery                 2678 non-null   float64\n 14  year_built               2678 non-null   float64\n 15  unemployment_rate_2016_  2678 non-null   int64  \n 16  bathrooms                2678 non-null   float64\n 17  powder_rooms             2678 non-null   float64\n 18  river_proximity          2678 non-null   bool   \n 19  has_pool                 2678 non-null   bool   \n 20  has_garage               2678 non-null   bool   \ndtypes: bool(3), float64(14), int64(3), object(1)\nmemory usage: 384.6+ KB\n"
    }
   ],
   "source": [
    "# Test features\n",
    "#  Remove features based on regression coefs\n",
    "test_cols = ['address', 'lat', 'long', 'price', 'total_area', 'restaurants',\n",
    "       'vibrant', 'cycling_friendly', 'historic',\n",
    "       'parks', 'groceries', 'pedestrian_friendly',\n",
    "       'transit_friendly', 'greenery', 'year_built',\n",
    "       'unemployment_rate_2016_', 'bathrooms', \n",
    "       'powder_rooms', 'river_proximity', 'has_pool', 'has_garage']\n",
    "condos_test = condos_final[test_cols]\n",
    "condos_test.info() "
   ]
  },
  {
   "cell_type": "code",
   "execution_count": 132,
   "metadata": {},
   "outputs": [],
   "source": [
    "# Read final finals to csv\n",
    "condos_test.to_csv(\"data/model_data.csv\")\n",
    "condos_final.to_csv(\"data/condos.csv\")"
   ]
  }
 ],
 "metadata": {
  "kernelspec": {
   "display_name": "Python 3",
   "language": "python",
   "name": "python3"
  },
  "language_info": {
   "codemirror_mode": {
    "name": "ipython",
    "version": 3
   },
   "file_extension": ".py",
   "mimetype": "text/x-python",
   "name": "python",
   "nbconvert_exporter": "python",
   "pygments_lexer": "ipython3",
   "version": "3.8.5-final"
  }
 },
 "nbformat": 4,
 "nbformat_minor": 2
}